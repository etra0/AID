{
 "cells": [
  {
   "cell_type": "markdown",
   "metadata": {},
   "source": [
    "# Proyecto de Análisis Inteligente de Datos (INF-390)\n",
    "# TMDb y redes neuronales\n",
    "\n",
    "### Integrantes\n",
    "* Sebastián Aedo\n",
    "* Diego Córdova\n",
    "\n",
    "#### Noviembre 2017"
   ]
  },
  {
   "cell_type": "markdown",
   "metadata": {},
   "source": [
    "## Caso de estudio\n",
    "\n",
    "El dataset que se estudiará esta compuesto por 19 características de hasta 5000 películas, tales como el género, ranking, popularidad, reseña, y otros. El objetivo de la mayoria de los estudios anteriores sobre este mismo dataset es el tratar de predecir el éxito de una película en base sus atributo. Sin embargo, pueden requerirse técnicas bastante complejas para generar predicciones que involucren tantos factores, por lo que nosotros apuntaremos por un objetivo mas pequeño, pero también relacionado con predicción. \n",
    "\n",
    "## Propuesta\n",
    "\n",
    "Debido a que resulta bastante intuitivo que la reseña de una pélicula, o **overview**, este relacionado directamente con el **género** de esta. El principal objetivo de estas reseñas es dar rapidamente una idea de la historia y a que género pertenece. Por tanto nuestra meta será aplicar alguna técnica que nos permita predecir a partir de un overview su género correspondiente.\n",
    "\n",
    "Para lograr está predicción se aplicará un modelo de redes neuronales que reciba como entrada el texto de la reseña, y nos entregue como resultado el género correspondiente. \n",
    "\n",
    "## Objetivos\n",
    "\n",
    "* Implementar un modelo de redes neuronales.\n",
    "* Aprender ell proceso de ajuste de parámetros.\n",
    "* Aprender\n"
   ]
  },
  {
   "cell_type": "code",
   "execution_count": 1,
   "metadata": {},
   "outputs": [
    {
     "name": "stderr",
     "output_type": "stream",
     "text": [
      "Using TensorFlow backend.\n",
      "/home/saedo/Projects/AID/venv/lib64/python3.6/importlib/_bootstrap.py:205: RuntimeWarning: compiletime version 3.5 of module 'tensorflow.python.framework.fast_tensor_util' does not match runtime version 3.6\n",
      "  return f(*args, **kwds)\n"
     ]
    }
   ],
   "source": [
    "# Librerias a usar\n",
    "\n",
    "import pandas as pd\n",
    "import numpy as np\n",
    "import matplotlib.pyplot as plt\n",
    "import random as r\n",
    "import json\n",
    "\n",
    "# keras\n",
    "from keras.models import Sequential\n",
    "from keras.layers import Dense, Activation, Dropout\n",
    "from keras.wrappers.scikit_learn import KerasClassifier\n",
    "from keras.utils import np_utils\n",
    "\n",
    "#scikit\n",
    "from sklearn.model_selection import cross_val_score\n",
    "from sklearn.model_selection import KFold\n",
    "from sklearn.preprocessing import LabelEncoder\n",
    "from sklearn.pipeline import Pipeline\n",
    "\n",
    "%matplotlib inline\n",
    "seed = 29\n",
    "r.seed(29)\n"
   ]
  },
  {
   "cell_type": "markdown",
   "metadata": {},
   "source": [
    "\n",
    "## Extracción de información\n",
    "\n",
    "Lo primero que haremos, será importar la data ([Source](https://www.kaggle.com/tmdb/tmdb-movie-metadata/data)) usando pandas"
   ]
  },
  {
   "cell_type": "code",
   "execution_count": 2,
   "metadata": {},
   "outputs": [],
   "source": [
    "df = pd.read_csv(\"tmdb_5000_movies.csv\")"
   ]
  },
  {
   "cell_type": "code",
   "execution_count": 29,
   "metadata": {},
   "outputs": [
    {
     "data": {
      "text/html": [
       "<div>\n",
       "<style scoped>\n",
       "    .dataframe tbody tr th:only-of-type {\n",
       "        vertical-align: middle;\n",
       "    }\n",
       "\n",
       "    .dataframe tbody tr th {\n",
       "        vertical-align: top;\n",
       "    }\n",
       "\n",
       "    .dataframe thead th {\n",
       "        text-align: right;\n",
       "    }\n",
       "</style>\n",
       "<table border=\"1\" class=\"dataframe\">\n",
       "  <thead>\n",
       "    <tr style=\"text-align: right;\">\n",
       "      <th></th>\n",
       "      <th>budget</th>\n",
       "      <th>genres</th>\n",
       "      <th>homepage</th>\n",
       "      <th>id</th>\n",
       "      <th>keywords</th>\n",
       "      <th>original_language</th>\n",
       "      <th>original_title</th>\n",
       "      <th>overview</th>\n",
       "      <th>popularity</th>\n",
       "      <th>production_companies</th>\n",
       "      <th>production_countries</th>\n",
       "      <th>release_date</th>\n",
       "      <th>revenue</th>\n",
       "      <th>runtime</th>\n",
       "      <th>spoken_languages</th>\n",
       "      <th>status</th>\n",
       "      <th>tagline</th>\n",
       "      <th>title</th>\n",
       "      <th>vote_average</th>\n",
       "      <th>vote_count</th>\n",
       "    </tr>\n",
       "  </thead>\n",
       "  <tbody>\n",
       "    <tr>\n",
       "      <th>0</th>\n",
       "      <td>237000000</td>\n",
       "      <td>[{\"id\": 28, \"name\": \"Action\"}, {\"id\": 12, \"nam...</td>\n",
       "      <td>http://www.avatarmovie.com/</td>\n",
       "      <td>19995</td>\n",
       "      <td>[{\"id\": 1463, \"name\": \"culture clash\"}, {\"id\":...</td>\n",
       "      <td>en</td>\n",
       "      <td>Avatar</td>\n",
       "      <td>In the 22nd century, a paraplegic Marine is di...</td>\n",
       "      <td>150.437577</td>\n",
       "      <td>[{\"name\": \"Ingenious Film Partners\", \"id\": 289...</td>\n",
       "      <td>[{\"iso_3166_1\": \"US\", \"name\": \"United States o...</td>\n",
       "      <td>2009-12-10</td>\n",
       "      <td>2787965087</td>\n",
       "      <td>162.0</td>\n",
       "      <td>[{\"iso_639_1\": \"en\", \"name\": \"English\"}, {\"iso...</td>\n",
       "      <td>Released</td>\n",
       "      <td>Enter the World of Pandora.</td>\n",
       "      <td>Avatar</td>\n",
       "      <td>7.2</td>\n",
       "      <td>11800</td>\n",
       "    </tr>\n",
       "    <tr>\n",
       "      <th>1</th>\n",
       "      <td>300000000</td>\n",
       "      <td>[{\"id\": 12, \"name\": \"Adventure\"}, {\"id\": 14, \"...</td>\n",
       "      <td>http://disney.go.com/disneypictures/pirates/</td>\n",
       "      <td>285</td>\n",
       "      <td>[{\"id\": 270, \"name\": \"ocean\"}, {\"id\": 726, \"na...</td>\n",
       "      <td>en</td>\n",
       "      <td>Pirates of the Caribbean: At World's End</td>\n",
       "      <td>Captain Barbossa, long believed to be dead, ha...</td>\n",
       "      <td>139.082615</td>\n",
       "      <td>[{\"name\": \"Walt Disney Pictures\", \"id\": 2}, {\"...</td>\n",
       "      <td>[{\"iso_3166_1\": \"US\", \"name\": \"United States o...</td>\n",
       "      <td>2007-05-19</td>\n",
       "      <td>961000000</td>\n",
       "      <td>169.0</td>\n",
       "      <td>[{\"iso_639_1\": \"en\", \"name\": \"English\"}]</td>\n",
       "      <td>Released</td>\n",
       "      <td>At the end of the world, the adventure begins.</td>\n",
       "      <td>Pirates of the Caribbean: At World's End</td>\n",
       "      <td>6.9</td>\n",
       "      <td>4500</td>\n",
       "    </tr>\n",
       "    <tr>\n",
       "      <th>2</th>\n",
       "      <td>245000000</td>\n",
       "      <td>[{\"id\": 28, \"name\": \"Action\"}, {\"id\": 12, \"nam...</td>\n",
       "      <td>http://www.sonypictures.com/movies/spectre/</td>\n",
       "      <td>206647</td>\n",
       "      <td>[{\"id\": 470, \"name\": \"spy\"}, {\"id\": 818, \"name...</td>\n",
       "      <td>en</td>\n",
       "      <td>Spectre</td>\n",
       "      <td>A cryptic message from Bond’s past sends him o...</td>\n",
       "      <td>107.376788</td>\n",
       "      <td>[{\"name\": \"Columbia Pictures\", \"id\": 5}, {\"nam...</td>\n",
       "      <td>[{\"iso_3166_1\": \"GB\", \"name\": \"United Kingdom\"...</td>\n",
       "      <td>2015-10-26</td>\n",
       "      <td>880674609</td>\n",
       "      <td>148.0</td>\n",
       "      <td>[{\"iso_639_1\": \"fr\", \"name\": \"Fran\\u00e7ais\"},...</td>\n",
       "      <td>Released</td>\n",
       "      <td>A Plan No One Escapes</td>\n",
       "      <td>Spectre</td>\n",
       "      <td>6.3</td>\n",
       "      <td>4466</td>\n",
       "    </tr>\n",
       "    <tr>\n",
       "      <th>3</th>\n",
       "      <td>250000000</td>\n",
       "      <td>[{\"id\": 28, \"name\": \"Action\"}, {\"id\": 80, \"nam...</td>\n",
       "      <td>http://www.thedarkknightrises.com/</td>\n",
       "      <td>49026</td>\n",
       "      <td>[{\"id\": 849, \"name\": \"dc comics\"}, {\"id\": 853,...</td>\n",
       "      <td>en</td>\n",
       "      <td>The Dark Knight Rises</td>\n",
       "      <td>Following the death of District Attorney Harve...</td>\n",
       "      <td>112.312950</td>\n",
       "      <td>[{\"name\": \"Legendary Pictures\", \"id\": 923}, {\"...</td>\n",
       "      <td>[{\"iso_3166_1\": \"US\", \"name\": \"United States o...</td>\n",
       "      <td>2012-07-16</td>\n",
       "      <td>1084939099</td>\n",
       "      <td>165.0</td>\n",
       "      <td>[{\"iso_639_1\": \"en\", \"name\": \"English\"}]</td>\n",
       "      <td>Released</td>\n",
       "      <td>The Legend Ends</td>\n",
       "      <td>The Dark Knight Rises</td>\n",
       "      <td>7.6</td>\n",
       "      <td>9106</td>\n",
       "    </tr>\n",
       "    <tr>\n",
       "      <th>4</th>\n",
       "      <td>260000000</td>\n",
       "      <td>[{\"id\": 28, \"name\": \"Action\"}, {\"id\": 12, \"nam...</td>\n",
       "      <td>http://movies.disney.com/john-carter</td>\n",
       "      <td>49529</td>\n",
       "      <td>[{\"id\": 818, \"name\": \"based on novel\"}, {\"id\":...</td>\n",
       "      <td>en</td>\n",
       "      <td>John Carter</td>\n",
       "      <td>John Carter is a war-weary, former military ca...</td>\n",
       "      <td>43.926995</td>\n",
       "      <td>[{\"name\": \"Walt Disney Pictures\", \"id\": 2}]</td>\n",
       "      <td>[{\"iso_3166_1\": \"US\", \"name\": \"United States o...</td>\n",
       "      <td>2012-03-07</td>\n",
       "      <td>284139100</td>\n",
       "      <td>132.0</td>\n",
       "      <td>[{\"iso_639_1\": \"en\", \"name\": \"English\"}]</td>\n",
       "      <td>Released</td>\n",
       "      <td>Lost in our world, found in another.</td>\n",
       "      <td>John Carter</td>\n",
       "      <td>6.1</td>\n",
       "      <td>2124</td>\n",
       "    </tr>\n",
       "  </tbody>\n",
       "</table>\n",
       "</div>"
      ],
      "text/plain": [
       "      budget                                             genres  \\\n",
       "0  237000000  [{\"id\": 28, \"name\": \"Action\"}, {\"id\": 12, \"nam...   \n",
       "1  300000000  [{\"id\": 12, \"name\": \"Adventure\"}, {\"id\": 14, \"...   \n",
       "2  245000000  [{\"id\": 28, \"name\": \"Action\"}, {\"id\": 12, \"nam...   \n",
       "3  250000000  [{\"id\": 28, \"name\": \"Action\"}, {\"id\": 80, \"nam...   \n",
       "4  260000000  [{\"id\": 28, \"name\": \"Action\"}, {\"id\": 12, \"nam...   \n",
       "\n",
       "                                       homepage      id  \\\n",
       "0                   http://www.avatarmovie.com/   19995   \n",
       "1  http://disney.go.com/disneypictures/pirates/     285   \n",
       "2   http://www.sonypictures.com/movies/spectre/  206647   \n",
       "3            http://www.thedarkknightrises.com/   49026   \n",
       "4          http://movies.disney.com/john-carter   49529   \n",
       "\n",
       "                                            keywords original_language  \\\n",
       "0  [{\"id\": 1463, \"name\": \"culture clash\"}, {\"id\":...                en   \n",
       "1  [{\"id\": 270, \"name\": \"ocean\"}, {\"id\": 726, \"na...                en   \n",
       "2  [{\"id\": 470, \"name\": \"spy\"}, {\"id\": 818, \"name...                en   \n",
       "3  [{\"id\": 849, \"name\": \"dc comics\"}, {\"id\": 853,...                en   \n",
       "4  [{\"id\": 818, \"name\": \"based on novel\"}, {\"id\":...                en   \n",
       "\n",
       "                             original_title  \\\n",
       "0                                    Avatar   \n",
       "1  Pirates of the Caribbean: At World's End   \n",
       "2                                   Spectre   \n",
       "3                     The Dark Knight Rises   \n",
       "4                               John Carter   \n",
       "\n",
       "                                            overview  popularity  \\\n",
       "0  In the 22nd century, a paraplegic Marine is di...  150.437577   \n",
       "1  Captain Barbossa, long believed to be dead, ha...  139.082615   \n",
       "2  A cryptic message from Bond’s past sends him o...  107.376788   \n",
       "3  Following the death of District Attorney Harve...  112.312950   \n",
       "4  John Carter is a war-weary, former military ca...   43.926995   \n",
       "\n",
       "                                production_companies  \\\n",
       "0  [{\"name\": \"Ingenious Film Partners\", \"id\": 289...   \n",
       "1  [{\"name\": \"Walt Disney Pictures\", \"id\": 2}, {\"...   \n",
       "2  [{\"name\": \"Columbia Pictures\", \"id\": 5}, {\"nam...   \n",
       "3  [{\"name\": \"Legendary Pictures\", \"id\": 923}, {\"...   \n",
       "4        [{\"name\": \"Walt Disney Pictures\", \"id\": 2}]   \n",
       "\n",
       "                                production_countries release_date     revenue  \\\n",
       "0  [{\"iso_3166_1\": \"US\", \"name\": \"United States o...   2009-12-10  2787965087   \n",
       "1  [{\"iso_3166_1\": \"US\", \"name\": \"United States o...   2007-05-19   961000000   \n",
       "2  [{\"iso_3166_1\": \"GB\", \"name\": \"United Kingdom\"...   2015-10-26   880674609   \n",
       "3  [{\"iso_3166_1\": \"US\", \"name\": \"United States o...   2012-07-16  1084939099   \n",
       "4  [{\"iso_3166_1\": \"US\", \"name\": \"United States o...   2012-03-07   284139100   \n",
       "\n",
       "   runtime                                   spoken_languages    status  \\\n",
       "0    162.0  [{\"iso_639_1\": \"en\", \"name\": \"English\"}, {\"iso...  Released   \n",
       "1    169.0           [{\"iso_639_1\": \"en\", \"name\": \"English\"}]  Released   \n",
       "2    148.0  [{\"iso_639_1\": \"fr\", \"name\": \"Fran\\u00e7ais\"},...  Released   \n",
       "3    165.0           [{\"iso_639_1\": \"en\", \"name\": \"English\"}]  Released   \n",
       "4    132.0           [{\"iso_639_1\": \"en\", \"name\": \"English\"}]  Released   \n",
       "\n",
       "                                          tagline  \\\n",
       "0                     Enter the World of Pandora.   \n",
       "1  At the end of the world, the adventure begins.   \n",
       "2                           A Plan No One Escapes   \n",
       "3                                 The Legend Ends   \n",
       "4            Lost in our world, found in another.   \n",
       "\n",
       "                                      title  vote_average  vote_count  \n",
       "0                                    Avatar           7.2       11800  \n",
       "1  Pirates of the Caribbean: At World's End           6.9        4500  \n",
       "2                                   Spectre           6.3        4466  \n",
       "3                     The Dark Knight Rises           7.6        9106  \n",
       "4                               John Carter           6.1        2124  "
      ]
     },
     "execution_count": 29,
     "metadata": {},
     "output_type": "execute_result"
    }
   ],
   "source": [
    "df.head()"
   ]
  },
  {
   "cell_type": "code",
   "execution_count": 4,
   "metadata": {
    "scrolled": false
   },
   "outputs": [
    {
     "name": "stdout",
     "output_type": "stream",
     "text": [
      "<class 'pandas.core.frame.DataFrame'>\n",
      "RangeIndex: 4803 entries, 0 to 4802\n",
      "Data columns (total 20 columns):\n",
      "budget                  4803 non-null int64\n",
      "genres                  4803 non-null object\n",
      "homepage                1712 non-null object\n",
      "id                      4803 non-null int64\n",
      "keywords                4803 non-null object\n",
      "original_language       4803 non-null object\n",
      "original_title          4803 non-null object\n",
      "overview                4800 non-null object\n",
      "popularity              4803 non-null float64\n",
      "production_companies    4803 non-null object\n",
      "production_countries    4803 non-null object\n",
      "release_date            4802 non-null object\n",
      "revenue                 4803 non-null int64\n",
      "runtime                 4801 non-null float64\n",
      "spoken_languages        4803 non-null object\n",
      "status                  4803 non-null object\n",
      "tagline                 3959 non-null object\n",
      "title                   4803 non-null object\n",
      "vote_average            4803 non-null float64\n",
      "vote_count              4803 non-null int64\n",
      "dtypes: float64(3), int64(4), object(13)\n",
      "memory usage: 750.5+ KB\n"
     ]
    }
   ],
   "source": [
    "df.info()"
   ]
  },
  {
   "cell_type": "markdown",
   "metadata": {},
   "source": [
    "En este caso, lo que necesitamos es sólamente el **género** y la **overview** para entrenar la red neuronal, por lo tanto se extraerá ésto."
   ]
  },
  {
   "cell_type": "code",
   "execution_count": 5,
   "metadata": {},
   "outputs": [
    {
     "name": "stdout",
     "output_type": "stream",
     "text": [
      "[{\"id\": 28, \"name\": \"Action\"}, {\"id\": 12, \"name\": \"Adventure\"}, {\"id\": 14, \"name\": \"Fantasy\"}, {\"id\": 878, \"name\": \"Science Fiction\"}]\n",
      "In the 22nd century, a paraplegic Marine is dispatched to the moon Pandora on a unique mission, but becomes torn between following orders and protecting an alien civilization.\n"
     ]
    }
   ],
   "source": [
    "print(df['genres'][0])\n",
    "print(df['overview'][0])"
   ]
  },
  {
   "cell_type": "markdown",
   "metadata": {},
   "source": [
    "## Preparación del los datos de prueba. (\"Training data\")\n",
    "\n",
    "Se puede observar, como ser humano hay una relación inherente entre las etiquetas y la descripción de la película."
   ]
  },
  {
   "cell_type": "code",
   "execution_count": 6,
   "metadata": {},
   "outputs": [],
   "source": [
    "def generate_data():\n",
    "    final_list = []\n",
    "    for i, row in df.iterrows():\n",
    "        temp_dict = dict()\n",
    "        genres = json.loads(row['genres'])\n",
    "        genres = [item['name'] for item in genres]\n",
    "        \n",
    "        # peliculas sin genero\n",
    "        if len(genres) == 0 or (type(row['overview']) == str and len(row['overview']) < 3) or type(row['overview']) == float:\n",
    "            continue\n",
    "\n",
    "        temp_dict['class'] = genres\n",
    "        temp_dict['sentence'] = row['overview']\n",
    "        final_list.append(temp_dict)\n",
    "    return final_list"
   ]
  },
  {
   "cell_type": "code",
   "execution_count": 7,
   "metadata": {},
   "outputs": [],
   "source": [
    "training_data = generate_data()"
   ]
  },
  {
   "cell_type": "code",
   "execution_count": 28,
   "metadata": {},
   "outputs": [
    {
     "name": "stdout",
     "output_type": "stream",
     "text": [
      "4771\n"
     ]
    },
    {
     "data": {
      "text/plain": [
       "{'class': ['Comedy'],\n",
       " 'sentence': \"Multi-platinum rap superstars Redman and Method Man star as Jamal and Silas, two regular guys who smoke something magical, ace their college entrance exams and wind up at Harvard. Ivy League ways are strange but Silas and Jamal take it in a stride -- until their supply of supernatural smoke runs dry. That's when they have to start living by their wits and rely on their natural resources to make the grade.\"}"
      ]
     },
     "execution_count": 28,
     "metadata": {},
     "output_type": "execute_result"
    }
   ],
   "source": [
    "print(len(training_data))\n",
    "r.choice(training_data)"
   ]
  },
  {
   "cell_type": "markdown",
   "metadata": {},
   "source": [
    "## Red Neuronal.\n",
    "\n",
    "Una vez preparado la `training_data`, se procederá a construir la red neuronal.\n",
    "\n",
    "### Stemming de palabras.\n",
    "\n",
    "Con el fin de obtener mejores resultados, cada palabra se reducirá a su raiz mediante el metodo de stemming. De esta manera, si una palabra se relaciona fuertemente con cierto género, también lo harán todas las palabras de la misma familia o tipo.\n",
    "\n",
    "### Bag of words.\n",
    "\n",
    "Se usará el método bag of words, que es básicamente agrupar todas las palabras, sin importan su orden inicial y sus repeticiones. Si bien la semántica si puede tener importancia en estos casos, su análisis es mucho mas complejo. Este método aunque sea mas simple puede traer buenos resultados para este caso, ya creemos que los generos estarán relacionados con palabras claves con los que se suele describir cada uno.\n"
   ]
  },
  {
   "cell_type": "code",
   "execution_count": 9,
   "metadata": {},
   "outputs": [],
   "source": [
    "# use natural language toolkit\n",
    "import nltk\n",
    "from nltk.stem.lancaster import LancasterStemmer\n",
    "import os\n",
    "import json\n",
    "import datetime\n",
    "from nltk.corpus import stopwords\n",
    "stemmer = LancasterStemmer()\n",
    "\n",
    "stopwords = set(stopwords.words('english'))"
   ]
  },
  {
   "cell_type": "code",
   "execution_count": 10,
   "metadata": {
    "scrolled": true
   },
   "outputs": [
    {
     "name": "stdout",
     "output_type": "stream",
     "text": [
      "4771 documents\n",
      "20 classes ['Action', 'Adventure', 'Fantasy', 'Science Fiction', 'Crime', 'Drama', 'Thriller', 'Animation', 'Family', 'Western', 'Comedy', 'Romance', 'Horror', 'Mystery', 'History', 'War', 'Music', 'Documentary', 'Foreign', 'TV Movie']\n"
     ]
    }
   ],
   "source": [
    "words = []\n",
    "documents = []\n",
    "class_counter = {}\n",
    "ignore_words = ['?', '.', ',', \"'\", '\"']\n",
    "# loop through each sentence in our training data\n",
    "for pattern in training_data:\n",
    "    # tokenize each word in the sentence\n",
    "    w = nltk.word_tokenize(pattern['sentence'])\n",
    "    # add to our words list ignoring stopwords\n",
    "    words.extend([i for i in w if i not in stopwords])\n",
    "    # add to documents in our corpus\n",
    "    documents.append((w, pattern['class']))\n",
    "    # add to our classes list\n",
    "    for c in pattern['class']:\n",
    "        if c not in class_counter:\n",
    "            class_counter[c] = 0\n",
    "        class_counter[c] += 1\n",
    "    \n",
    "\n",
    "# stem and lower each word and remove duplicates\n",
    "words = [stemmer.stem(w.lower()) for w in words if w not in ignore_words]\n",
    "words = list(set(words))\n",
    "\n",
    "# remove duplicates\n",
    "classes = list(class_counter.keys())\n",
    "\n",
    "print (len(documents), \"documents\")\n",
    "print (len(classes), \"classes\", classes)"
   ]
  },
  {
   "cell_type": "code",
   "execution_count": 11,
   "metadata": {
    "scrolled": false
   },
   "outputs": [],
   "source": [
    "# create our training data\n",
    "training = []\n",
    "output = []\n",
    "# create an empty array for our output\n",
    "output_empty = [0] * len(classes)\n",
    "\n",
    "# training set, bag of words for each sentence\n",
    "for doc in documents:\n",
    "    # initialize our bag of words\n",
    "    bag = []\n",
    "    # list of tokenized words for the pattern\n",
    "    pattern_words = doc[0]\n",
    "    # stem each word\n",
    "    pattern_words = [stemmer.stem(word.lower()) for word in pattern_words]\n",
    "    # create our bag of words array\n",
    "    for w in words:\n",
    "        bag.append(1) if w in pattern_words else bag.append(0)\n",
    "\n",
    "    training.append(bag)\n",
    "    # output is a '0' for each tag and '1' for current tag\n",
    "    output_row = list(output_empty)\n",
    "    \n",
    "    for c in doc[1]:\n",
    "        output_row[classes.index(c)] = 1\n",
    "    output.append(output_row)\n",
    "\n",
    "# sample training/output\n",
    "i = 0\n",
    "w = documents[i][0]"
   ]
  },
  {
   "cell_type": "markdown",
   "metadata": {},
   "source": [
    "## Previo a entrenar\n",
    "\n",
    "Lo primero a revisar es ver si la distribución de clases está equilibrada, para saber si existe una *\"igual probabilidad\"* para cada una de ellas."
   ]
  },
  {
   "cell_type": "code",
   "execution_count": 44,
   "metadata": {},
   "outputs": [
    {
     "data": {
      "image/png": "[encoded data removed]",
      "text/plain": [
       "<matplotlib.figure.Figure at 0x7f3dc3489048>"
      ]
     },
     "metadata": {},
     "output_type": "display_data"
    }
   ],
   "source": [
    "fig, ax = plt.subplots(figsize=(8,6))\n",
    "\n",
    "list_class_counter = sorted(class_counter.items(), key=lambda x: x[1])\n",
    "x_label, y_data = zip(*list_class_counter)\n",
    "x_label = list(x_label)\n",
    "y_data = np.array(y_data)\n",
    "ind = np.arange(len(x_label))\n",
    "ax.barh(ind, y_data/y_data.sum())\n",
    "ax.set_yticks(ind)\n",
    "ax.set_yticklabels(x_label);\n",
    "ax.set_title(\"Class Distribution\")\n",
    "plt.tight_layout()\n",
    "fig.savefig(\"class_distribution.eps\")"
   ]
  },
  {
   "cell_type": "markdown",
   "metadata": {},
   "source": [
    "Se puede notar que las clases están bastante desbalanceadas. Esto podría parecer un problema, pero la verdad no tenemos manera arreglarlo, ya que la muestra parece ser significativa y no hay nada que nos indique que esta no sea la manera en que se comportan los datos de los géneros de películas. Ideas como hacer resampling con métodos como bootstrap quedan descartados por el hecho de que anterarían la naturaleza de los datos, haciendo mas comunes géneros que no lo son, y los resultados se verían perjudicados. "
   ]
  },
  {
   "cell_type": "code",
   "execution_count": 13,
   "metadata": {},
   "outputs": [],
   "source": [
    "X = np.array(training)\n",
    "y = np.array(output)"
   ]
  },
  {
   "cell_type": "code",
   "execution_count": 14,
   "metadata": {},
   "outputs": [],
   "source": [
    "train_X = X[:int(len(X)*0.8)]\n",
    "train_Y = y[:int(len(y)*0.8)]\n",
    "\n",
    "test_X = X[int(len(X)*0.8):]\n",
    "test_Y = y[int(len(y)*0.8):]"
   ]
  },
  {
   "cell_type": "code",
   "execution_count": 15,
   "metadata": {},
   "outputs": [
    {
     "name": "stdout",
     "output_type": "stream",
     "text": [
      "(3816, 14979)\n",
      "(955, 14979)\n"
     ]
    }
   ],
   "source": [
    "print(train_X.shape)\n",
    "print(test_X.shape)"
   ]
  },
  {
   "cell_type": "code",
   "execution_count": 31,
   "metadata": {},
   "outputs": [],
   "source": [
    "def prepare_model(n):\n",
    "    model = Sequential()\n",
    "    model.add(Dense(n, input_dim=train_X.shape[1], kernel_initializer='uniform', activation=\"relu\"))\n",
    "    #model.add(Dropout(0.5))\n",
    "    #model.add(Dense(1024, kernel_initializer='uniform', activation=\"relu\"))\n",
    "    #model.add(Dropout(0.1))\n",
    "    #model.add(Dense(512, kernel_initializer='uniform', activation=\"relu\"))\n",
    "    model.add(Dense(train_Y.shape[1]))\n",
    "    model.add(Activation(\"softmax\"))\n",
    "\n",
    "    model.compile(loss='categorical_crossentropy', optimizer='adam', metrics=['accuracy'])\n",
    "    return model"
   ]
  },
  {
   "cell_type": "code",
   "execution_count": 17,
   "metadata": {},
   "outputs": [],
   "source": [
    "model = prepare_model(1024)"
   ]
  },
  {
   "cell_type": "markdown",
   "metadata": {},
   "source": [
    "## Entrenamiento del modelo."
   ]
  },
  {
   "cell_type": "code",
   "execution_count": 18,
   "metadata": {
    "scrolled": false
   },
   "outputs": [
    {
     "name": "stdout",
     "output_type": "stream",
     "text": [
      "Epoch 1/10\n",
      "3816/3816 [==============================] - 14s 4ms/step - loss: 6.4376 - acc: 0.3493\n",
      "Epoch 2/10\n",
      "3816/3816 [==============================] - 14s 4ms/step - loss: 4.5423 - acc: 0.4651\n",
      "Epoch 3/10\n",
      "3816/3816 [==============================] - 14s 4ms/step - loss: 3.7678 - acc: 0.4680\n",
      "Epoch 4/10\n",
      "3816/3816 [==============================] - 14s 4ms/step - loss: 3.7203 - acc: 0.4638\n",
      "Epoch 5/10\n",
      "3816/3816 [==============================] - 14s 4ms/step - loss: 3.6275 - acc: 0.4803\n",
      "Epoch 6/10\n",
      "3816/3816 [==============================] - 14s 4ms/step - loss: 3.4382 - acc: 0.4594\n",
      "Epoch 7/10\n",
      "3816/3816 [==============================] - 14s 4ms/step - loss: 3.3497 - acc: 0.4612\n",
      "Epoch 8/10\n",
      "3816/3816 [==============================] - 14s 4ms/step - loss: 3.3043 - acc: 0.4497\n",
      "Epoch 9/10\n",
      "3816/3816 [==============================] - 14s 4ms/step - loss: 3.2567 - acc: 0.4602\n",
      "Epoch 10/10\n",
      "3816/3816 [==============================] - 14s 4ms/step - loss: 3.2132 - acc: 0.4568\n"
     ]
    },
    {
     "data": {
      "text/plain": [
       "<keras.callbacks.History at 0x7f3dc35fe3c8>"
      ]
     },
     "execution_count": 18,
     "metadata": {},
     "output_type": "execute_result"
    }
   ],
   "source": [
    "model.fit(train_X, train_Y, epochs=10, batch_size=64, verbose=1, shuffle=True)"
   ]
  },
  {
   "cell_type": "markdown",
   "metadata": {},
   "source": [
    "## Test del modelo.\n",
    "Se procede a probar el modelo con los casos de prueba."
   ]
  },
  {
   "cell_type": "code",
   "execution_count": 19,
   "metadata": {},
   "outputs": [
    {
     "name": "stdout",
     "output_type": "stream",
     "text": [
      "955/955 [==============================] - 1s 726us/step\n",
      "\n",
      "Loss: 5.240 \t Accuracy: 0.390\n"
     ]
    }
   ],
   "source": [
    "score=model.evaluate(test_X, test_Y, verbose=1)\n",
    "print(\"\\nLoss: %.3f \\t Accuracy: %.3f\" % (score[0], score[1]))"
   ]
  },
  {
   "cell_type": "markdown",
   "metadata": {},
   "source": [
    "## Probando distintas cantidades de neuronas"
   ]
  },
  {
   "cell_type": "code",
   "execution_count": 32,
   "metadata": {
    "scrolled": false
   },
   "outputs": [
    {
     "name": "stdout",
     "output_type": "stream",
     "text": [
      "Epoch 1/10\n",
      "3816/3816 [==============================] - 4s 1ms/step - loss: 6.7181 - acc: 0.3215\n",
      "Epoch 2/10\n",
      "3816/3816 [==============================] - 4s 993us/step - loss: 5.1837 - acc: 0.4536\n",
      "Epoch 3/10\n",
      "3816/3816 [==============================] - 4s 994us/step - loss: 4.2419 - acc: 0.4680\n",
      "Epoch 4/10\n",
      "3816/3816 [==============================] - 4s 992us/step - loss: 3.7228 - acc: 0.4727\n",
      "Epoch 5/10\n",
      "3816/3816 [==============================] - 4s 987us/step - loss: 3.5302 - acc: 0.4725\n",
      "Epoch 6/10\n",
      "3816/3816 [==============================] - 4s 994us/step - loss: 3.4930 - acc: 0.4782\n",
      "Epoch 7/10\n",
      "3816/3816 [==============================] - 4s 987us/step - loss: 3.4397 - acc: 0.4486\n",
      "Epoch 8/10\n",
      "3816/3816 [==============================] - 4s 998us/step - loss: 3.3607 - acc: 0.4743\n",
      "Epoch 9/10\n",
      "3816/3816 [==============================] - 4s 995us/step - loss: 3.2992 - acc: 0.4513\n",
      "Epoch 10/10\n",
      "3816/3816 [==============================] - 4s 981us/step - loss: 3.2597 - acc: 0.4688\n",
      "955/955 [==============================] - 0s 221us/step\n",
      "\n",
      "Loss: 5.484 \t Accuracy: 0.372\n",
      "Epoch 1/10\n",
      "3816/3816 [==============================] - 7s 2ms/step - loss: 6.5435 - acc: 0.3360\n",
      "Epoch 2/10\n",
      "3816/3816 [==============================] - 7s 2ms/step - loss: 4.8411 - acc: 0.4649\n",
      "Epoch 3/10\n",
      "3816/3816 [==============================] - 7s 2ms/step - loss: 3.9477 - acc: 0.4536\n",
      "Epoch 4/10\n",
      "3816/3816 [==============================] - 7s 2ms/step - loss: 3.6468 - acc: 0.4751\n",
      "Epoch 5/10\n",
      "3816/3816 [==============================] - 7s 2ms/step - loss: 3.5834 - acc: 0.4782\n",
      "Epoch 6/10\n",
      "3816/3816 [==============================] - 7s 2ms/step - loss: 3.5076 - acc: 0.4667\n",
      "Epoch 7/10\n",
      "3816/3816 [==============================] - 7s 2ms/step - loss: 3.3998 - acc: 0.4568\n",
      "Epoch 8/10\n",
      "3816/3816 [==============================] - 7s 2ms/step - loss: 3.3225 - acc: 0.4631\n",
      "Epoch 9/10\n",
      "3816/3816 [==============================] - 7s 2ms/step - loss: 3.2731 - acc: 0.4581\n",
      "Epoch 10/10\n",
      "3816/3816 [==============================] - 7s 2ms/step - loss: 3.2391 - acc: 0.4631\n",
      "955/955 [==============================] - 0s 358us/step\n",
      "\n",
      "Loss: 5.373 \t Accuracy: 0.383\n",
      "Epoch 1/10\n",
      "3816/3816 [==============================] - 14s 4ms/step - loss: 6.4238 - acc: 0.3297\n",
      "Epoch 2/10\n",
      "3816/3816 [==============================] - 13s 3ms/step - loss: 4.5338 - acc: 0.4717\n",
      "Epoch 3/10\n",
      "3816/3816 [==============================] - 13s 3ms/step - loss: 3.7848 - acc: 0.4568\n",
      "Epoch 4/10\n",
      "3816/3816 [==============================] - 13s 3ms/step - loss: 3.7222 - acc: 0.4628\n",
      "Epoch 5/10\n",
      "3816/3816 [==============================] - 13s 3ms/step - loss: 3.6098 - acc: 0.4756\n",
      "Epoch 6/10\n",
      "3816/3816 [==============================] - 13s 3ms/step - loss: 3.4511 - acc: 0.4633\n",
      "Epoch 7/10\n",
      "3816/3816 [==============================] - 13s 3ms/step - loss: 3.3426 - acc: 0.4686\n",
      "Epoch 8/10\n",
      "3816/3816 [==============================] - 13s 3ms/step - loss: 3.2990 - acc: 0.4499\n",
      "Epoch 9/10\n",
      "3816/3816 [==============================] - 13s 3ms/step - loss: 3.2592 - acc: 0.4575\n",
      "Epoch 10/10\n",
      "3816/3816 [==============================] - 13s 3ms/step - loss: 3.2241 - acc: 0.4612\n",
      "955/955 [==============================] - 1s 749us/step\n",
      "\n",
      "Loss: 5.208 \t Accuracy: 0.378\n",
      "Epoch 1/10\n",
      "3816/3816 [==============================] - 27s 7ms/step - loss: 6.3072 - acc: 0.3441\n",
      "Epoch 2/10\n",
      "3816/3816 [==============================] - 26s 7ms/step - loss: 4.2133 - acc: 0.4659\n",
      "Epoch 3/10\n",
      "3816/3816 [==============================] - 26s 7ms/step - loss: 3.8096 - acc: 0.4581\n",
      "Epoch 4/10\n",
      "3816/3816 [==============================] - 26s 7ms/step - loss: 3.8207 - acc: 0.4617\n",
      "Epoch 5/10\n",
      "3816/3816 [==============================] - 26s 7ms/step - loss: 3.5479 - acc: 0.4599\n",
      "Epoch 6/10\n",
      "3816/3816 [==============================] - 26s 7ms/step - loss: 3.3963 - acc: 0.4589\n",
      "Epoch 7/10\n",
      "3816/3816 [==============================] - 26s 7ms/step - loss: 3.3678 - acc: 0.4589\n",
      "Epoch 8/10\n",
      "3816/3816 [==============================] - 26s 7ms/step - loss: 3.3112 - acc: 0.4649\n",
      "Epoch 9/10\n",
      "3816/3816 [==============================] - 26s 7ms/step - loss: 3.2510 - acc: 0.4602\n",
      "Epoch 10/10\n",
      "3816/3816 [==============================] - 26s 7ms/step - loss: 3.2223 - acc: 0.4578\n",
      "955/955 [==============================] - 1s 2ms/step\n",
      "\n",
      "Loss: 5.017 \t Accuracy: 0.395\n",
      "Epoch 1/10\n",
      "3816/3816 [==============================] - 52s 14ms/step - loss: 6.2166 - acc: 0.3336\n",
      "Epoch 2/10\n",
      "3816/3816 [==============================] - 52s 14ms/step - loss: 4.0292 - acc: 0.4562\n",
      "Epoch 3/10\n",
      "3816/3816 [==============================] - 51s 13ms/step - loss: 3.9260 - acc: 0.4557\n",
      "Epoch 4/10\n",
      "3816/3816 [==============================] - 51s 13ms/step - loss: 3.8632 - acc: 0.4615\n",
      "Epoch 5/10\n",
      "3816/3816 [==============================] - 51s 13ms/step - loss: 3.5006 - acc: 0.4620\n",
      "Epoch 6/10\n",
      "3816/3816 [==============================] - 51s 13ms/step - loss: 3.4301 - acc: 0.4594\n",
      "Epoch 7/10\n",
      "3816/3816 [==============================] - 52s 14ms/step - loss: 3.3682 - acc: 0.4557\n",
      "Epoch 8/10\n",
      "3816/3816 [==============================] - 51s 13ms/step - loss: 3.3302 - acc: 0.4615\n",
      "Epoch 9/10\n",
      "3816/3816 [==============================] - 52s 14ms/step - loss: 3.2507 - acc: 0.4701\n",
      "Epoch 10/10\n",
      "3816/3816 [==============================] - 51s 13ms/step - loss: 3.2216 - acc: 0.4678\n",
      "955/955 [==============================] - 3s 3ms/step\n",
      "\n",
      "Loss: 4.924 \t Accuracy: 0.388\n"
     ]
    }
   ],
   "source": [
    "acc=[]\n",
    "for i in range(8, 13):\n",
    "    model = prepare_model(2**i)\n",
    "    model.fit(train_X, train_Y, epochs=10, batch_size=64, verbose=1, shuffle=True)\n",
    "    score=model.evaluate(test_X, test_Y, verbose=1)\n",
    "    print(\"\\nLoss: %.3f \\t Accuracy: %.3f\" % (score[0], score[1]))\n",
    "    acc.append((2**i, score[1]))"
   ]
  },
  {
   "cell_type": "code",
   "execution_count": 45,
   "metadata": {},
   "outputs": [
    {
     "name": "stdout",
     "output_type": "stream",
     "text": [
      "Neurons: 256, Accuracy 0.3717\n",
      "Neurons: 512, Accuracy 0.3832\n",
      "Neurons: 1024, Accuracy 0.3780\n",
      "Neurons: 2048, Accuracy 0.3948\n",
      "Neurons: 4096, Accuracy 0.3885\n"
     ]
    }
   ],
   "source": [
    "for n, a in acc:\n",
    "    print(\"Neurons: %d, Accuracy %.4f\" % (n , a))"
   ]
  },
  {
   "cell_type": "markdown",
   "metadata": {},
   "source": [
    "Podemos apreciar que se obtuvo una precisión de casi un 39%, lo que es un avance, pero muy mejorable."
   ]
  },
  {
   "cell_type": "code",
   "execution_count": 20,
   "metadata": {},
   "outputs": [],
   "source": [
    "def clean_up_sentence(sentence):\n",
    "    # tokenize the pattern\n",
    "    sentence_words = nltk.word_tokenize(sentence)\n",
    "    # stem each word\n",
    "    sentence_words = [stemmer.stem(word.lower()) for word in sentence_words]\n",
    "    return sentence_words\n",
    "\n",
    "def bow(sentence, words, show_details=False):\n",
    "    # tokenize the pattern\n",
    "    sentence_words = clean_up_sentence(sentence)\n",
    "    # bag of words\n",
    "    bag = [0]*len(words)  \n",
    "    for s in sentence_words:\n",
    "        for i,w in enumerate(words):\n",
    "            if w == s: \n",
    "                bag[i] = 1\n",
    "                if show_details:\n",
    "                    print (\"found in bag: %s\" % w)\n",
    "                    \n",
    "    return(np.array(bag))"
   ]
  },
  {
   "cell_type": "code",
   "execution_count": 21,
   "metadata": {},
   "outputs": [],
   "source": [
    "def predict(t, threshold=0.08):\n",
    "    bag = bow(t, words)\n",
    "    bag = np.array(bag).reshape(1, bag.shape[0])\n",
    "    l = sorted(zip(classes, model.predict(bag)[0]), key=lambda x: x[1], reverse=True)\n",
    "    return [i for i in l if i[1] > threshold]"
   ]
  },
  {
   "cell_type": "markdown",
   "metadata": {},
   "source": [
    "## Test y Resultados.\n",
    "\n"
   ]
  },
  {
   "cell_type": "code",
   "execution_count": 43,
   "metadata": {
    "scrolled": true
   },
   "outputs": [
    {
     "name": "stdout",
     "output_type": "stream",
     "text": [
      "A family goes out for vacations with their kids to enjoy the life [('Comedy', 0.49139461), ('Drama', 0.24201618)]\n",
      "\n",
      "A bat have to save the world against superman [('Adventure', 0.18571053), ('Science Fiction', 0.16517679), ('Thriller', 0.16131149), ('Action', 0.15941173)]\n",
      "\n",
      "An Alien arrived to my home and tried to kill me [('Science Fiction', 0.15980904), ('Comedy', 0.1519575), ('Adventure', 0.10464507)]\n",
      "\n",
      "A haunted house is in front of my window [('Drama', 0.19539094), ('Thriller', 0.19035596), ('Romance', 0.13468282), ('Comedy', 0.10071559)]\n",
      "\n",
      "A police man is killing someone [('Thriller', 0.3323673), ('Crime', 0.18785048), ('Drama', 0.12651804), ('Action', 0.10783431)]\n",
      "\n"
     ]
    }
   ],
   "source": [
    "test = [\"A family goes out for vacations with their kids to enjoy the life\", \n",
    "        \"A bat have to save the world against superman\",\n",
    "       \"An Alien arrived to my home and tried to kill me\",\n",
    "       \"A haunted house is in front of my window\",\n",
    "       \"A police man is killing someone\"]\n",
    "\n",
    "for t in test:\n",
    "    print(t, predict(t, 0.1))\n",
    "    print()"
   ]
  },
  {
   "cell_type": "markdown",
   "metadata": {},
   "source": [
    "## Conclusiones\n",
    "\n",
    "Se logró implementar una red neuronal usando los elementos aprendidos en la clase, y ciertas otras técnicas para manejar strings, tales como el stemming. Se lograron ver resultados concretos de la aplicación de esta red. Se aprecia que estas predicciones obtenidas parecen bastante acertadas, con bastante sentido. Sin embargo la precisión que se logró es aproximadamente de un 39%. "
   ]
  }
 ],
 "metadata": {
  "kernelspec": {
   "display_name": "Python 3",
   "language": "python",
   "name": "python3"
  },
  "language_info": {
   "codemirror_mode": {
    "name": "ipython",
    "version": 3
   },
   "file_extension": ".py",
   "mimetype": "text/x-python",
   "name": "python",
   "nbconvert_exporter": "python",
   "pygments_lexer": "ipython3",
   "version": "3.6.2"
  }
 },
 "nbformat": 4,
 "nbformat_minor": 2
}

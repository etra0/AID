{
 "cells": [
  {
   "cell_type": "markdown",
   "metadata": {},
   "source": [
    "Integrantes:\n",
    "    * Sebastián Aedo\n",
    "    * Diego Córdova\n",
    "\n",
    "# 1. Introducción\n",
    "\n",
    "El dataset escogido es el [Student Performance Data Set](https://archive.ics.uci.edu/ml/datasets/Student+Performance), \n",
    "vale destacar que este dataset incluye las notas de matemáticas y portugués, pero en este caso solo tomaremos las notas de matemáticas, para no hacer el mismo análisis dos veces.\n",
    "\n",
    "# Información del dataset. \n",
    "\n",
    "(Sección copiada desde el repositorio y traducida)\n",
    "\n",
    "Estos datos muestran el logro estudiantil en la educación secundaria de dos escuelas portuguesas. Los atributos de los datos son acerca de las calificaciones de los estudiantes, características demográficas, sociales y relacionadas con la escuela, y fueron recolectadas usando cuestionarios y reportes escolares. \n",
    "\n",
    "\n",
    "Se proveen dos datasets relacionados con dos asignaturas distintas: Matemáticas (mat) y Portugués (Lenguaje)(por). En [Cortez y Silva, 2008], dos datasets fueron modelados clasificación binaria o de 5 niveles, y tareas de regresión. Nota importante: el atributo objetivo G3 tiene una fuerte correlación con los atributos G2 y G1. Esto ocurre porque G3 es la nota final del año (Emitida en el tercer periodo), mientras que G1 y G2 corresponden a las notas del primer y segundo periodo. Es mucho mas dificil predecir G3 sin G2 y G1, pero dicha predicción es mucho mas util (Ver informe para mas detalles).\n",
    "## Información de los atributos:\n",
    "\n",
    "## Ambos atributos sacados de student-mat.csv (Matemáticas) y student-por.csv (Portugués ):\n",
    "\n",
    "1. school - student's school (binary: 'GP' - Gabriel Pereira or 'MS' - Mousinho da Silveira) \n",
    "2. sex - student's sex (binary: 'F' - female or 'M' - male) \n",
    "3. age - student's age (numeric: from 15 to 22) \n",
    "4. address - student's home address type (binary: 'U' - urban or 'R' - rural) \n",
    "5. famsize - family size (binary: 'LE3' - less or equal to 3 or 'GT3' - greater than 3) \n",
    "6. Pstatus - parent's cohabitation status (binary: 'T' - living together or 'A' - apart) \n",
    "7. Medu - mother's education (numeric: 0 - none, 1 - primary education (4th grade), 2 - 5th to 9th grade, 3 - secondary education or 4 - higher education) \n",
    "8. Fedu - father's education (numeric: 0 - none, 1 - primary education (4th grade), 2 - 5th to 9th grade, 3 - secondary education or 4 - higher education) \n",
    "9. Mjob - mother's job (nominal: 'teacher', 'health' care related, civil 'services' (e.g. administrative or police), 'at_home' or 'other') \n",
    "10. Fjob - father's job (nominal: 'teacher', 'health' care related, civil 'services' (e.g. administrative or police), 'at_home' or 'other') \n",
    "11. reason - reason to choose this school (nominal: close to 'home', school 'reputation', 'course' preference or 'other') \n",
    "12. guardian - student's guardian (nominal: 'mother', 'father' or 'other') \n",
    "13. traveltime - home to school travel time (numeric: 1 - <15 min., 2 - 15 to 30 min., 3 - 30 min. to 1 hour, or 4 - >1 hour) \n",
    "14. studytime - weekly study time (numeric: 1 - <2 hours, 2 - 2 to 5 hours, 3 - 5 to 10 hours, or 4 - >10 hours) \n",
    "15. failures - number of past class failures (numeric: n if 1<=n<3, else 4) \n",
    "16. schoolsup - extra educational support (binary: yes or no) \n",
    "17. famsup - family educational support (binary: yes or no) \n",
    "18. paid - extra paid classes within the course subject (Math or Portuguese) (binary: yes or no) \n",
    "19. activities - extra-curricular activities (binary: yes or no) \n",
    "20. nursery - attended nursery school (binary: yes or no) \n",
    "21. higher - wants to take higher education (binary: yes or no) \n",
    "22. internet - Internet access at home (binary: yes or no) \n",
    "23. romantic - with a romantic relationship (binary: yes or no) \n",
    "24. famrel - quality of family relationships (numeric: from 1 - very bad to 5 - excellent) \n",
    "25. freetime - free time after school (numeric: from 1 - very low to 5 - very high) \n",
    "26. goout - going out with friends (numeric: from 1 - very low to 5 - very high) \n",
    "27. Dalc - workday alcohol consumption (numeric: from 1 - very low to 5 - very high) \n",
    "28. Walc - weekend alcohol consumption (numeric: from 1 - very low to 5 - very high) \n",
    "29. health - current health status (numeric: from 1 - very bad to 5 - very good) \n",
    "30. absences - number of school absences (numeric: from 0 to 93) \n",
    "\n",
    "## Notas relacionadas con cada asignatura en específico, matemáticas o portugués: \n",
    "\n",
    "31. G1 - first period grade (numeric: from 0 to 20) \n",
    "31. G2 - second period grade (numeric: from 0 to 20) \n",
    "32. G3 - final grade (numeric: from 0 to 20, output target)\n",
    "\n"
   ]
  },
  {
   "cell_type": "code",
   "execution_count": 1,
   "metadata": {},
   "outputs": [],
   "source": [
    "import numpy as np\n",
    "import matplotlib.pyplot as plt\n",
    "import scipy.stats as ss\n",
    "import pandas as pd\n",
    "import seaborn as sns\n",
    "from IPython.display import display, Markdown\n",
    "plt.style.use('ggplot')\n",
    "FIGSIZE=(12, 8)\n",
    "%matplotlib inline\n",
    "\n",
    "# para mostrar la información dentro del notebook más bonito.\n",
    "def pretty_print(text):\n",
    "    return display(Markdown(text))"
   ]
  },
  {
   "cell_type": "code",
   "execution_count": 2,
   "metadata": {},
   "outputs": [
    {
     "data": {
      "text/html": [
       "<div>\n",
       "<table border=\"1\" class=\"dataframe\">\n",
       "  <thead>\n",
       "    <tr style=\"text-align: right;\">\n",
       "      <th></th>\n",
       "      <th>school</th>\n",
       "      <th>sex</th>\n",
       "      <th>age</th>\n",
       "      <th>address</th>\n",
       "      <th>famsize</th>\n",
       "      <th>Pstatus</th>\n",
       "      <th>Medu</th>\n",
       "      <th>Fedu</th>\n",
       "      <th>Mjob</th>\n",
       "      <th>Fjob</th>\n",
       "      <th>...</th>\n",
       "      <th>famrel</th>\n",
       "      <th>freetime</th>\n",
       "      <th>goout</th>\n",
       "      <th>Dalc</th>\n",
       "      <th>Walc</th>\n",
       "      <th>health</th>\n",
       "      <th>absences</th>\n",
       "      <th>G1</th>\n",
       "      <th>G2</th>\n",
       "      <th>G3</th>\n",
       "    </tr>\n",
       "  </thead>\n",
       "  <tbody>\n",
       "    <tr>\n",
       "      <th>0</th>\n",
       "      <td>GP</td>\n",
       "      <td>F</td>\n",
       "      <td>18</td>\n",
       "      <td>U</td>\n",
       "      <td>GT3</td>\n",
       "      <td>A</td>\n",
       "      <td>4</td>\n",
       "      <td>4</td>\n",
       "      <td>at_home</td>\n",
       "      <td>teacher</td>\n",
       "      <td>...</td>\n",
       "      <td>4</td>\n",
       "      <td>3</td>\n",
       "      <td>4</td>\n",
       "      <td>1</td>\n",
       "      <td>1</td>\n",
       "      <td>3</td>\n",
       "      <td>6</td>\n",
       "      <td>5</td>\n",
       "      <td>6</td>\n",
       "      <td>6</td>\n",
       "    </tr>\n",
       "    <tr>\n",
       "      <th>1</th>\n",
       "      <td>GP</td>\n",
       "      <td>F</td>\n",
       "      <td>17</td>\n",
       "      <td>U</td>\n",
       "      <td>GT3</td>\n",
       "      <td>T</td>\n",
       "      <td>1</td>\n",
       "      <td>1</td>\n",
       "      <td>at_home</td>\n",
       "      <td>other</td>\n",
       "      <td>...</td>\n",
       "      <td>5</td>\n",
       "      <td>3</td>\n",
       "      <td>3</td>\n",
       "      <td>1</td>\n",
       "      <td>1</td>\n",
       "      <td>3</td>\n",
       "      <td>4</td>\n",
       "      <td>5</td>\n",
       "      <td>5</td>\n",
       "      <td>6</td>\n",
       "    </tr>\n",
       "    <tr>\n",
       "      <th>2</th>\n",
       "      <td>GP</td>\n",
       "      <td>F</td>\n",
       "      <td>15</td>\n",
       "      <td>U</td>\n",
       "      <td>LE3</td>\n",
       "      <td>T</td>\n",
       "      <td>1</td>\n",
       "      <td>1</td>\n",
       "      <td>at_home</td>\n",
       "      <td>other</td>\n",
       "      <td>...</td>\n",
       "      <td>4</td>\n",
       "      <td>3</td>\n",
       "      <td>2</td>\n",
       "      <td>2</td>\n",
       "      <td>3</td>\n",
       "      <td>3</td>\n",
       "      <td>10</td>\n",
       "      <td>7</td>\n",
       "      <td>8</td>\n",
       "      <td>10</td>\n",
       "    </tr>\n",
       "    <tr>\n",
       "      <th>3</th>\n",
       "      <td>GP</td>\n",
       "      <td>F</td>\n",
       "      <td>15</td>\n",
       "      <td>U</td>\n",
       "      <td>GT3</td>\n",
       "      <td>T</td>\n",
       "      <td>4</td>\n",
       "      <td>2</td>\n",
       "      <td>health</td>\n",
       "      <td>services</td>\n",
       "      <td>...</td>\n",
       "      <td>3</td>\n",
       "      <td>2</td>\n",
       "      <td>2</td>\n",
       "      <td>1</td>\n",
       "      <td>1</td>\n",
       "      <td>5</td>\n",
       "      <td>2</td>\n",
       "      <td>15</td>\n",
       "      <td>14</td>\n",
       "      <td>15</td>\n",
       "    </tr>\n",
       "    <tr>\n",
       "      <th>4</th>\n",
       "      <td>GP</td>\n",
       "      <td>F</td>\n",
       "      <td>16</td>\n",
       "      <td>U</td>\n",
       "      <td>GT3</td>\n",
       "      <td>T</td>\n",
       "      <td>3</td>\n",
       "      <td>3</td>\n",
       "      <td>other</td>\n",
       "      <td>other</td>\n",
       "      <td>...</td>\n",
       "      <td>4</td>\n",
       "      <td>3</td>\n",
       "      <td>2</td>\n",
       "      <td>1</td>\n",
       "      <td>2</td>\n",
       "      <td>5</td>\n",
       "      <td>4</td>\n",
       "      <td>6</td>\n",
       "      <td>10</td>\n",
       "      <td>10</td>\n",
       "    </tr>\n",
       "  </tbody>\n",
       "</table>\n",
       "<p>5 rows × 33 columns</p>\n",
       "</div>"
      ],
      "text/plain": [
       "  school sex  age address famsize Pstatus  Medu  Fedu     Mjob      Fjob ...  \\\n",
       "0     GP   F   18       U     GT3       A     4     4  at_home   teacher ...   \n",
       "1     GP   F   17       U     GT3       T     1     1  at_home     other ...   \n",
       "2     GP   F   15       U     LE3       T     1     1  at_home     other ...   \n",
       "3     GP   F   15       U     GT3       T     4     2   health  services ...   \n",
       "4     GP   F   16       U     GT3       T     3     3    other     other ...   \n",
       "\n",
       "  famrel freetime  goout  Dalc  Walc health absences  G1  G2  G3  \n",
       "0      4        3      4     1     1      3        6   5   6   6  \n",
       "1      5        3      3     1     1      3        4   5   5   6  \n",
       "2      4        3      2     2     3      3       10   7   8  10  \n",
       "3      3        2      2     1     1      5        2  15  14  15  \n",
       "4      4        3      2     1     2      5        4   6  10  10  \n",
       "\n",
       "[5 rows x 33 columns]"
      ]
     },
     "metadata": {},
     "output_type": "display_data"
    },
    {
     "data": {
      "text/markdown": [
       "**Columnas**: school, sex, age, address, famsize, Pstatus, Medu, Fedu, Mjob, Fjob, reason, guardian, traveltime, studytime, failures, schoolsup, famsup, paid, activities, nursery, higher, internet, romantic, famrel, freetime, goout, Dalc, Walc, health, absences, G1, G2, G3"
      ],
      "text/plain": [
       "<IPython.core.display.Markdown object>"
      ]
     },
     "metadata": {},
     "output_type": "display_data"
    }
   ],
   "source": [
    "df = pd.read_csv('data/student-mat.csv', sep=';')\n",
    "\n",
    "display(df.head())\n",
    "pretty_print(\"**Columnas**: %s\" % \", \".join(df.columns))"
   ]
  },
  {
   "cell_type": "markdown",
   "metadata": {},
   "source": [
    "# 2. Desarrollo"
   ]
  },
  {
   "cell_type": "markdown",
   "metadata": {},
   "source": [
    "## 2.1.  Estudio de estadística descriptiva de dos variables"
   ]
  },
  {
   "cell_type": "code",
   "execution_count": 3,
   "metadata": {
    "scrolled": false
   },
   "outputs": [
    {
     "data": {
      "text/html": [
       "<div>\n",
       "<table border=\"1\" class=\"dataframe\">\n",
       "  <thead>\n",
       "    <tr style=\"text-align: right;\">\n",
       "      <th></th>\n",
       "      <th>age</th>\n",
       "      <th>Medu</th>\n",
       "      <th>Fedu</th>\n",
       "      <th>traveltime</th>\n",
       "      <th>studytime</th>\n",
       "      <th>failures</th>\n",
       "      <th>famrel</th>\n",
       "      <th>freetime</th>\n",
       "      <th>goout</th>\n",
       "      <th>Dalc</th>\n",
       "      <th>Walc</th>\n",
       "      <th>health</th>\n",
       "      <th>absences</th>\n",
       "      <th>G1</th>\n",
       "      <th>G2</th>\n",
       "      <th>G3</th>\n",
       "    </tr>\n",
       "  </thead>\n",
       "  <tbody>\n",
       "    <tr>\n",
       "      <th>age</th>\n",
       "      <td>1.000000</td>\n",
       "      <td>-0.163658</td>\n",
       "      <td>-0.163438</td>\n",
       "      <td>0.070641</td>\n",
       "      <td>-0.004140</td>\n",
       "      <td>0.243665</td>\n",
       "      <td>0.053940</td>\n",
       "      <td>0.016434</td>\n",
       "      <td>0.126964</td>\n",
       "      <td>0.131125</td>\n",
       "      <td>0.117276</td>\n",
       "      <td>-0.062187</td>\n",
       "      <td>0.175230</td>\n",
       "      <td>-0.064081</td>\n",
       "      <td>-0.143474</td>\n",
       "      <td>-0.161579</td>\n",
       "    </tr>\n",
       "    <tr>\n",
       "      <th>Medu</th>\n",
       "      <td>-0.163658</td>\n",
       "      <td>1.000000</td>\n",
       "      <td>0.623455</td>\n",
       "      <td>-0.171639</td>\n",
       "      <td>0.064944</td>\n",
       "      <td>-0.236680</td>\n",
       "      <td>-0.003914</td>\n",
       "      <td>0.030891</td>\n",
       "      <td>0.064094</td>\n",
       "      <td>0.019834</td>\n",
       "      <td>-0.047123</td>\n",
       "      <td>-0.046878</td>\n",
       "      <td>0.100285</td>\n",
       "      <td>0.205341</td>\n",
       "      <td>0.215527</td>\n",
       "      <td>0.217147</td>\n",
       "    </tr>\n",
       "    <tr>\n",
       "      <th>Fedu</th>\n",
       "      <td>-0.163438</td>\n",
       "      <td>0.623455</td>\n",
       "      <td>1.000000</td>\n",
       "      <td>-0.158194</td>\n",
       "      <td>-0.009175</td>\n",
       "      <td>-0.250408</td>\n",
       "      <td>-0.001370</td>\n",
       "      <td>-0.012846</td>\n",
       "      <td>0.043105</td>\n",
       "      <td>0.002386</td>\n",
       "      <td>-0.012631</td>\n",
       "      <td>0.014742</td>\n",
       "      <td>0.024473</td>\n",
       "      <td>0.190270</td>\n",
       "      <td>0.164893</td>\n",
       "      <td>0.152457</td>\n",
       "    </tr>\n",
       "    <tr>\n",
       "      <th>traveltime</th>\n",
       "      <td>0.070641</td>\n",
       "      <td>-0.171639</td>\n",
       "      <td>-0.158194</td>\n",
       "      <td>1.000000</td>\n",
       "      <td>-0.100909</td>\n",
       "      <td>0.092239</td>\n",
       "      <td>-0.016808</td>\n",
       "      <td>-0.017025</td>\n",
       "      <td>0.028540</td>\n",
       "      <td>0.138325</td>\n",
       "      <td>0.134116</td>\n",
       "      <td>0.007501</td>\n",
       "      <td>-0.012944</td>\n",
       "      <td>-0.093040</td>\n",
       "      <td>-0.153198</td>\n",
       "      <td>-0.117142</td>\n",
       "    </tr>\n",
       "    <tr>\n",
       "      <th>studytime</th>\n",
       "      <td>-0.004140</td>\n",
       "      <td>0.064944</td>\n",
       "      <td>-0.009175</td>\n",
       "      <td>-0.100909</td>\n",
       "      <td>1.000000</td>\n",
       "      <td>-0.173563</td>\n",
       "      <td>0.039731</td>\n",
       "      <td>-0.143198</td>\n",
       "      <td>-0.063904</td>\n",
       "      <td>-0.196019</td>\n",
       "      <td>-0.253785</td>\n",
       "      <td>-0.075616</td>\n",
       "      <td>-0.062700</td>\n",
       "      <td>0.160612</td>\n",
       "      <td>0.135880</td>\n",
       "      <td>0.097820</td>\n",
       "    </tr>\n",
       "    <tr>\n",
       "      <th>failures</th>\n",
       "      <td>0.243665</td>\n",
       "      <td>-0.236680</td>\n",
       "      <td>-0.250408</td>\n",
       "      <td>0.092239</td>\n",
       "      <td>-0.173563</td>\n",
       "      <td>1.000000</td>\n",
       "      <td>-0.044337</td>\n",
       "      <td>0.091987</td>\n",
       "      <td>0.124561</td>\n",
       "      <td>0.136047</td>\n",
       "      <td>0.141962</td>\n",
       "      <td>0.065827</td>\n",
       "      <td>0.063726</td>\n",
       "      <td>-0.354718</td>\n",
       "      <td>-0.355896</td>\n",
       "      <td>-0.360415</td>\n",
       "    </tr>\n",
       "    <tr>\n",
       "      <th>famrel</th>\n",
       "      <td>0.053940</td>\n",
       "      <td>-0.003914</td>\n",
       "      <td>-0.001370</td>\n",
       "      <td>-0.016808</td>\n",
       "      <td>0.039731</td>\n",
       "      <td>-0.044337</td>\n",
       "      <td>1.000000</td>\n",
       "      <td>0.150701</td>\n",
       "      <td>0.064568</td>\n",
       "      <td>-0.077594</td>\n",
       "      <td>-0.113397</td>\n",
       "      <td>0.094056</td>\n",
       "      <td>-0.044354</td>\n",
       "      <td>0.022168</td>\n",
       "      <td>-0.018281</td>\n",
       "      <td>0.051363</td>\n",
       "    </tr>\n",
       "    <tr>\n",
       "      <th>freetime</th>\n",
       "      <td>0.016434</td>\n",
       "      <td>0.030891</td>\n",
       "      <td>-0.012846</td>\n",
       "      <td>-0.017025</td>\n",
       "      <td>-0.143198</td>\n",
       "      <td>0.091987</td>\n",
       "      <td>0.150701</td>\n",
       "      <td>1.000000</td>\n",
       "      <td>0.285019</td>\n",
       "      <td>0.209001</td>\n",
       "      <td>0.147822</td>\n",
       "      <td>0.075733</td>\n",
       "      <td>-0.058078</td>\n",
       "      <td>0.012613</td>\n",
       "      <td>-0.013777</td>\n",
       "      <td>0.011307</td>\n",
       "    </tr>\n",
       "    <tr>\n",
       "      <th>goout</th>\n",
       "      <td>0.126964</td>\n",
       "      <td>0.064094</td>\n",
       "      <td>0.043105</td>\n",
       "      <td>0.028540</td>\n",
       "      <td>-0.063904</td>\n",
       "      <td>0.124561</td>\n",
       "      <td>0.064568</td>\n",
       "      <td>0.285019</td>\n",
       "      <td>1.000000</td>\n",
       "      <td>0.266994</td>\n",
       "      <td>0.420386</td>\n",
       "      <td>-0.009577</td>\n",
       "      <td>0.044302</td>\n",
       "      <td>-0.149104</td>\n",
       "      <td>-0.162250</td>\n",
       "      <td>-0.132791</td>\n",
       "    </tr>\n",
       "    <tr>\n",
       "      <th>Dalc</th>\n",
       "      <td>0.131125</td>\n",
       "      <td>0.019834</td>\n",
       "      <td>0.002386</td>\n",
       "      <td>0.138325</td>\n",
       "      <td>-0.196019</td>\n",
       "      <td>0.136047</td>\n",
       "      <td>-0.077594</td>\n",
       "      <td>0.209001</td>\n",
       "      <td>0.266994</td>\n",
       "      <td>1.000000</td>\n",
       "      <td>0.647544</td>\n",
       "      <td>0.077180</td>\n",
       "      <td>0.111908</td>\n",
       "      <td>-0.094159</td>\n",
       "      <td>-0.064120</td>\n",
       "      <td>-0.054660</td>\n",
       "    </tr>\n",
       "    <tr>\n",
       "      <th>Walc</th>\n",
       "      <td>0.117276</td>\n",
       "      <td>-0.047123</td>\n",
       "      <td>-0.012631</td>\n",
       "      <td>0.134116</td>\n",
       "      <td>-0.253785</td>\n",
       "      <td>0.141962</td>\n",
       "      <td>-0.113397</td>\n",
       "      <td>0.147822</td>\n",
       "      <td>0.420386</td>\n",
       "      <td>0.647544</td>\n",
       "      <td>1.000000</td>\n",
       "      <td>0.092476</td>\n",
       "      <td>0.136291</td>\n",
       "      <td>-0.126179</td>\n",
       "      <td>-0.084927</td>\n",
       "      <td>-0.051939</td>\n",
       "    </tr>\n",
       "    <tr>\n",
       "      <th>health</th>\n",
       "      <td>-0.062187</td>\n",
       "      <td>-0.046878</td>\n",
       "      <td>0.014742</td>\n",
       "      <td>0.007501</td>\n",
       "      <td>-0.075616</td>\n",
       "      <td>0.065827</td>\n",
       "      <td>0.094056</td>\n",
       "      <td>0.075733</td>\n",
       "      <td>-0.009577</td>\n",
       "      <td>0.077180</td>\n",
       "      <td>0.092476</td>\n",
       "      <td>1.000000</td>\n",
       "      <td>-0.029937</td>\n",
       "      <td>-0.073172</td>\n",
       "      <td>-0.097720</td>\n",
       "      <td>-0.061335</td>\n",
       "    </tr>\n",
       "    <tr>\n",
       "      <th>absences</th>\n",
       "      <td>0.175230</td>\n",
       "      <td>0.100285</td>\n",
       "      <td>0.024473</td>\n",
       "      <td>-0.012944</td>\n",
       "      <td>-0.062700</td>\n",
       "      <td>0.063726</td>\n",
       "      <td>-0.044354</td>\n",
       "      <td>-0.058078</td>\n",
       "      <td>0.044302</td>\n",
       "      <td>0.111908</td>\n",
       "      <td>0.136291</td>\n",
       "      <td>-0.029937</td>\n",
       "      <td>1.000000</td>\n",
       "      <td>-0.031003</td>\n",
       "      <td>-0.031777</td>\n",
       "      <td>0.034247</td>\n",
       "    </tr>\n",
       "    <tr>\n",
       "      <th>G1</th>\n",
       "      <td>-0.064081</td>\n",
       "      <td>0.205341</td>\n",
       "      <td>0.190270</td>\n",
       "      <td>-0.093040</td>\n",
       "      <td>0.160612</td>\n",
       "      <td>-0.354718</td>\n",
       "      <td>0.022168</td>\n",
       "      <td>0.012613</td>\n",
       "      <td>-0.149104</td>\n",
       "      <td>-0.094159</td>\n",
       "      <td>-0.126179</td>\n",
       "      <td>-0.073172</td>\n",
       "      <td>-0.031003</td>\n",
       "      <td>1.000000</td>\n",
       "      <td>0.852118</td>\n",
       "      <td>0.801468</td>\n",
       "    </tr>\n",
       "    <tr>\n",
       "      <th>G2</th>\n",
       "      <td>-0.143474</td>\n",
       "      <td>0.215527</td>\n",
       "      <td>0.164893</td>\n",
       "      <td>-0.153198</td>\n",
       "      <td>0.135880</td>\n",
       "      <td>-0.355896</td>\n",
       "      <td>-0.018281</td>\n",
       "      <td>-0.013777</td>\n",
       "      <td>-0.162250</td>\n",
       "      <td>-0.064120</td>\n",
       "      <td>-0.084927</td>\n",
       "      <td>-0.097720</td>\n",
       "      <td>-0.031777</td>\n",
       "      <td>0.852118</td>\n",
       "      <td>1.000000</td>\n",
       "      <td>0.904868</td>\n",
       "    </tr>\n",
       "    <tr>\n",
       "      <th>G3</th>\n",
       "      <td>-0.161579</td>\n",
       "      <td>0.217147</td>\n",
       "      <td>0.152457</td>\n",
       "      <td>-0.117142</td>\n",
       "      <td>0.097820</td>\n",
       "      <td>-0.360415</td>\n",
       "      <td>0.051363</td>\n",
       "      <td>0.011307</td>\n",
       "      <td>-0.132791</td>\n",
       "      <td>-0.054660</td>\n",
       "      <td>-0.051939</td>\n",
       "      <td>-0.061335</td>\n",
       "      <td>0.034247</td>\n",
       "      <td>0.801468</td>\n",
       "      <td>0.904868</td>\n",
       "      <td>1.000000</td>\n",
       "    </tr>\n",
       "  </tbody>\n",
       "</table>\n",
       "</div>"
      ],
      "text/plain": [
       "                 age      Medu      Fedu  traveltime  studytime  failures  \\\n",
       "age         1.000000 -0.163658 -0.163438    0.070641  -0.004140  0.243665   \n",
       "Medu       -0.163658  1.000000  0.623455   -0.171639   0.064944 -0.236680   \n",
       "Fedu       -0.163438  0.623455  1.000000   -0.158194  -0.009175 -0.250408   \n",
       "traveltime  0.070641 -0.171639 -0.158194    1.000000  -0.100909  0.092239   \n",
       "studytime  -0.004140  0.064944 -0.009175   -0.100909   1.000000 -0.173563   \n",
       "failures    0.243665 -0.236680 -0.250408    0.092239  -0.173563  1.000000   \n",
       "famrel      0.053940 -0.003914 -0.001370   -0.016808   0.039731 -0.044337   \n",
       "freetime    0.016434  0.030891 -0.012846   -0.017025  -0.143198  0.091987   \n",
       "goout       0.126964  0.064094  0.043105    0.028540  -0.063904  0.124561   \n",
       "Dalc        0.131125  0.019834  0.002386    0.138325  -0.196019  0.136047   \n",
       "Walc        0.117276 -0.047123 -0.012631    0.134116  -0.253785  0.141962   \n",
       "health     -0.062187 -0.046878  0.014742    0.007501  -0.075616  0.065827   \n",
       "absences    0.175230  0.100285  0.024473   -0.012944  -0.062700  0.063726   \n",
       "G1         -0.064081  0.205341  0.190270   -0.093040   0.160612 -0.354718   \n",
       "G2         -0.143474  0.215527  0.164893   -0.153198   0.135880 -0.355896   \n",
       "G3         -0.161579  0.217147  0.152457   -0.117142   0.097820 -0.360415   \n",
       "\n",
       "              famrel  freetime     goout      Dalc      Walc    health  \\\n",
       "age         0.053940  0.016434  0.126964  0.131125  0.117276 -0.062187   \n",
       "Medu       -0.003914  0.030891  0.064094  0.019834 -0.047123 -0.046878   \n",
       "Fedu       -0.001370 -0.012846  0.043105  0.002386 -0.012631  0.014742   \n",
       "traveltime -0.016808 -0.017025  0.028540  0.138325  0.134116  0.007501   \n",
       "studytime   0.039731 -0.143198 -0.063904 -0.196019 -0.253785 -0.075616   \n",
       "failures   -0.044337  0.091987  0.124561  0.136047  0.141962  0.065827   \n",
       "famrel      1.000000  0.150701  0.064568 -0.077594 -0.113397  0.094056   \n",
       "freetime    0.150701  1.000000  0.285019  0.209001  0.147822  0.075733   \n",
       "goout       0.064568  0.285019  1.000000  0.266994  0.420386 -0.009577   \n",
       "Dalc       -0.077594  0.209001  0.266994  1.000000  0.647544  0.077180   \n",
       "Walc       -0.113397  0.147822  0.420386  0.647544  1.000000  0.092476   \n",
       "health      0.094056  0.075733 -0.009577  0.077180  0.092476  1.000000   \n",
       "absences   -0.044354 -0.058078  0.044302  0.111908  0.136291 -0.029937   \n",
       "G1          0.022168  0.012613 -0.149104 -0.094159 -0.126179 -0.073172   \n",
       "G2         -0.018281 -0.013777 -0.162250 -0.064120 -0.084927 -0.097720   \n",
       "G3          0.051363  0.011307 -0.132791 -0.054660 -0.051939 -0.061335   \n",
       "\n",
       "            absences        G1        G2        G3  \n",
       "age         0.175230 -0.064081 -0.143474 -0.161579  \n",
       "Medu        0.100285  0.205341  0.215527  0.217147  \n",
       "Fedu        0.024473  0.190270  0.164893  0.152457  \n",
       "traveltime -0.012944 -0.093040 -0.153198 -0.117142  \n",
       "studytime  -0.062700  0.160612  0.135880  0.097820  \n",
       "failures    0.063726 -0.354718 -0.355896 -0.360415  \n",
       "famrel     -0.044354  0.022168 -0.018281  0.051363  \n",
       "freetime   -0.058078  0.012613 -0.013777  0.011307  \n",
       "goout       0.044302 -0.149104 -0.162250 -0.132791  \n",
       "Dalc        0.111908 -0.094159 -0.064120 -0.054660  \n",
       "Walc        0.136291 -0.126179 -0.084927 -0.051939  \n",
       "health     -0.029937 -0.073172 -0.097720 -0.061335  \n",
       "absences    1.000000 -0.031003 -0.031777  0.034247  \n",
       "G1         -0.031003  1.000000  0.852118  0.801468  \n",
       "G2         -0.031777  0.852118  1.000000  0.904868  \n",
       "G3          0.034247  0.801468  0.904868  1.000000  "
      ]
     },
     "metadata": {},
     "output_type": "display_data"
    },
    {
     "data": {
      "text/markdown": [
       "### Máxima correlación por variable"
      ],
      "text/plain": [
       "<IPython.core.display.Markdown object>"
      ]
     },
     "metadata": {},
     "output_type": "display_data"
    },
    {
     "data": {
      "text/markdown": [
       "|Var1|Var2|Corr|\n",
       "|:--:|:--:|:--:|\n",
       "|age|failures|0.243665|\n",
       "|Medu|Fedu|0.623455|\n",
       "|traveltime|Dalc|0.138325|\n",
       "|studytime|G1|0.160612|\n",
       "|famrel|freetime|0.150701|\n",
       "|freetime|goout|0.285019|\n",
       "|goout|Walc|0.420386|\n",
       "|Dalc|Walc|0.647544|\n",
       "|health|famrel|0.094056|\n",
       "|absences|age|0.175230|\n",
       "|G1|G2|0.852118|\n",
       "|G2|G3|0.904868|\n"
      ],
      "text/plain": [
       "<IPython.core.display.Markdown object>"
      ]
     },
     "metadata": {},
     "output_type": "display_data"
    }
   ],
   "source": [
    "general_correlation = df.corr()\n",
    "display(general_correlation)\n",
    "# para no imprimir la doble relación\n",
    "already_printed = set()\n",
    "\n",
    "pretty_print(\"### Máxima correlación por variable\")\n",
    "final_output = \"|Var1|Var2|Corr|\\n\"\n",
    "final_output += \"|:--:|:--:|:--:|\\n\"\n",
    "for current, row in general_correlation.iterrows():\n",
    "    max_correlation_i = row[row.index != current].idxmax()\n",
    "    \n",
    "    if (current, max_correlation_i) not in already_printed:\n",
    "        final_output += \"|%s|%s|%f|\\n\" % (current, max_correlation_i, row[max_correlation_i])\n",
    "        \n",
    "    already_printed.add((current, max_correlation_i))\n",
    "    already_printed.add((current, max_correlation_i)[::-1])\n",
    "pretty_print(final_output)"
   ]
  },
  {
   "cell_type": "markdown",
   "metadata": {},
   "source": [
    "Se puede apreciar que existe una correlación muy alta entre `(G1, G2)` y `(G2, G3)`, pero estas se omitirán ya que son objetivo del **target**.\n",
    "Una correlación no menor se aprecia entre Medu y Fedu, que son la educación de la madre y del padre, respectivamente, números que varían desde el 0 al 4, mientras mayor sea la educación. Tiene sentido que los padres de los alumnos tengan un nivel de educción similar.\n",
    "También se aprecia una correlacion notable entre Dalc y Walc, que corresponden a la tasa de consumo de alcohol durante la semana, y durante el fín de semana. Tiene sentido que estén relacionadas ya que alguien que consume alcohol durante la semana suele hacerlo también durante el fin de semana.\n",
    "Nos gustaría conocer si existe alguna relación entre el <span style='color:blue'>\"studytime\"</span> y el <span style='color:blue'>\"G3\"</span>(Nota final), por eso escogeremos estas 2 variables. "
   ]
  },
  {
   "cell_type": "code",
   "execution_count": 4,
   "metadata": {
    "scrolled": false
   },
   "outputs": [],
   "source": [
    "final_grade = df['G3']\n",
    "description_final_grade = final_grade.describe()\n",
    "description_final_grade['kurtosis'] = final_grade.kurtosis()\n",
    "description_final_grade['skew'] = final_grade.skew()\n",
    "description_final_grade['max'] = final_grade.max()\n",
    "\n",
    "studytime = df['studytime']\n",
    "description_studytime = studytime.describe()\n",
    "description_studytime['kurtosis'] = studytime.kurtosis()\n",
    "description_studytime['skew'] = studytime.kurtosis()\n",
    "description_studytime['max'] = studytime.max()\n",
    "\n",
    "## formato general de la muestra de datos\n",
    "text_format = \"\"\"\n",
    "### {title}\n",
    "**Cantidad de datos**: {count: .0f}  \n",
    "**Promedio**: {mean: .2f}  \n",
    "**Desviación Estándar**: {std: .2f}  \n",
    "**Mínimo**: {min: .0f}  \n",
    "**Máximo**: {max: .0f}  \n",
    "**25%**: {25%: .0f}  \n",
    "**50%**: {50%: .0f}  \n",
    "**75%**: {75%: .0f}  \n",
    "**Sesgo**: {skew: .5f}  \n",
    "**Kurtosis**: {kurtosis: .5f}  \n",
    "\"\"\"\n"
   ]
  },
  {
   "cell_type": "code",
   "execution_count": 5,
   "metadata": {
    "scrolled": true
   },
   "outputs": [
    {
     "data": {
      "text/markdown": [
       "\n",
       "### Análisis descriptivo: Nota final\n",
       "**Cantidad de datos**:  395  \n",
       "**Promedio**:  10.42  \n",
       "**Desviación Estándar**:  4.58  \n",
       "**Mínimo**:  0  \n",
       "**Máximo**:  20  \n",
       "**25%**:  8  \n",
       "**50%**:  11  \n",
       "**75%**:  14  \n",
       "**Sesgo**: -0.73267  \n",
       "**Kurtosis**:  0.40342  \n"
      ],
      "text/plain": [
       "<IPython.core.display.Markdown object>"
      ]
     },
     "metadata": {},
     "output_type": "display_data"
    }
   ],
   "source": [
    "pretty_print(text_format.format(**description_final_grade, title=\"Análisis descriptivo: Nota final\"))"
   ]
  },
  {
   "cell_type": "markdown",
   "metadata": {},
   "source": [
    "Es interesante notar que el promedio se encuentra muy cercano al centro de los datos, y que $Q_3$ siga cercano, lo que podría dar una sensación de centralización en 10."
   ]
  },
  {
   "cell_type": "code",
   "execution_count": 6,
   "metadata": {},
   "outputs": [
    {
     "data": {
      "text/markdown": [
       "\n",
       "### Análisis descriptivo: Tiempo de estudio\n",
       "**Cantidad de datos**:  395  \n",
       "**Promedio**:  2.04  \n",
       "**Desviación Estándar**:  0.84  \n",
       "**Mínimo**:  1  \n",
       "**Máximo**:  4  \n",
       "**25%**:  1  \n",
       "**50%**:  2  \n",
       "**75%**:  2  \n",
       "**Sesgo**: -0.01443  \n",
       "**Kurtosis**: -0.01443  \n"
      ],
      "text/plain": [
       "<IPython.core.display.Markdown object>"
      ]
     },
     "metadata": {},
     "output_type": "display_data"
    }
   ],
   "source": [
    "pretty_print(text_format.format(**description_studytime, title=\"Análisis descriptivo: Tiempo de estudio\"))"
   ]
  },
  {
   "cell_type": "markdown",
   "metadata": {},
   "source": [
    "En la descripción del dataset, se puede notar que la encuesta consideraba desde 1 hora hasta las 10 horas, sin embargo, la mayor parte del estudiantado **no superaba las dos horas** ($\\overline{X} \\approx 2$ y el tercer quintil es 2)"
   ]
  },
  {
   "cell_type": "markdown",
   "metadata": {},
   "source": [
    "## 2.2 Visualización de cada variable\n",
    "\n",
    "A continuación se generarán 3 gráficos descriptivos por cada variable seleccionada. Estos gráficos serán:\n",
    "\n",
    "* Histograma\n",
    "* Histograma de frecuencia acumulada (Ojiva)\n",
    "* Box plot"
   ]
  },
  {
   "cell_type": "markdown",
   "metadata": {},
   "source": [
    "### 2.2.1 Nota final"
   ]
  },
  {
   "cell_type": "code",
   "execution_count": 7,
   "metadata": {},
   "outputs": [
    {
     "data": {
      "image/png": "[encoded data removed]",
      "text/plain": [
       "<matplotlib.figure.Figure at 0x1085e21d0>"
      ]
     },
     "metadata": {},
     "output_type": "display_data"
    }
   ],
   "source": [
    "fig = plt.figure(figsize=FIGSIZE)\n",
    "ax = fig.add_subplot(111)\n",
    "final_grade.hist(ax=ax)\n",
    "ax.set_title(\"Histograma de la nota final en Matemáticas\", fontsize=20)\n",
    "plt.show()"
   ]
  },
  {
   "cell_type": "markdown",
   "metadata": {},
   "source": [
    "Se puede apreciar una distribución normal, exceptuando los valores cercanos a 0. Estos valores cercanos al cero no son pocos, y no concuerdan con la distribución que parecen seguir el resto de valores. Se podría pensar que se trata de alumnos que por diversas razones dejaron el ramo de lado, abandonado, y no intentaron aprobarlo. Por lo que los datos estarían separados entre los alumnos que si intentaron pasar el ramo, los cuales cáen dentro de la distribución normal, y los que no lo intentaron. "
   ]
  },
  {
   "cell_type": "code",
   "execution_count": 8,
   "metadata": {},
   "outputs": [
    {
     "data": {
      "image/png": "[encoded data removed]",
      "text/plain": [
       "<matplotlib.figure.Figure at 0x1086c89b0>"
      ]
     },
     "metadata": {},
     "output_type": "display_data"
    }
   ],
   "source": [
    "# Frecuencia relativa acumulada\n",
    "fig = plt.figure(figsize=FIGSIZE)\n",
    "ax = fig.add_subplot(111)\n",
    "ax.set_title(\"Frecuencia relativa acumulada de la nota final en Matemáticas\", fontsize=20)\n",
    "final_grade.hist(cumulative = True) # Frecuencia relativa acumulada\n",
    "plt.show()"
   ]
  },
  {
   "cell_type": "markdown",
   "metadata": {},
   "source": [
    "Se aprecia que este grafico de frecuencia acumulada es muy similar al de una distribución normal, solo que se parte desde un valor inicial distinto de 0, debido a los valores que no concuerdan con la distribución normal cercanos al 0. "
   ]
  },
  {
   "cell_type": "code",
   "execution_count": 9,
   "metadata": {
    "scrolled": false
   },
   "outputs": [
    {
     "data": {
      "image/png": "[encoded data removed]",
      "text/plain": [
       "<matplotlib.figure.Figure at 0x1086ddf28>"
      ]
     },
     "metadata": {},
     "output_type": "display_data"
    }
   ],
   "source": [
    "fig = plt.figure(figsize=FIGSIZE)\n",
    "ax = fig.add_subplot(111)\n",
    "ax.boxplot(final_grade)\n",
    "plt.show()"
   ]
  },
  {
   "cell_type": "markdown",
   "metadata": {},
   "source": [
    "Se aprecia como el bloxplot tiene sentido, ya que el sistema de notas de dicha institución va desde 0 a 20. Los valores extraños cercanos a 0 no pasan a ser outliers ya que se encuentran dentro de el rango esperado."
   ]
  },
  {
   "cell_type": "markdown",
   "metadata": {},
   "source": [
    "### 2.2.2 Tiempo de estudio"
   ]
  },
  {
   "cell_type": "code",
   "execution_count": 10,
   "metadata": {},
   "outputs": [
    {
     "data": {
      "image/png": "[encoded data removed]",
      "text/plain": [
       "<matplotlib.figure.Figure at 0x108d5dcf8>"
      ]
     },
     "metadata": {},
     "output_type": "display_data"
    }
   ],
   "source": [
    "fig = plt.figure(figsize=FIGSIZE)\n",
    "ax = fig.add_subplot(111)\n",
    "studytime.hist(ax=ax, bins=np.arange(studytime.min()-1, studytime.max()+1) + 0.5, width=0.8)\n",
    "ax.set_xticks(np.arange(0, 5) -0.1)\n",
    "ax.set_xticklabels(range(0, 5))\n",
    "ax.set_title(\"Histograma del tiempo de estudio\", fontsize=20)\n",
    "plt.show()"
   ]
  },
  {
   "cell_type": "markdown",
   "metadata": {},
   "source": [
    "El histograma nos muestra que las horas de estudio solo toman 4 valores. Se aprecia como la tendencia es estudiar 2 horas, y hacia los lados decae. No se puede hablar de una distribución por la poca cantidad de valores posibles que se tienen."
   ]
  },
  {
   "cell_type": "code",
   "execution_count": 11,
   "metadata": {},
   "outputs": [
    {
     "data": {
      "image/png": "[encoded data removed]",
      "text/plain": [
       "<matplotlib.figure.Figure at 0x108f435f8>"
      ]
     },
     "metadata": {},
     "output_type": "display_data"
    }
   ],
   "source": [
    "# Frecuencia relativa acumulada\n",
    "fig = plt.figure(figsize=FIGSIZE)\n",
    "ax = fig.add_subplot(111)\n",
    "studytime.hist(ax=ax, bins=np.arange(studytime.min()-1, studytime.max()+1) + 0.5, width=0.8, cumulative = True)\n",
    "ax.set_xticks(np.arange(0, 5) -0.1)\n",
    "ax.set_xticklabels(range(0, 5))\n",
    "ax.set_title(\"Histograma del tiempo de estudio\", fontsize=20)\n",
    "plt.show()"
   ]
  },
  {
   "cell_type": "code",
   "execution_count": 12,
   "metadata": {},
   "outputs": [
    {
     "data": {
      "image/png": "[encoded data removed]",
      "text/plain": [
       "<matplotlib.figure.Figure at 0x1086ddb38>"
      ]
     },
     "metadata": {},
     "output_type": "display_data"
    }
   ],
   "source": [
    "fig = plt.figure(figsize=FIGSIZE)\n",
    "ax = fig.add_subplot(111)\n",
    "ax.boxplot(studytime)\n",
    "plt.show()"
   ]
  },
  {
   "cell_type": "markdown",
   "metadata": {},
   "source": [
    "Este boxplot pierde un poco el sentido por lo mencionado anteriormente, la poca cantidad de valores posibles que toma esta variable. "
   ]
  },
  {
   "cell_type": "markdown",
   "metadata": {},
   "source": [
    "## Relacionando las variables\n",
    "A pesar de que se ha visto que no existe un índice de correlación muy alto entre `G3` y `studytime`, se continuará a hacer un boxplot para tener una noción de _orden_ entre las dos variables."
   ]
  },
  {
   "cell_type": "code",
   "execution_count": 13,
   "metadata": {},
   "outputs": [
    {
     "data": {
      "image/png": "[encoded data removed]",
      "text/plain": [
       "<matplotlib.figure.Figure at 0x109324400>"
      ]
     },
     "metadata": {},
     "output_type": "display_data"
    }
   ],
   "source": [
    "fig, ax = plt.subplots(figsize=FIGSIZE)\n",
    "df.boxplot(column='G3', by='studytime', ax=ax)\n",
    "plt.show()"
   ]
  },
  {
   "cell_type": "markdown",
   "metadata": {},
   "source": [
    "Se puede notar una pequeña separación entre las 2 y las 3 horas de estudio respecto a la nota final, pero entre las 3 y las 4 horas de estudio no hay diferencias significativas. Entre 1 hora de estudios, y 2 horas de estudio, se aprecia un pequeño crecimiento en la media. Se aprecia como la media aumenta, muy poco, mientras mas horas de estudio se tienen. Se cumple con la lógica de que al estudiar mas, el promedio debería permanecer igual o mayor, pero no disminuir. Un detalle que se aprecia es que el valor de la nota máxima se encuentra dentro de las 4 horas de estudio. "
   ]
  },
  {
   "cell_type": "code",
   "execution_count": 14,
   "metadata": {
    "scrolled": false
   },
   "outputs": [
    {
     "data": {
      "image/png": "[encoded data removed]",
      "text/plain": [
       "<matplotlib.figure.Figure at 0x1095b6e10>"
      ]
     },
     "metadata": {},
     "output_type": "display_data"
    }
   ],
   "source": [
    "#colors\n",
    "cmap = plt.get_cmap('viridis')\n",
    "colors = [cmap(i) for i in np.linspace(0.4, 1, 5)]\n",
    "\n",
    "fig, ax = plt.subplots(figsize=FIGSIZE)\n",
    "bottom = np.zeros(len(np.arange(-0.5, 20))-1)\n",
    "_grouped = df.groupby('studytime')\n",
    "for i, key in _grouped:\n",
    "    last_plot = ax.hist(key['G3'], color=colors[i-1], \n",
    "                        bins=np.arange(-0.5, 20) + 0.5, bottom=bottom, label=\"%d hora(s)\" % i, edgecolor='white')\n",
    "    bottom += np.array(last_plot[0])\n",
    "    #df.groupby(\"studytime\")['G3'].hist(bins=np.arange(-0.5, 20) + 0.5, alpha=0.7, color=colors)\n",
    "plt.title(\"Stacked histogram of grades\")\n",
    "plt.legend()\n",
    "plt.show()"
   ]
  },
  {
   "cell_type": "markdown",
   "metadata": {},
   "source": [
    "Pareciera que para todas las horas de estudio se sigue una distribución normal bastante similar, por lo que no se pueden notar grandes diferencias entre estudiar 1 o 4 horas. Nuevamente se tienen los valores que no siguen la distribución cerca del 0, cuya posible explicación se dio anteriormente."
   ]
  },
  {
   "cell_type": "markdown",
   "metadata": {},
   "source": [
    "## 2.3 Análisis por Target\n",
    "\n",
    "El target del dataset es intentar predecir la gente que reprobará antes de que lo haga, con el fin de atacar el problema antes de que ocurra. `G1` y `G2` corresponden a notas de los *semestres*, y `G3` a la nota final.\n",
    "\n",
    "En Portugal, lugar donde se recolectó la data, la escala de notas es como la siguiente:\n",
    "\n",
    "|         Rango         | Calificación |\n",
    "| :-------------------: | :----------: |\n",
    "|  $~20\\\\~~\\vdots\\\\17.5$  |  Excelente   |\n",
    "| $17.4\\\\~~\\vdots\\\\15.5$ |   Muy bien   |\n",
    "| $15.4\\\\~~\\vdots\\\\13.5$ |     Bien     |\n",
    "| $13.4\\\\~~\\vdots\\\\~9.5$  |  Suficiente  |\n",
    "|  $9.4\\\\~~\\vdots\\\\~3.5$  | Insuficiente |\n",
    "|   $3.4\\\\~~\\vdots\\\\~~0$   |     Mal      |\n",
    "\n",
    "Por lo tanto, para determinar si alguien aprueba o no, se tiene que cumplir que\n",
    "\n",
    "$$ G3 \\geq 9.5 $$\n",
    "\n",
    "Separaremos los datos en dos grupos, aprobados y no aprobados, y repetiremos los estudios anteriores sobre G3 y studytime.\n",
    "\n",
    "<span style = \"color:red\"> Observación: </span> Se presiente que separar las notas de acuerdo a G3, y luego analizar cambios en la varialbe G3 no tendrá mucho sentido. Si podría llevarnos a resultados interesantes el estudio sobre studytime."
   ]
  },
  {
   "cell_type": "code",
   "execution_count": 15,
   "metadata": {
    "scrolled": true
   },
   "outputs": [
    {
     "name": "stdout",
     "output_type": "stream",
     "text": [
      " Aprobaron un total de 265 alumnos (% 67.1)\n",
      " Reprobaron un total de 130 alumnos (% 32.9)\n"
     ]
    }
   ],
   "source": [
    "df_repro = df.copy()[df[\"G3\"]<9.5]\n",
    "df_repro.index = range(0, len(df_repro))\n",
    "df_apro = df.copy()[df[\"G3\"]>= 9.5]\n",
    "df_apro.index = range(0, len(df_apro))\n",
    "\n",
    "n = len(df)\n",
    "n_apro = len(df_apro)\n",
    "n_repro = len(df_repro)\n",
    "prob_apro = n_apro/n\n",
    "prob_repro = n_repro/n\n",
    "\n",
    "print(\"\"\" Aprobaron un total de %d alumnos (%% %.1f)\"\"\" %(n_apro, prob_apro*100)) \n",
    "print(\"\"\" Reprobaron un total de %d alumnos (%% %.1f)\"\"\" %(n_repro, prob_repro*100)) "
   ]
  },
  {
   "cell_type": "markdown",
   "metadata": {},
   "source": [
    "### 2.3.1 Alumnos aprobados."
   ]
  },
  {
   "cell_type": "code",
   "execution_count": 16,
   "metadata": {},
   "outputs": [
    {
     "data": {
      "image/png": "[encoded data removed]",
      "text/plain": [
       "<matplotlib.figure.Figure at 0x1097d9780>"
      ]
     },
     "metadata": {},
     "output_type": "display_data"
    }
   ],
   "source": [
    "fig = plt.figure(figsize=FIGSIZE)\n",
    "ax = fig.add_subplot(111)\n",
    "df_apro[\"G3\"].hist(ax=ax)\n",
    "ax.set_title(\"Histograma de la nota final en Matemáticas de los alumnos aprobados.\", fontsize=20)\n",
    "plt.show()"
   ]
  },
  {
   "cell_type": "markdown",
   "metadata": {},
   "source": [
    "Se aprecia que la nota de los alumnos que aprobaron estan concentrados cerca de la nota divisoria entre aprobados y reprobados. Aparte de eso este histograma no nos dice mucho, es simplemente la mitad derecha del histograma de las notas finales de matemáticas, que parecía tener una distribución normal."
   ]
  },
  {
   "cell_type": "code",
   "execution_count": 17,
   "metadata": {
    "scrolled": false
   },
   "outputs": [
    {
     "data": {
      "image/png": "[encoded data removed]",
      "text/plain": [
       "<matplotlib.figure.Figure at 0x10867f0f0>"
      ]
     },
     "metadata": {},
     "output_type": "display_data"
    }
   ],
   "source": [
    "fig = plt.figure(figsize=FIGSIZE)\n",
    "ax = fig.add_subplot(111)\n",
    "ax.boxplot(df_apro[\"G3\"])\n",
    "ax.set_title('Boxplot de la nota de matemáticas de los alumnos aprobados')\n",
    "plt.show()"
   ]
  },
  {
   "cell_type": "markdown",
   "metadata": {},
   "source": [
    "No nos dice mucho, solo que la nota de los alumnos aprobados esta concentrada cerca de la nota limite entre reprobados y aprobados."
   ]
  },
  {
   "cell_type": "code",
   "execution_count": 18,
   "metadata": {},
   "outputs": [
    {
     "data": {
      "image/png": "[encoded data removed]",
      "text/plain": [
       "<matplotlib.figure.Figure at 0x108f33828>"
      ]
     },
     "metadata": {},
     "output_type": "display_data"
    }
   ],
   "source": [
    "fig = plt.figure(figsize=FIGSIZE)\n",
    "ax = fig.add_subplot(111)\n",
    "df_apro[\"studytime\"].hist(ax=ax, bins=np.arange(studytime.min()-1, studytime.max()+1) + 0.5, width=0.8)\n",
    "ax.set_xticks(np.arange(0, 5) -0.1)\n",
    "ax.set_xticklabels(range(0, 5))\n",
    "ax.set_title(\"Histograma del tiempo de estudio de los alumnos aprobados.\", fontsize=20)\n",
    "plt.show()"
   ]
  },
  {
   "cell_type": "markdown",
   "metadata": {},
   "source": [
    "El histograma de la hora de estudio de los alumnos aprobados parece comportarse de igual manera que el de los alumnos en general."
   ]
  },
  {
   "cell_type": "markdown",
   "metadata": {},
   "source": [
    "### 2.3.2 Alumnos reprobados"
   ]
  },
  {
   "cell_type": "code",
   "execution_count": 19,
   "metadata": {},
   "outputs": [
    {
     "data": {
      "image/png": "[encoded data removed]",
      "text/plain": [
       "<matplotlib.figure.Figure at 0x108f082b0>"
      ]
     },
     "metadata": {},
     "output_type": "display_data"
    }
   ],
   "source": [
    "fig = plt.figure(figsize=FIGSIZE)\n",
    "ax = fig.add_subplot(111)\n",
    "df_repro[\"G3\"].hist(ax=ax)\n",
    "ax.set_title(\"Histograma de la nota final en Matemáticas de los alumnos reprobados.\", fontsize=20)\n",
    "plt.show()"
   ]
  },
  {
   "cell_type": "markdown",
   "metadata": {},
   "source": [
    "Igual que con los aprobados, este histograma solo nos muestra el lado izquierdo del histograma de las notas de todos los alumnos. "
   ]
  },
  {
   "cell_type": "code",
   "execution_count": 20,
   "metadata": {},
   "outputs": [
    {
     "data": {
      "image/png": "[encoded data removed]",
      "text/plain": [
       "<matplotlib.figure.Figure at 0x108f087f0>"
      ]
     },
     "metadata": {},
     "output_type": "display_data"
    }
   ],
   "source": [
    "fig = plt.figure(figsize=FIGSIZE)\n",
    "ax = fig.add_subplot(111)\n",
    "ax.boxplot(df_repro[\"G3\"])\n",
    "ax.set_title('Boxplot de la nota de matemáticas de los alumnos reprobados')\n",
    "plt.show()"
   ]
  },
  {
   "cell_type": "code",
   "execution_count": 21,
   "metadata": {},
   "outputs": [
    {
     "data": {
      "image/png": "[encoded data removed]",
      "text/plain": [
       "<matplotlib.figure.Figure at 0x10862b400>"
      ]
     },
     "metadata": {},
     "output_type": "display_data"
    }
   ],
   "source": [
    "fig = plt.figure(figsize=FIGSIZE)\n",
    "ax = fig.add_subplot(111)\n",
    "df_repro[\"studytime\"].hist(ax=ax, bins=np.arange(studytime.min()-1, studytime.max()+1) + 0.5, width=0.8)\n",
    "ax.set_xticks(np.arange(0, 5) -0.1)\n",
    "ax.set_xticklabels(range(0, 5))\n",
    "ax.set_title(\"Histograma del tiempo de estudio de los alumnos reprobados.\", fontsize=20)\n",
    "plt.show()"
   ]
  },
  {
   "cell_type": "markdown",
   "metadata": {},
   "source": [
    "El histograma de la hora de estudio de los alumnos reprobados parece comportarse de igual manera que el de los alumnos en general. Al menos en este gráfico."
   ]
  },
  {
   "cell_type": "markdown",
   "metadata": {},
   "source": [
    "### 2.3.3 Comparación del tiempo de estudio entre alumnos aprobados y reprobados."
   ]
  },
  {
   "cell_type": "code",
   "execution_count": 22,
   "metadata": {},
   "outputs": [
    {
     "data": {
      "image/png": "[encoded data removed]",
      "text/plain": [
       "<matplotlib.figure.Figure at 0x108633630>"
      ]
     },
     "metadata": {},
     "output_type": "display_data"
    }
   ],
   "source": [
    "fig = plt.figure(figsize=FIGSIZE)\n",
    "\n",
    "\n",
    "\n",
    "################# Alumnos aprobados\n",
    "\n",
    "ax1 = fig.add_subplot(121)\n",
    "\n",
    "labels = '1 hour', '2 hours', '3 hours', '4 hours'\n",
    "sizes = [len(df_apro[df_apro['studytime'] == 1])/n_apro, len(df_apro[df_apro['studytime'] == 2])/n_apro,\n",
    "         len(df_apro[df_apro['studytime'] == 3])/n_apro, len(df_apro[df_apro['studytime'] == 4])/n_apro]\n",
    "explode = (0, 0, 0, 0)\n",
    "\n",
    "ax1.pie(sizes, labels=labels, explode = explode, autopct='%1.1f%%',\n",
    "        shadow=True, startangle=90)\n",
    "ax1.axis('equal')  # Equal aspect ratio ensures that pie is drawn as a circle.\n",
    "ax1.set_title(\"Tiempo de estudio \\n alumnos aprobados\")\n",
    "\n",
    "################# Alumnos reprobados\n",
    "\n",
    "ax2 = fig.add_subplot(122)\n",
    "\n",
    "labels = '1 hour', '2 hours', '3 hours', '4 hours'\n",
    "sizes = [len(df_repro[df_repro['studytime'] == 1])/n_repro, len(df_repro[df_repro['studytime'] == 2])/n_repro,\n",
    "         len(df_repro[df_repro['studytime'] == 3])/n_repro, len(df_repro[df_repro['studytime'] == 4])/n_repro]\n",
    "explode = (0, 0, 0, 0)\n",
    "\n",
    "ax2.pie(sizes, labels=labels, explode = explode, autopct='%1.1f%%',\n",
    "        shadow=True, startangle=90)\n",
    "ax2.axis('equal')  # Equal aspect ratio ensures that pie is drawn as a circle.\n",
    "ax2.set_title(\"Tiempo de estudio \\n alumnos reprobados\")\n",
    "\n",
    "plt.show()\n"
   ]
  },
  {
   "cell_type": "markdown",
   "metadata": {},
   "source": [
    "Apreciamos como los alumnos aprobados efectivamente estudiaron mas que los reprobados. No es una diferencia tan abrumadora pero es notoria. El porcentaje de alumnos que estudiaron 3 y 4 horas es mayor dentro de los alumnos aprobados, mientras que el porcentaje de alumnos que estudiaron 1 y 2 horas es mayor dentro de los alumnos reprobados."
   ]
  },
  {
   "cell_type": "markdown",
   "metadata": {},
   "source": [
    "## Conclusiones\n",
    "\n",
    "Se generaron los atributos descriptivos principales para cada variable del dataset del ramo de matemáticas. Se pudo observar correlaciones interesantes entre al menos 3 pares de variables, y luego se eligieron como foco de estudio las variables G3 y studytime, debido a que se presumía una relación interesante entre ambas variables. Se hicieron 3 tipos de gráficos sobre cada variable. Se vio un comportamiento normal en la variable de las notas de matemática. Si bien se pudo apreciar un sutil aumento de la nota final en relación con las horas de estudio, no hizo una diferencia abrupta como se esperaba. Al separar el estudio segun el target(G3), entre alumnos aprobados y reprobados, no se pudo apreciar nada muy interesante al sacar los mismos gráficos anteriores en los nuevos conjuntos de datos, al menos con las variables que nosotros elegimos estudiar. Lo mas interesante apreciar que los alumnos que aprobaron efectivamente estudiaron mas que los reprobados. La diferencia entre las horas de estudio de ambos sets no fue muy grande pero si es facilmente apreciable."
   ]
  },
  {
   "cell_type": "markdown",
   "metadata": {},
   "source": [
    "## [Análisis en Tableau](https://public.tableau.com/profile/sebasti.n.aedo#!/vizhome/main_book/G3_Dashboard)"
   ]
  }
 ],
 "metadata": {
  "kernelspec": {
   "display_name": "Python 3",
   "language": "python",
   "name": "python3"
  },
  "language_info": {
   "codemirror_mode": {
    "name": "ipython",
    "version": 3
   },
   "file_extension": ".py",
   "mimetype": "text/x-python",
   "name": "python",
   "nbconvert_exporter": "python",
   "pygments_lexer": "ipython3",
   "version": "3.6.2"
  }
 },
 "nbformat": 4,
 "nbformat_minor": 2
}

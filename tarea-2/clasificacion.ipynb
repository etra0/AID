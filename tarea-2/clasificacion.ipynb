{
 "cells": [
  {
   "cell_type": "code",
   "execution_count": 7,
   "metadata": {
    "scrolled": true
   },
   "outputs": [],
   "source": [
    "import numpy as np\n",
    "from sklearn import datasets\n",
    "from sklearn.preprocessing import StandardScaler\n",
    "from sklearn.cross_validation import train_test_split\n",
    "from sklearn.discriminant_analysis import LinearDiscriminantAnalysis\n",
    "from sklearn.discriminant_analysis import QuadraticDiscriminantAnalysis\n",
    "from sklearn.svm import SVC\n",
    "from sklearn.neighbors import KNeighborsClassifier\n",
    "from sklearn.naive_bayes import GaussianNB\n",
    "from sklearn.tree import DecisionTreeClassifier\n",
    "from sklearn.metrics import accuracy_score      \n",
    "from sklearn.metrics import precision_score\n",
    "from sklearn.metrics import mean_absolute_error\n",
    "from sklearn.metrics import recall_score\n",
    "from sklearn.metrics import f1_score\n",
    "from pandas import read_csv\n",
    "from statsmodels.sandbox.tools.tools_pca import pcasvd\n",
    "import pandas as pd\n"
   ]
  },
  {
   "cell_type": "markdown",
   "metadata": {},
   "source": [
    "## Clasificación\n",
    "\n",
    "Se usarán las siguientes 3 técnicas de clasificación para los 3 datasets.\n",
    "\n",
    "1. Clasificación lineal\n",
    "2. Clasificación cuadrática\n",
    "3. K vecinos mas próximos (K Neighbors Classifier)\n",
    "\n",
    "Necesitamos la accuracy, precision y medida F de cada dataset. Estas serán guardadas en la siguiente estructura."
   ]
  },
  {
   "cell_type": "code",
   "execution_count": 34,
   "metadata": {},
   "outputs": [],
   "source": [
    "datasets = [\"hepatitis\", \"diabetes\", \"water\"]\n",
    "stats = {\"Lineal\":{}, \"Cuadratic\":{}, \"Neighbors\":{}}\n",
    "for i in stats:\n",
    "    for dataset in datasets:\n",
    "        stats[i][dataset] = dict()"
   ]
  },
  {
   "cell_type": "markdown",
   "metadata": {},
   "source": [
    "## Hepatitis"
   ]
  },
  {
   "cell_type": "code",
   "execution_count": 59,
   "metadata": {},
   "outputs": [],
   "source": [
    "vector = [\"Class\", \"AGE\", \"SEX\", \"STEROID\", \"ANTIVIRALS\", \n",
    "          \"FATIGUE\", \"MALAISE\", \"ANOREXIA\", \"LIVER BIG\", \"LIVER FIRM\", \"SPLEEN PALPABLE\",\n",
    "          \"SPIDERS\", \"ASCITES\", \"VARICES\", \"BILIRUBIN\", \"ALK PHOSPHATE\", \"SGOT\", \"ALBUMIN\",\n",
    "          \"PROTIME\", \"HISTOLOGY\"]\n",
    "hepatitis = read_csv('data/hepatitis.data', sep=',', names=vector, header=None)\n",
    "\n",
    "    \n",
    "floats = ['BILIRUBIN', 'ALBUMIN']\n",
    "integers = ['ALK PHOSPHATE', 'SGOT', 'PROTIME']\n",
    "\n",
    "for column in floats:\n",
    "    hepatitis[column] = pd.to_numeric(hepatitis[column], errors='coerce')\n",
    "    \n",
    "for column in integers:\n",
    "    hepatitis[column] = pd.to_numeric(hepatitis[column], errors='coerce')\n",
    "\n",
    "# Columnas booleanas\n",
    "non_boolean = ['AGE', 'BILIRUBIN', 'ALK PHOSPHATE', 'SGOT', 'ALBUMIN']\n",
    "\n",
    "# Sacar las columnas booleanas\n",
    "hepatitis = hepatitis.dropna()\n",
    "X = hepatitis.loc[:, non_boolean]\n",
    "y = hepatitis[\"Class\"]\n",
    "\n",
    "\n",
    "#Datos de entrenamiento y de prueba\n",
    "X= StandardScaler().fit_transform(X)\n",
    "X_train, X_test, y_train, y_test = train_test_split(X, y, test_size=.3) #entrenamiento al 30% de los datos\n",
    "\n",
    "# Clasificador Lineal\n",
    "clasificador_li = LinearDiscriminantAnalysis()\n",
    "clasificador1.fit(X_train,y_train)\n",
    "y_pred= clasificador1.predict(X_test)\n",
    "\n",
    "# Accuracy\n",
    "stats[\"Lineal\"][\"hepatitis\"][\"accuracy\"] = accuracy_score(y_test, y_pred)\n",
    "# Precision\n",
    "stats[\"Lineal\"][\"hepatitis\"][\"precision\"] = precision_score(y_test, y_pred, average='binary')\n",
    "# Medida F\n",
    "stats[\"Lineal\"][\"hepatitis\"][\"medida_f\"]=f1_score(y_test, y_pred)\n",
    "\n",
    "# Clasificador cuadratico\n",
    "\n",
    "clasificador2 =  QuadraticDiscriminantAnalysis()\n",
    "clasificador2.fit(X_train, y_train)\n",
    "y_pred = clasificador2.predict(X_test)\n",
    "\n",
    "# Accuracy\n",
    "stats[\"Cuadratic\"][\"hepatitis\"][\"accuracy\"] = accuracy_score(y_test, y_pred)\n",
    "# Precision\n",
    "stats[\"Cuadratic\"][\"hepatitis\"][\"precision\"] = precision_score(y_test, y_pred, average='binary')\n",
    "# Medida F\n",
    "stats[\"Cuadratic\"][\"hepatitis\"][\"medida_f\"]=f1_score(y_test, y_pred)\n",
    "\n",
    "# Clasificador K vecinos mas proximos. Con 3 vecinos mas proximos\n",
    "\n",
    "clasificador5=KNeighborsClassifier(3)\n",
    "clasificador5.fit(X_train, y_train)\n",
    "y_pred= clasificador5.predict(X_test)\n",
    "\n",
    "# Accuracy\n",
    "stats[\"Neighbors\"][\"hepatitis\"][\"accuracy\"] = accuracy_score(y_test, y_pred)\n",
    "# Precision\n",
    "stats[\"Neighbors\"][\"hepatitis\"][\"precision\"] = precision_score(y_test, y_pred, average='binary')\n",
    "# Medida F\n",
    "stats[\"Neighbors\"][\"hepatitis\"][\"medida_f\"]=f1_score(y_test, y_pred)\n",
    "\n"
   ]
  },
  {
   "cell_type": "code",
   "execution_count": 60,
   "metadata": {},
   "outputs": [
    {
     "name": "stdout",
     "output_type": "stream",
     "text": [
      "Metodo: Lineal\n",
      "\n",
      "accuracy : 0.72\n",
      "precision : 0.333333333333\n",
      "medida_f : 0.461538461538\n",
      "\n",
      "Metodo: Cuadratic\n",
      "\n",
      "accuracy : 0.76\n",
      "precision : 0.375\n",
      "medida_f : 0.5\n",
      "\n",
      "Metodo: Neighbors\n",
      "\n",
      "accuracy : 0.72\n",
      "precision : 0.333333333333\n",
      "medida_f : 0.461538461538\n",
      "\n"
     ]
    }
   ],
   "source": [
    "# Inprimir estadisticas solo para hepatitis\n",
    "\n",
    "for algorithm in stats:\n",
    "    print(\"Metodo:\",algorithm)\n",
    "    print()\n",
    "    for k,v in stats[algorithm][\"hepatitis\"].items():\n",
    "        print(k,\":\",v)\n",
    "    print()\n",
    "\n",
    "    \n",
    "        "
   ]
  },
  {
   "cell_type": "markdown",
   "metadata": {},
   "source": [
    "## Diabetes"
   ]
  },
  {
   "cell_type": "code",
   "execution_count": 61,
   "metadata": {},
   "outputs": [],
   "source": [
    "# Diabetes Dataset\n",
    "\n",
    "vector=['TP','glucose','DBP','TSFT','insulin','mass','DPF','age','status']\n",
    "diabetes = read_csv('data/pima-indians-diabetes.data',sep=',',names=vector,header=None)\n",
    "\n",
    "X = diabetes.loc[:,\"TP\":\"age\"]\n",
    "y = diabetes[\"status\"]"
   ]
  },
  {
   "cell_type": "code",
   "execution_count": 62,
   "metadata": {},
   "outputs": [],
   "source": [
    "#Datos de entrenamiento y de prueba\n",
    "X= StandardScaler().fit_transform(X)\n",
    "X_train, X_test, y_train, y_test = train_test_split(X, y, test_size=.3) #entrenamiento al 30% de los datos\n",
    "\n",
    "# Clasificador Lineal\n",
    "clasificador_li = LinearDiscriminantAnalysis()\n",
    "clasificador1.fit(X_train,y_train)\n",
    "y_pred= clasificador1.predict(X_test)\n",
    "\n",
    "# Accuracy\n",
    "stats[\"Lineal\"][\"diabetes\"][\"accuracy\"] = accuracy_score(y_test, y_pred)\n",
    "# Precision\n",
    "stats[\"Lineal\"][\"diabetes\"][\"precision\"] = precision_score(y_test, y_pred, average='binary')\n",
    "# Medida F\n",
    "stats[\"Lineal\"][\"diabetes\"][\"medida_f\"]=f1_score(y_test, y_pred)\n",
    "\n",
    "# Clasificador cuadratico\n",
    "\n",
    "clasificador2 =  QuadraticDiscriminantAnalysis()\n",
    "clasificador2.fit(X_train, y_train)\n",
    "y_pred = clasificador2.predict(X_test)\n",
    "\n",
    "# Accuracy\n",
    "stats[\"Cuadratic\"][\"diabetes\"][\"accuracy\"] = accuracy_score(y_test, y_pred)\n",
    "# Precision\n",
    "stats[\"Cuadratic\"][\"diabetes\"][\"precision\"] = precision_score(y_test, y_pred, average='binary')\n",
    "# Medida F\n",
    "stats[\"Cuadratic\"][\"diabetes\"][\"medida_f\"]=f1_score(y_test, y_pred)\n",
    "\n",
    "# Clasificador K vecinos mas proximos. Con 3 vecinos mas proximos\n",
    "\n",
    "clasificador5=KNeighborsClassifier(3)\n",
    "clasificador5.fit(X_train, y_train)\n",
    "y_pred= clasificador5.predict(X_test)\n",
    "\n",
    "# Accuracy\n",
    "stats[\"Neighbors\"][\"diabetes\"][\"accuracy\"] = accuracy_score(y_test, y_pred)\n",
    "# Precision\n",
    "stats[\"Neighbors\"][\"diabetes\"][\"precision\"] = precision_score(y_test, y_pred, average='binary')\n",
    "# Medida F\n",
    "stats[\"Neighbors\"][\"diabetes\"][\"medida_f\"]=f1_score(y_test, y_pred)\n"
   ]
  },
  {
   "cell_type": "code",
   "execution_count": 63,
   "metadata": {},
   "outputs": [
    {
     "name": "stdout",
     "output_type": "stream",
     "text": [
      "Metodo: Lineal\n",
      "\n",
      "accuracy : 0.78354978355\n",
      "precision : 0.709677419355\n",
      "medida_f : 0.63768115942\n",
      "\n",
      "Metodo: Cuadratic\n",
      "\n",
      "accuracy : 0.766233766234\n",
      "precision : 0.644736842105\n",
      "medida_f : 0.644736842105\n",
      "\n",
      "Metodo: Neighbors\n",
      "\n",
      "accuracy : 0.748917748918\n",
      "precision : 0.640625\n",
      "medida_f : 0.585714285714\n",
      "\n"
     ]
    }
   ],
   "source": [
    "for algorithm in stats:\n",
    "    print(\"Metodo:\",algorithm)\n",
    "    print()\n",
    "    for k,v in stats[algorithm][\"diabetes\"].items():\n",
    "        print(k,\":\",v)\n",
    "    print()"
   ]
  },
  {
   "cell_type": "code",
   "execution_count": null,
   "metadata": {},
   "outputs": [],
   "source": []
  }
 ],
 "metadata": {
  "kernelspec": {
   "display_name": "Python 3",
   "language": "python",
   "name": "python3"
  },
  "language_info": {
   "codemirror_mode": {
    "name": "ipython",
    "version": 3
   },
   "file_extension": ".py",
   "mimetype": "text/x-python",
   "name": "python",
   "nbconvert_exporter": "python",
   "pygments_lexer": "ipython3",
   "version": "3.6.2"
  }
 },
 "nbformat": 4,
 "nbformat_minor": 2
}

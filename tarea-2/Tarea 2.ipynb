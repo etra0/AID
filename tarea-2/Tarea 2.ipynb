{
 "cells": [
  {
   "cell_type": "markdown",
   "metadata": {},
   "source": [
    "<style>\n",
    "    .output {\n",
    "    display: table-cell;\n",
    "    text-align: center;\n",
    "    vertical-align: middle;\n",
    "    }\n",
    "</style>\n",
    "<center>\n",
    "    <h1> INF390 - Análisis Inteligente de Datos </h1>\n",
    "    <h1> Tarea 2 - Machine Learning con Python </h1>\n",
    "    <h3>\n",
    "        <table style=\"border: 0px;\">\n",
    "            <tr style=\"border: 0px;\">\n",
    "                <td style=\"text-align: center; border: 0px;\"> Sebastián Aedo</td>\n",
    "                <td style=\"text-align: center; border: 0px; padding-right: 50px;\"> </td>\n",
    "                <td style=\"text-align: center; border: 0px;\"> Diego Córdova </td>\n",
    "            </tr>\n",
    "            <tr style=\"border: 0px;\">\n",
    "                <td style=\"text-align: center; border: 0px;\"> 201573057-1 </td>\n",
    "                <td style=\"text-align: center; border: 0px; padding-right: 50px;\"> </td>\n",
    "                <td style=\"text-align: center; border: 0px;\"> 2014xxxxx-9 </td>\n",
    "            </tr>\n",
    "            <tr style=\"border: 0px;\">\n",
    "                <td style=\"text-align: center; font-size: 14px; border: 0px;\"> <code>sebastian.aedo@sansano.usm.cl </code></td>\n",
    "                <td style=\"text-align: center; border: 0px; padding-right: 50px;\"> </td>\n",
    "                <td style=\"text-align: center; font-size: 14px; border: 0px;\"><code>diego.cordova@sansano.usm.cl</code> </td>\n",
    "            </tr>\n",
    "        </table>\n",
    "    </h3> \n",
    "    <h4> Valparaíso, Viernes 8 de Diciembre de 2017 </h4>\n",
    "</center>"
   ]
  },
  {
   "cell_type": "markdown",
   "metadata": {},
   "source": [
    "## Tabla de contenidos\n",
    "\n",
    "* [Clustering](#1.-Clustering)\n",
    "    * [Hepatitis](#Hepatitis)\n",
    "    * [Diabetes](#Diabetes)"
   ]
  },
  {
   "cell_type": "code",
   "execution_count": 1,
   "metadata": {},
   "outputs": [],
   "source": [
    "import numpy as np\n",
    "import time\n",
    "\n",
    "from sklearn import datasets\n",
    "from sklearn.preprocessing import StandardScaler\n",
    "from sklearn.discriminant_analysis import LinearDiscriminantAnalysis\n",
    "from sklearn.discriminant_analysis import QuadraticDiscriminantAnalysis\n",
    "from sklearn.svm import SVC\n",
    "from sklearn.neighbors import KNeighborsClassifier\n",
    "from sklearn.naive_bayes import GaussianNB\n",
    "from sklearn.tree import DecisionTreeClassifier\n",
    "from sklearn.metrics import accuracy_score      \n",
    "from sklearn.metrics import precision_score\n",
    "from sklearn.metrics import mean_absolute_error\n",
    "from sklearn.metrics import recall_score\n",
    "from sklearn.metrics import f1_score\n",
    "\n",
    "from sklearn import cluster # Técnica de Clustering\n",
    "from sklearn.neighbors import kneighbors_graph # Técnica de k-Vecino mas cercano\n",
    "from sklearn.preprocessing import StandardScaler # Ténica para reescalar los datos\n",
    "from sklearn import metrics\n",
    "\n",
    "from pandas import read_csv\n",
    "import pandas as pd\n",
    "import matplotlib.pyplot as plt\n",
    "from statsmodels.sandbox.tools.tools_pca import pcasvd\n",
    "\n",
    "import seaborn as sns\n",
    "%matplotlib inline"
   ]
  },
  {
   "cell_type": "code",
   "execution_count": 2,
   "metadata": {},
   "outputs": [],
   "source": [
    "# Diabetes Dataset\n",
    "\n",
    "vector=['TP','glucose','DBP','TSFT','insulin','mass','DPF','age','status']\n",
    "diabetes = read_csv('data/pima-indians-diabetes.data',sep=',',names=vector,header=None)"
   ]
  },
  {
   "cell_type": "markdown",
   "metadata": {},
   "source": [
    "# 1. Clustering"
   ]
  },
  {
   "cell_type": "markdown",
   "metadata": {},
   "source": [
    "A continuación se aplicarán tres técnicas de clustering a los tres dataset presentados. Las tres técnicas a utilizar serán\n",
    "\n",
    "1. Average Linkage\n",
    "2. K-Means\n",
    "3. Ward\n",
    "\n",
    "Luego de aplicar cada algoritmo, se hará una breve comparación entre todos los métodos."
   ]
  },
  {
   "cell_type": "markdown",
   "metadata": {},
   "source": [
    "## Hepatitis"
   ]
  },
  {
   "cell_type": "markdown",
   "metadata": {},
   "source": [
    "A continuación se analizará el dataset de la hepatitis.\n",
    "\n",
    "Dentro de este dataset se presentan principalmente valores booleanos, \n",
    "y la bilirrubina que parece ser una variable contínua, sin embargo,\n",
    "en la descripción del dataset describen que es un valor **con lazos**, por lo que se podía \n",
    "**discretizar**. El objetivo de esta clasificación será intentar predecir la clase a partir\n",
    "de los otros parámetros."
   ]
  },
  {
   "cell_type": "code",
   "execution_count": 3,
   "metadata": {},
   "outputs": [],
   "source": [
    "vector = [\"Class\", \"AGE\", \"SEX\", \"STEROID\", \"ANTIVIRALS\", \n",
    "          \"FATIGUE\", \"MALAISE\", \"ANOREXIA\", \"LIVER BIG\", \"LIVER FIRM\", \"SPLEEN PALPABLE\",\n",
    "          \"SPIDERS\", \"ASCITES\", \"VARICES\", \"BILIRUBIN\", \"ALK PHOSPHATE\", \"SGOT\", \"ALBUMIN\",\n",
    "          \"PROTIME\", \"HISTOLOGY\"]\n",
    "hepatitis = read_csv('data/hepatitis.data', sep=',', names=vector, header=None)"
   ]
  },
  {
   "cell_type": "code",
   "execution_count": 4,
   "metadata": {
    "scrolled": false
   },
   "outputs": [
    {
     "name": "stdout",
     "output_type": "stream",
     "text": [
      "<class 'pandas.core.frame.DataFrame'>\n",
      "RangeIndex: 155 entries, 0 to 154\n",
      "Data columns (total 20 columns):\n",
      "Class              155 non-null int64\n",
      "AGE                155 non-null int64\n",
      "SEX                155 non-null int64\n",
      "STEROID            155 non-null object\n",
      "ANTIVIRALS         155 non-null int64\n",
      "FATIGUE            155 non-null object\n",
      "MALAISE            155 non-null object\n",
      "ANOREXIA           155 non-null object\n",
      "LIVER BIG          155 non-null object\n",
      "LIVER FIRM         155 non-null object\n",
      "SPLEEN PALPABLE    155 non-null object\n",
      "SPIDERS            155 non-null object\n",
      "ASCITES            155 non-null object\n",
      "VARICES            155 non-null object\n",
      "BILIRUBIN          155 non-null object\n",
      "ALK PHOSPHATE      155 non-null object\n",
      "SGOT               155 non-null object\n",
      "ALBUMIN            155 non-null object\n",
      "PROTIME            155 non-null object\n",
      "HISTOLOGY          155 non-null int64\n",
      "dtypes: int64(5), object(15)\n",
      "memory usage: 24.3+ KB\n"
     ]
    },
    {
     "data": {
      "text/html": [
       "<div>\n",
       "<table border=\"1\" class=\"dataframe\">\n",
       "  <thead>\n",
       "    <tr style=\"text-align: right;\">\n",
       "      <th></th>\n",
       "      <th>Class</th>\n",
       "      <th>AGE</th>\n",
       "      <th>SEX</th>\n",
       "      <th>STEROID</th>\n",
       "      <th>ANTIVIRALS</th>\n",
       "      <th>FATIGUE</th>\n",
       "      <th>MALAISE</th>\n",
       "      <th>ANOREXIA</th>\n",
       "      <th>LIVER BIG</th>\n",
       "      <th>LIVER FIRM</th>\n",
       "      <th>SPLEEN PALPABLE</th>\n",
       "      <th>SPIDERS</th>\n",
       "      <th>ASCITES</th>\n",
       "      <th>VARICES</th>\n",
       "      <th>BILIRUBIN</th>\n",
       "      <th>ALK PHOSPHATE</th>\n",
       "      <th>SGOT</th>\n",
       "      <th>ALBUMIN</th>\n",
       "      <th>PROTIME</th>\n",
       "      <th>HISTOLOGY</th>\n",
       "    </tr>\n",
       "  </thead>\n",
       "  <tbody>\n",
       "    <tr>\n",
       "      <th>0</th>\n",
       "      <td>2</td>\n",
       "      <td>30</td>\n",
       "      <td>2</td>\n",
       "      <td>1</td>\n",
       "      <td>2</td>\n",
       "      <td>2</td>\n",
       "      <td>2</td>\n",
       "      <td>2</td>\n",
       "      <td>1</td>\n",
       "      <td>2</td>\n",
       "      <td>2</td>\n",
       "      <td>2</td>\n",
       "      <td>2</td>\n",
       "      <td>2</td>\n",
       "      <td>1.00</td>\n",
       "      <td>85</td>\n",
       "      <td>18</td>\n",
       "      <td>4.0</td>\n",
       "      <td>?</td>\n",
       "      <td>1</td>\n",
       "    </tr>\n",
       "    <tr>\n",
       "      <th>1</th>\n",
       "      <td>2</td>\n",
       "      <td>50</td>\n",
       "      <td>1</td>\n",
       "      <td>1</td>\n",
       "      <td>2</td>\n",
       "      <td>1</td>\n",
       "      <td>2</td>\n",
       "      <td>2</td>\n",
       "      <td>1</td>\n",
       "      <td>2</td>\n",
       "      <td>2</td>\n",
       "      <td>2</td>\n",
       "      <td>2</td>\n",
       "      <td>2</td>\n",
       "      <td>0.90</td>\n",
       "      <td>135</td>\n",
       "      <td>42</td>\n",
       "      <td>3.5</td>\n",
       "      <td>?</td>\n",
       "      <td>1</td>\n",
       "    </tr>\n",
       "    <tr>\n",
       "      <th>2</th>\n",
       "      <td>2</td>\n",
       "      <td>78</td>\n",
       "      <td>1</td>\n",
       "      <td>2</td>\n",
       "      <td>2</td>\n",
       "      <td>1</td>\n",
       "      <td>2</td>\n",
       "      <td>2</td>\n",
       "      <td>2</td>\n",
       "      <td>2</td>\n",
       "      <td>2</td>\n",
       "      <td>2</td>\n",
       "      <td>2</td>\n",
       "      <td>2</td>\n",
       "      <td>0.70</td>\n",
       "      <td>96</td>\n",
       "      <td>32</td>\n",
       "      <td>4.0</td>\n",
       "      <td>?</td>\n",
       "      <td>1</td>\n",
       "    </tr>\n",
       "    <tr>\n",
       "      <th>3</th>\n",
       "      <td>2</td>\n",
       "      <td>31</td>\n",
       "      <td>1</td>\n",
       "      <td>?</td>\n",
       "      <td>1</td>\n",
       "      <td>2</td>\n",
       "      <td>2</td>\n",
       "      <td>2</td>\n",
       "      <td>2</td>\n",
       "      <td>2</td>\n",
       "      <td>2</td>\n",
       "      <td>2</td>\n",
       "      <td>2</td>\n",
       "      <td>2</td>\n",
       "      <td>0.70</td>\n",
       "      <td>46</td>\n",
       "      <td>52</td>\n",
       "      <td>4.0</td>\n",
       "      <td>80</td>\n",
       "      <td>1</td>\n",
       "    </tr>\n",
       "    <tr>\n",
       "      <th>4</th>\n",
       "      <td>2</td>\n",
       "      <td>34</td>\n",
       "      <td>1</td>\n",
       "      <td>2</td>\n",
       "      <td>2</td>\n",
       "      <td>2</td>\n",
       "      <td>2</td>\n",
       "      <td>2</td>\n",
       "      <td>2</td>\n",
       "      <td>2</td>\n",
       "      <td>2</td>\n",
       "      <td>2</td>\n",
       "      <td>2</td>\n",
       "      <td>2</td>\n",
       "      <td>1.00</td>\n",
       "      <td>?</td>\n",
       "      <td>200</td>\n",
       "      <td>4.0</td>\n",
       "      <td>?</td>\n",
       "      <td>1</td>\n",
       "    </tr>\n",
       "  </tbody>\n",
       "</table>\n",
       "</div>"
      ],
      "text/plain": [
       "   Class  AGE  SEX STEROID  ANTIVIRALS FATIGUE MALAISE ANOREXIA LIVER BIG  \\\n",
       "0      2   30    2       1           2       2       2        2         1   \n",
       "1      2   50    1       1           2       1       2        2         1   \n",
       "2      2   78    1       2           2       1       2        2         2   \n",
       "3      2   31    1       ?           1       2       2        2         2   \n",
       "4      2   34    1       2           2       2       2        2         2   \n",
       "\n",
       "  LIVER FIRM SPLEEN PALPABLE SPIDERS ASCITES VARICES BILIRUBIN ALK PHOSPHATE  \\\n",
       "0          2               2       2       2       2      1.00            85   \n",
       "1          2               2       2       2       2      0.90           135   \n",
       "2          2               2       2       2       2      0.70            96   \n",
       "3          2               2       2       2       2      0.70            46   \n",
       "4          2               2       2       2       2      1.00             ?   \n",
       "\n",
       "  SGOT ALBUMIN PROTIME  HISTOLOGY  \n",
       "0   18     4.0       ?          1  \n",
       "1   42     3.5       ?          1  \n",
       "2   32     4.0       ?          1  \n",
       "3   52     4.0      80          1  \n",
       "4  200     4.0       ?          1  "
      ]
     },
     "execution_count": 4,
     "metadata": {},
     "output_type": "execute_result"
    }
   ],
   "source": [
    "hepatitis.info()\n",
    "hepatitis.head()"
   ]
  },
  {
   "cell_type": "markdown",
   "metadata": {},
   "source": [
    "### Preparando el dataset"
   ]
  },
  {
   "cell_type": "markdown",
   "metadata": {},
   "source": [
    "Se puede notar que los valores están como `1`, `2` ó `?`. Para manejarlo con mayor facilidad, se reemplazarán por `True`, `False` o `None` según corresponda."
   ]
  },
  {
   "cell_type": "code",
   "execution_count": 5,
   "metadata": {},
   "outputs": [],
   "source": [
    "boolean_columns = [\"STEROID\", \"ANTIVIRALS\", \"FATIGUE\", \"MALAISE\", \"ANOREXIA\", \"LIVER BIG\", \"LIVER FIRM\", \"SPLEEN PALPABLE\",\n",
    "     \"SPIDERS\", \"ASCITES\", \"VARICES\", 'HISTOLOGY']\n",
    "for column in boolean_columns:\n",
    "    type_data = {'1': False, '2': True, '?': None}\n",
    "    hepatitis[column] = hepatitis[column].apply(lambda x: type_data[str(x)])"
   ]
  },
  {
   "cell_type": "markdown",
   "metadata": {},
   "source": [
    "El Sexo se tratará como `M` ó `F`."
   ]
  },
  {
   "cell_type": "code",
   "execution_count": 6,
   "metadata": {},
   "outputs": [],
   "source": [
    "type_data = {'1': 'M', '2': 'F', '?': np.nan}\n",
    "hepatitis['SEX'] = hepatitis['SEX'].apply(lambda x: type_data[str(x)])"
   ]
  },
  {
   "cell_type": "code",
   "execution_count": 7,
   "metadata": {},
   "outputs": [],
   "source": [
    "type_data = {'1': 'Dead', '2': 'Alive', '?': None}\n",
    "hepatitis['Class'] = hepatitis['Class'].apply(lambda x: type_data[str(x)])"
   ]
  },
  {
   "cell_type": "markdown",
   "metadata": {},
   "source": [
    "Ahora se modificarán las otras variables reemplazando el `?` por `None`."
   ]
  },
  {
   "cell_type": "code",
   "execution_count": 8,
   "metadata": {},
   "outputs": [],
   "source": [
    "floats = ['BILIRUBIN', 'ALBUMIN']\n",
    "integers = ['ALK PHOSPHATE', 'SGOT', 'PROTIME']\n",
    "\n",
    "for column in floats:\n",
    "    hepatitis[column] = pd.to_numeric(hepatitis[column], errors='coerce')\n",
    "    \n",
    "for column in integers:\n",
    "    hepatitis[column] = pd.to_numeric(hepatitis[column], errors='coerce')"
   ]
  },
  {
   "cell_type": "markdown",
   "metadata": {},
   "source": [
    "Luego, se procede a entrenar el clustering usando las variables contínuas"
   ]
  },
  {
   "cell_type": "code",
   "execution_count": 9,
   "metadata": {},
   "outputs": [],
   "source": [
    "non_boolean = ['AGE', 'BILIRUBIN', 'ALK PHOSPHATE', 'SGOT', 'ALBUMIN']"
   ]
  },
  {
   "cell_type": "code",
   "execution_count": 10,
   "metadata": {},
   "outputs": [],
   "source": [
    "# Esta función es un wrapper para obtener las métricas (y no tener que reescribir codigo)\n",
    "def get_metrics(f):\n",
    "    def function_wrapper(*args):\n",
    "        X, labels_true, labels = f(*args)\n",
    "        # Number of clusters in labels, ignoring noise if present.\n",
    "        n_clusters_ = len(set(labels)) - (1 if -1 in labels else 0)\n",
    "        silhouette = metrics.silhouette_score(X, labels)\n",
    "        if len(args) >= 3 and args[2]:\n",
    "            print('Estimated number of clusters: %d' % n_clusters_)\n",
    "            print(\"Homogeneity: %0.6f\" % metrics.homogeneity_score(labels_true, labels))\n",
    "            print(\"Completeness: %0.6f\" % metrics.completeness_score(labels_true, labels))\n",
    "            print(\"V-measure: %0.6f\" % metrics.v_measure_score(labels_true, labels))\n",
    "            print(\"Adjusted Rand Index: %0.6f\"\n",
    "                  % metrics.adjusted_rand_score(labels_true, labels))\n",
    "            print(\"Adjusted Mutual Information: %0.6f\"\n",
    "                  % metrics.adjusted_mutual_info_score(labels_true, labels))\n",
    "        \n",
    "            print(\"Silhouette Coefficient: %0.6f\"\n",
    "                  % silhouette)\n",
    "    \n",
    "        return (labels, silhouette)\n",
    "    return function_wrapper"
   ]
  },
  {
   "cell_type": "code",
   "execution_count": 11,
   "metadata": {},
   "outputs": [],
   "source": [
    "@get_metrics\n",
    "def test_algorithm(cols, algoritmo, metrics=False, scaled=True):\n",
    "    X = hepatitis.loc[:, cols].dropna()\n",
    "    y = hepatitis.loc[X.index,'Class']\n",
    "    if scaled:\n",
    "        X = StandardScaler().fit_transform(X)\n",
    "    \n",
    "    t0 = time.time()\n",
    "    algoritmo.fit(X)\n",
    "    t1 = time.time()\n",
    "\n",
    "    tiempo_ajuste = t1 - t0\n",
    "    if metrics:\n",
    "        print(\"Tiempo de ajuste: %.3f\" % tiempo_ajuste)\n",
    "    \n",
    "    y_pred = algoritmo.labels_.astype(np.int)\n",
    "    return (X, y, y_pred)\n"
   ]
  },
  {
   "cell_type": "markdown",
   "metadata": {},
   "source": [
    "## Aplicando Clustering"
   ]
  },
  {
   "cell_type": "markdown",
   "metadata": {},
   "source": [
    "### Average Linkage"
   ]
  },
  {
   "cell_type": "markdown",
   "metadata": {},
   "source": [
    "A continuación se probará la técnica *Average Linkage* para encontrar clusters."
   ]
  },
  {
   "cell_type": "code",
   "execution_count": 12,
   "metadata": {
    "scrolled": false
   },
   "outputs": [
    {
     "data": {
      "image/png": "[encoded data removed]",
      "text/plain": [
       "<matplotlib.figure.Figure at 0x1173a12b0>"
      ]
     },
     "metadata": {},
     "output_type": "display_data"
    }
   ],
   "source": [
    "fig, ax = plt.subplots(figsize=(10,5))\n",
    "\n",
    "average_linkage_silhouette = []\n",
    "\n",
    "for n in range(2, 50):\n",
    "    algoritmo = cluster.AgglomerativeClustering(linkage=\"average\", \n",
    "                            affinity=\"cityblock\", n_clusters=n)\n",
    "    \n",
    "    y_pred, silhouette = test_algorithm(non_boolean, algoritmo, False)\n",
    "    \n",
    "    average_linkage_silhouette.append(silhouette)\n",
    "    \n",
    "best_case = average_linkage_silhouette.index(max(average_linkage_silhouette))\n",
    "ax.scatter(range(2, 50), average_linkage_silhouette)\n",
    "ax.set_ylabel(\"Índice de Silhouette\")\n",
    "ax.set_xlabel(\"Número de clusters\");"
   ]
  },
  {
   "cell_type": "code",
   "execution_count": 13,
   "metadata": {},
   "outputs": [
    {
     "name": "stdout",
     "output_type": "stream",
     "text": [
      "Índice de silhouette con 2 clusters: 0.514280\n"
     ]
    }
   ],
   "source": [
    "print(\"Índice de silhouette con %d clusters: %f\" % (best_case+2, average_linkage_silhouette[best_case]))"
   ]
  },
  {
   "cell_type": "markdown",
   "metadata": {},
   "source": [
    "En el caso de Average Linkage, \n",
    "se puede apreciar que el mejor cluster es cuando $K = 2$, lo que es normal ya que existen 2 clases."
   ]
  },
  {
   "cell_type": "markdown",
   "metadata": {},
   "source": [
    "###  K–Means"
   ]
  },
  {
   "cell_type": "code",
   "execution_count": 14,
   "metadata": {
    "scrolled": true
   },
   "outputs": [
    {
     "data": {
      "image/png": "[encoded data removed]",
      "text/plain": [
       "<matplotlib.figure.Figure at 0x1173a1358>"
      ]
     },
     "metadata": {},
     "output_type": "display_data"
    }
   ],
   "source": [
    "fig, ax = plt.subplots(figsize=(10,5))\n",
    "\n",
    "kmeans_silhouette = []\n",
    "for n in range(2, 50):\n",
    "    algoritmo = cluster.KMeans(n_clusters=n)\n",
    "    y_pred, silhouette = test_algorithm(non_boolean, algoritmo, False)\n",
    "    kmeans_silhouette.append(silhouette)\n",
    "\n",
    "best_case = kmeans_silhouette.index(max(kmeans_silhouette))\n",
    "ax.scatter(range(2, 50), kmeans_silhouette)\n",
    "ax.set_ylabel(\"Índice de Silhouette\")\n",
    "ax.set_xlabel(\"Número de clusters\");"
   ]
  },
  {
   "cell_type": "code",
   "execution_count": 15,
   "metadata": {},
   "outputs": [
    {
     "name": "stdout",
     "output_type": "stream",
     "text": [
      "Índice de silhouette con 2 clusters: 0.309205\n"
     ]
    }
   ],
   "source": [
    "print(\"Índice de silhouette con %d clusters: %f\" % (best_case+2, kmeans_silhouette[best_case]))"
   ]
  },
  {
   "cell_type": "markdown",
   "metadata": {},
   "source": [
    "### WARD"
   ]
  },
  {
   "cell_type": "code",
   "execution_count": 16,
   "metadata": {},
   "outputs": [
    {
     "data": {
      "image/png": "[encoded data removed]",
      "text/plain": [
       "<matplotlib.figure.Figure at 0x1173a1128>"
      ]
     },
     "metadata": {},
     "output_type": "display_data"
    }
   ],
   "source": [
    "fig, ax = plt.subplots(figsize=(10,5))\n",
    "\n",
    "ward_silhouette = []\n",
    "for n in range(2, 50):\n",
    "    algoritmo = cluster.AgglomerativeClustering(n_clusters=n, linkage='ward')\n",
    "    \n",
    "    y_pred, silhouette = test_algorithm(non_boolean, algoritmo, False)\n",
    "    ward_silhouette.append(silhouette)\n",
    "    \n",
    "best_case = ward_silhouette.index(max(ward_silhouette))\n",
    "ax.scatter(range(2, 50), ward_silhouette)\n",
    "ax.set_ylabel(\"Índice de Silhouette\")\n",
    "ax.set_xlabel(\"Número de clusters\");"
   ]
  },
  {
   "cell_type": "code",
   "execution_count": 17,
   "metadata": {},
   "outputs": [
    {
     "name": "stdout",
     "output_type": "stream",
     "text": [
      "Índice de silhouette con 12 clusters: 0.265252\n"
     ]
    }
   ],
   "source": [
    "print(\"Índice de silhouette con %d clusters: %f\" % (best_case+2, ward_silhouette[best_case]))"
   ]
  },
  {
   "cell_type": "markdown",
   "metadata": {},
   "source": [
    "### Comparando"
   ]
  },
  {
   "cell_type": "code",
   "execution_count": 18,
   "metadata": {},
   "outputs": [
    {
     "data": {
      "text/markdown": [
       "| K | Average Linkage | K Means | Ward|\n",
       "|--:|----------------:|--------:|----:|\n",
       "| 2 | 0.514280 | 0.309205 | 0.200179 |\n",
       "| 3 | 0.364686 | 0.253419 | 0.205335 |\n",
       "| 4 | 0.320942 | 0.256197 | 0.231897 |\n",
       "| 5 | 0.306494 | 0.302939 | 0.252417 |\n",
       "| 6 | 0.290457 | 0.260006 | 0.237633 |\n",
       "| 7 | 0.267644 | 0.236586 | 0.244561 |\n",
       "| 8 | 0.297599 | 0.266192 | 0.251493 |\n",
       "| 9 | 0.262313 | 0.265786 | 0.258678 |\n",
       "| 10 | 0.270839 | 0.264175 | 0.261399 |\n",
       "| 11 | 0.262459 | 0.263972 | 0.261070 |\n",
       "| 12 | 0.209826 | 0.199687 | 0.265252 |\n",
       "| 13 | 0.197191 | 0.241270 | 0.190816 |\n",
       "| 14 | 0.190371 | 0.247368 | 0.191629 |\n",
       "| 15 | 0.182474 | 0.259526 | 0.203059 |\n",
       "| 16 | 0.173258 | 0.187891 | 0.201662 |\n",
       "| 17 | 0.184853 | 0.212881 | 0.205386 |\n",
       "| 18 | 0.161977 | 0.188226 | 0.188802 |\n",
       "| 19 | 0.161073 | 0.214997 | 0.190862 |\n",
       "| 20 | 0.158099 | 0.165557 | 0.197462 |\n",
       "| 21 | 0.183449 | 0.219469 | 0.191284 |\n",
       "| 22 | 0.177183 | 0.177719 | 0.196251 |\n",
       "| 23 | 0.175242 | 0.214215 | 0.190625 |\n",
       "| 24 | 0.166405 | 0.180460 | 0.192070 |\n",
       "| 25 | 0.163494 | 0.178266 | 0.194456 |\n",
       "| 26 | 0.159252 | 0.160939 | 0.185501 |\n",
       "| 27 | 0.141300 | 0.188117 | 0.187266 |\n",
       "| 28 | 0.139699 | 0.177820 | 0.192313 |\n",
       "| 29 | 0.204540 | 0.178449 | 0.196502 |\n",
       "| 30 | 0.202788 | 0.179466 | 0.200317 |\n",
       "| 31 | 0.202707 | 0.183071 | 0.203688 |\n",
       "| 32 | 0.197594 | 0.200685 | 0.205297 |\n",
       "| 33 | 0.194575 | 0.182312 | 0.203628 |\n",
       "| 34 | 0.185361 | 0.185970 | 0.202616 |\n",
       "| 35 | 0.208370 | 0.166734 | 0.199590 |\n",
       "| 36 | 0.204676 | 0.175700 | 0.198577 |\n",
       "| 37 | 0.205454 | 0.166345 | 0.200441 |\n",
       "| 38 | 0.199393 | 0.176534 | 0.197568 |\n",
       "| 39 | 0.192251 | 0.175158 | 0.198236 |\n",
       "| 40 | 0.192274 | 0.173734 | 0.196258 |\n",
       "| 41 | 0.187997 | 0.182608 | 0.194824 |\n",
       "| 42 | 0.187946 | 0.169821 | 0.192851 |\n",
       "| 43 | 0.177941 | 0.178991 | 0.196353 |\n",
       "| 44 | 0.170116 | 0.172798 | 0.199334 |\n",
       "| 45 | 0.163125 | 0.168545 | 0.196790 |\n",
       "| 46 | 0.159685 | 0.170736 | 0.203726 |\n",
       "| 47 | 0.150009 | 0.167597 | 0.206438 |\n",
       "| 48 | 0.135982 | 0.180853 | 0.202744 |\n",
       "| 49 | 0.133020 | 0.170151 | 0.208869 |\n",
       "\n"
      ],
      "text/plain": [
       "<IPython.core.display.Markdown object>"
      ]
     },
     "metadata": {},
     "output_type": "display_data"
    }
   ],
   "source": [
    "from IPython.display import display, Markdown, Latex\n",
    "\n",
    "to_print = \"| K | Average Linkage | K Means | Ward|\\n\"\n",
    "to_print += \"|--:|----------------:|--------:|----:|\\n\"\n",
    "for i in range(len(ward_silhouette)):\n",
    "    to_print += \"| %d | %f | %f | %f |\\n\" % (i+2, average_linkage_silhouette[i], \n",
    "                                             kmeans_silhouette[i], ward_silhouette[i])\n",
    "to_print += \"\\n\"\n",
    "display(Markdown(to_print))"
   ]
  },
  {
   "cell_type": "markdown",
   "metadata": {},
   "source": [
    "Como se puede apreciar en la tabla anterior, la que tuvo peor perfomance fue Ward, y la que mejor rindió en este caso fue Average Linkage."
   ]
  },
  {
   "cell_type": "markdown",
   "metadata": {},
   "source": [
    "## Diabetes"
   ]
  },
  {
   "cell_type": "code",
   "execution_count": 19,
   "metadata": {},
   "outputs": [],
   "source": [
    "# Diabetes Dataset\n",
    "vector=['TP','glucose','DBP','TSFT','insulin','mass','DPF','age','status']\n",
    "diabetes = read_csv('data/pima-indians-diabetes.data',sep=',',names=vector,header=None)"
   ]
  },
  {
   "cell_type": "code",
   "execution_count": 20,
   "metadata": {},
   "outputs": [
    {
     "name": "stdout",
     "output_type": "stream",
     "text": [
      "<class 'pandas.core.frame.DataFrame'>\n",
      "RangeIndex: 768 entries, 0 to 767\n",
      "Data columns (total 9 columns):\n",
      "TP         768 non-null int64\n",
      "glucose    768 non-null int64\n",
      "DBP        768 non-null int64\n",
      "TSFT       768 non-null int64\n",
      "insulin    768 non-null int64\n",
      "mass       768 non-null float64\n",
      "DPF        768 non-null float64\n",
      "age        768 non-null int64\n",
      "status     768 non-null int64\n",
      "dtypes: float64(2), int64(7)\n",
      "memory usage: 54.1 KB\n"
     ]
    },
    {
     "data": {
      "text/html": [
       "<div>\n",
       "<table border=\"1\" class=\"dataframe\">\n",
       "  <thead>\n",
       "    <tr style=\"text-align: right;\">\n",
       "      <th></th>\n",
       "      <th>TP</th>\n",
       "      <th>glucose</th>\n",
       "      <th>DBP</th>\n",
       "      <th>TSFT</th>\n",
       "      <th>insulin</th>\n",
       "      <th>mass</th>\n",
       "      <th>DPF</th>\n",
       "      <th>age</th>\n",
       "      <th>status</th>\n",
       "    </tr>\n",
       "  </thead>\n",
       "  <tbody>\n",
       "    <tr>\n",
       "      <th>0</th>\n",
       "      <td>6</td>\n",
       "      <td>148</td>\n",
       "      <td>72</td>\n",
       "      <td>35</td>\n",
       "      <td>0</td>\n",
       "      <td>33.6</td>\n",
       "      <td>0.627</td>\n",
       "      <td>50</td>\n",
       "      <td>1</td>\n",
       "    </tr>\n",
       "    <tr>\n",
       "      <th>1</th>\n",
       "      <td>1</td>\n",
       "      <td>85</td>\n",
       "      <td>66</td>\n",
       "      <td>29</td>\n",
       "      <td>0</td>\n",
       "      <td>26.6</td>\n",
       "      <td>0.351</td>\n",
       "      <td>31</td>\n",
       "      <td>0</td>\n",
       "    </tr>\n",
       "    <tr>\n",
       "      <th>2</th>\n",
       "      <td>8</td>\n",
       "      <td>183</td>\n",
       "      <td>64</td>\n",
       "      <td>0</td>\n",
       "      <td>0</td>\n",
       "      <td>23.3</td>\n",
       "      <td>0.672</td>\n",
       "      <td>32</td>\n",
       "      <td>1</td>\n",
       "    </tr>\n",
       "    <tr>\n",
       "      <th>3</th>\n",
       "      <td>1</td>\n",
       "      <td>89</td>\n",
       "      <td>66</td>\n",
       "      <td>23</td>\n",
       "      <td>94</td>\n",
       "      <td>28.1</td>\n",
       "      <td>0.167</td>\n",
       "      <td>21</td>\n",
       "      <td>0</td>\n",
       "    </tr>\n",
       "    <tr>\n",
       "      <th>4</th>\n",
       "      <td>0</td>\n",
       "      <td>137</td>\n",
       "      <td>40</td>\n",
       "      <td>35</td>\n",
       "      <td>168</td>\n",
       "      <td>43.1</td>\n",
       "      <td>2.288</td>\n",
       "      <td>33</td>\n",
       "      <td>1</td>\n",
       "    </tr>\n",
       "  </tbody>\n",
       "</table>\n",
       "</div>"
      ],
      "text/plain": [
       "   TP  glucose  DBP  TSFT  insulin  mass    DPF  age  status\n",
       "0   6      148   72    35        0  33.6  0.627   50       1\n",
       "1   1       85   66    29        0  26.6  0.351   31       0\n",
       "2   8      183   64     0        0  23.3  0.672   32       1\n",
       "3   1       89   66    23       94  28.1  0.167   21       0\n",
       "4   0      137   40    35      168  43.1  2.288   33       1"
      ]
     },
     "execution_count": 20,
     "metadata": {},
     "output_type": "execute_result"
    }
   ],
   "source": [
    "diabetes.info()\n",
    "diabetes.head()"
   ]
  },
  {
   "cell_type": "markdown",
   "metadata": {},
   "source": [
    "En el caso de este dataset, las variables 0 no tienen sentido, por lo que serán reemplazadas por `NaN` ya que no contribuyen con la información."
   ]
  },
  {
   "cell_type": "code",
   "execution_count": 21,
   "metadata": {},
   "outputs": [],
   "source": [
    "diabetes.replace(0, np.nan);\n",
    "valid_cols = diabetes.loc[:, :'age'].columns"
   ]
  },
  {
   "cell_type": "code",
   "execution_count": 22,
   "metadata": {},
   "outputs": [],
   "source": [
    "@get_metrics\n",
    "def test_algorithm(cols, algoritmo, metrics=False, scaled=True):\n",
    "    X = diabetes.loc[:, cols].dropna()\n",
    "    y = diabetes.loc[X.index,'status']\n",
    "    if scaled:\n",
    "        X = StandardScaler().fit_transform(X)\n",
    "    \n",
    "    t0 = time.time()\n",
    "    algoritmo.fit(X)\n",
    "    t1 = time.time()\n",
    "\n",
    "    tiempo_ajuste = t1 - t0\n",
    "    if metrics:\n",
    "        print(\"Tiempo de ajuste: %.3f\" % tiempo_ajuste)\n",
    "    \n",
    "    y_pred = algoritmo.labels_.astype(np.int)\n",
    "    return (X, y, y_pred)"
   ]
  },
  {
   "cell_type": "markdown",
   "metadata": {},
   "source": [
    "### Average Linkage"
   ]
  },
  {
   "cell_type": "code",
   "execution_count": 23,
   "metadata": {},
   "outputs": [
    {
     "data": {
      "image/png": "[encoded data removed]",
      "text/plain": [
       "<matplotlib.figure.Figure at 0x117f0d208>"
      ]
     },
     "metadata": {},
     "output_type": "display_data"
    }
   ],
   "source": [
    "fig, ax = plt.subplots(figsize=(10,5))\n",
    "\n",
    "average_linkage_silhouette = []\n",
    "\n",
    "for n in range(2, 50):\n",
    "    algoritmo = cluster.AgglomerativeClustering(linkage=\"average\", \n",
    "                            affinity=\"cityblock\", n_clusters=n)\n",
    "    \n",
    "    y_pred, silhouette = test_algorithm(valid_cols, algoritmo, False)\n",
    "    \n",
    "    average_linkage_silhouette.append(silhouette)\n",
    "    \n",
    "best_case = average_linkage_silhouette.index(max(average_linkage_silhouette))\n",
    "ax.scatter(range(2, 50), average_linkage_silhouette)\n",
    "ax.set_ylabel(\"Índice de Silhouette\")\n",
    "ax.set_xlabel(\"Número de clusters\");"
   ]
  },
  {
   "cell_type": "code",
   "execution_count": 24,
   "metadata": {},
   "outputs": [
    {
     "name": "stdout",
     "output_type": "stream",
     "text": [
      "Índice de silhouette con 2 clusters: 0.427439\n"
     ]
    }
   ],
   "source": [
    "print(\"Índice de silhouette con %d clusters: %f\" % (best_case+2, average_linkage_silhouette[best_case]))"
   ]
  },
  {
   "cell_type": "markdown",
   "metadata": {},
   "source": [
    "### K-Means"
   ]
  },
  {
   "cell_type": "code",
   "execution_count": 25,
   "metadata": {},
   "outputs": [
    {
     "data": {
      "image/png": "[encoded data removed]",
      "text/plain": [
       "<matplotlib.figure.Figure at 0x118028d68>"
      ]
     },
     "metadata": {},
     "output_type": "display_data"
    }
   ],
   "source": [
    "fig, ax = plt.subplots(figsize=(10,5))\n",
    "\n",
    "kmeans_silhouette = []\n",
    "for n in range(2, 50):\n",
    "    algoritmo = cluster.KMeans(n_clusters=n)\n",
    "    y_pred, silhouette = test_algorithm(valid_cols, algoritmo, False)\n",
    "    kmeans_silhouette.append(silhouette)\n",
    "\n",
    "best_case = kmeans_silhouette.index(max(kmeans_silhouette))\n",
    "ax.scatter(range(2, 50), kmeans_silhouette)\n",
    "ax.set_ylabel(\"Índice de Silhouette\")\n",
    "ax.set_xlabel(\"Número de clusters\");"
   ]
  },
  {
   "cell_type": "code",
   "execution_count": 26,
   "metadata": {},
   "outputs": [
    {
     "name": "stdout",
     "output_type": "stream",
     "text": [
      "Índice de silhouette con 4 clusters: 0.201749\n"
     ]
    }
   ],
   "source": [
    "print(\"Índice de silhouette con %d clusters: %f\" % (best_case+2, kmeans_silhouette[best_case]))"
   ]
  },
  {
   "cell_type": "markdown",
   "metadata": {},
   "source": [
    "### Ward"
   ]
  },
  {
   "cell_type": "code",
   "execution_count": 27,
   "metadata": {},
   "outputs": [
    {
     "data": {
      "image/png": "[encoded data removed]",
      "text/plain": [
       "<matplotlib.figure.Figure at 0x11931f9b0>"
      ]
     },
     "metadata": {},
     "output_type": "display_data"
    }
   ],
   "source": [
    "fig, ax = plt.subplots(figsize=(10,5))\n",
    "\n",
    "ward_silhouette = []\n",
    "for n in range(2, 50):\n",
    "    algoritmo = cluster.AgglomerativeClustering(n_clusters=n, linkage='ward')\n",
    "    \n",
    "    y_pred, silhouette = test_algorithm(valid_cols, algoritmo, False)\n",
    "    ward_silhouette.append(silhouette)\n",
    "    \n",
    "best_case = ward_silhouette.index(max(ward_silhouette))\n",
    "ax.scatter(range(2, 50), ward_silhouette)\n",
    "ax.set_ylabel(\"Índice de Silhouette\")\n",
    "ax.set_xlabel(\"Número de clusters\");"
   ]
  },
  {
   "cell_type": "code",
   "execution_count": 28,
   "metadata": {},
   "outputs": [
    {
     "name": "stdout",
     "output_type": "stream",
     "text": [
      "Índice de silhouette con 5 clusters: 0.177826\n"
     ]
    }
   ],
   "source": [
    "print(\"Índice de silhouette con %d clusters: %f\" % (best_case+2, ward_silhouette[best_case]))"
   ]
  },
  {
   "cell_type": "code",
   "execution_count": 29,
   "metadata": {},
   "outputs": [
    {
     "data": {
      "text/markdown": [
       "| K | Average Linkage | K Means | Ward|\n",
       "|--:|----------------:|--------:|----:|\n",
       "| 2 | 0.427439 | 0.195654 | 0.156755 |\n",
       "| 3 | 0.407561 | 0.180771 | 0.170633 |\n",
       "| 4 | 0.385828 | 0.201749 | 0.169487 |\n",
       "| 5 | 0.303132 | 0.188273 | 0.177826 |\n",
       "| 6 | 0.292418 | 0.162077 | 0.134541 |\n",
       "| 7 | 0.279758 | 0.168819 | 0.148072 |\n",
       "| 8 | 0.242812 | 0.161878 | 0.120666 |\n",
       "| 9 | 0.222591 | 0.165766 | 0.125895 |\n",
       "| 10 | 0.176943 | 0.151993 | 0.131581 |\n",
       "| 11 | 0.154045 | 0.145068 | 0.105189 |\n",
       "| 12 | 0.149088 | 0.155757 | 0.107171 |\n",
       "| 13 | 0.145954 | 0.155790 | 0.110458 |\n",
       "| 14 | 0.135795 | 0.155469 | 0.110430 |\n",
       "| 15 | 0.121773 | 0.155632 | 0.114424 |\n",
       "| 16 | 0.108665 | 0.152532 | 0.113633 |\n",
       "| 17 | 0.101282 | 0.148623 | 0.113676 |\n",
       "| 18 | 0.099696 | 0.147645 | 0.117147 |\n",
       "| 19 | 0.124709 | 0.150837 | 0.117211 |\n",
       "| 20 | 0.122618 | 0.140490 | 0.101784 |\n",
       "| 21 | 0.120099 | 0.135998 | 0.100109 |\n",
       "| 22 | 0.113223 | 0.137221 | 0.104125 |\n",
       "| 23 | 0.107301 | 0.144445 | 0.105336 |\n",
       "| 24 | 0.103163 | 0.146016 | 0.107624 |\n",
       "| 25 | 0.102231 | 0.131715 | 0.109770 |\n",
       "| 26 | 0.129967 | 0.137693 | 0.111788 |\n",
       "| 27 | 0.121774 | 0.131648 | 0.113724 |\n",
       "| 28 | 0.128059 | 0.119749 | 0.113029 |\n",
       "| 29 | 0.123649 | 0.132923 | 0.115293 |\n",
       "| 30 | 0.119641 | 0.133678 | 0.111744 |\n",
       "| 31 | 0.118926 | 0.131176 | 0.111143 |\n",
       "| 32 | 0.121376 | 0.133244 | 0.111385 |\n",
       "| 33 | 0.118989 | 0.143654 | 0.107380 |\n",
       "| 34 | 0.113821 | 0.135899 | 0.108948 |\n",
       "| 35 | 0.112072 | 0.133833 | 0.108714 |\n",
       "| 36 | 0.093907 | 0.132275 | 0.110050 |\n",
       "| 37 | 0.094296 | 0.126309 | 0.111167 |\n",
       "| 38 | 0.097776 | 0.133965 | 0.110859 |\n",
       "| 39 | 0.098940 | 0.137157 | 0.112647 |\n",
       "| 40 | 0.097888 | 0.128318 | 0.114890 |\n",
       "| 41 | 0.095674 | 0.136942 | 0.117247 |\n",
       "| 42 | 0.092463 | 0.140730 | 0.113799 |\n",
       "| 43 | 0.089688 | 0.134525 | 0.114904 |\n",
       "| 44 | 0.088434 | 0.142539 | 0.114785 |\n",
       "| 45 | 0.087623 | 0.131232 | 0.115294 |\n",
       "| 46 | 0.089073 | 0.131848 | 0.116855 |\n",
       "| 47 | 0.086870 | 0.133957 | 0.117950 |\n",
       "| 48 | 0.086762 | 0.133986 | 0.117900 |\n",
       "| 49 | 0.078643 | 0.136367 | 0.119956 |\n",
       "\n"
      ],
      "text/plain": [
       "<IPython.core.display.Markdown object>"
      ]
     },
     "metadata": {},
     "output_type": "display_data"
    }
   ],
   "source": [
    "from IPython.display import display, Markdown, Latex\n",
    "\n",
    "to_print = \"| K | Average Linkage | K Means | Ward|\\n\"\n",
    "to_print += \"|--:|----------------:|--------:|----:|\\n\"\n",
    "for i in range(len(ward_silhouette)):\n",
    "    to_print += \"| %d | %f | %f | %f |\\n\" % (i+2, average_linkage_silhouette[i], \n",
    "                                             kmeans_silhouette[i], ward_silhouette[i])\n",
    "to_print += \"\\n\"\n",
    "display(Markdown(to_print))"
   ]
  },
  {
   "cell_type": "markdown",
   "metadata": {},
   "source": [
    "## Water Treatment"
   ]
  },
  {
   "cell_type": "code",
   "execution_count": 30,
   "metadata": {},
   "outputs": [],
   "source": [
    "header = ['DATE', 'Q-E', 'ZN-E', 'PH-E', 'DBO-E', 'DQO-E', 'SS-E', 'SSV-E', 'SED-E', 'COND-E', 'PH-P', 'DBO-P', 'SS-P', 'SSV-P',\n",
    "'SED-P', 'COND-P', 'PH-D', 'DBO-D', 'DQO-D', 'SS-D', 'SSV-D', 'SED-D', 'COND-D', 'PH-S', 'DBO-S',\n",
    "'DQO-S', 'SS-S', 'SSV-S', 'SED-S', 'COND-S', 'RD-DBO-P', 'RD-SS-P', 'RD-SED-P', 'RD-DBO-S', 'RD-DQO-S', 'RD-DBO-G',\n",
    "'RD-DQO-G', 'RD-SS-G', 'RD-SED-G']\n",
    "\n",
    "water = pd.read_csv('data/water-treatment.data', header=None)\n",
    "water.columns = header"
   ]
  },
  {
   "cell_type": "code",
   "execution_count": 31,
   "metadata": {},
   "outputs": [
    {
     "name": "stdout",
     "output_type": "stream",
     "text": [
      "<class 'pandas.core.frame.DataFrame'>\n",
      "RangeIndex: 527 entries, 0 to 526\n",
      "Data columns (total 39 columns):\n",
      "DATE        527 non-null object\n",
      "Q-E         527 non-null object\n",
      "ZN-E        527 non-null object\n",
      "PH-E        527 non-null float64\n",
      "DBO-E       527 non-null object\n",
      "DQO-E       527 non-null object\n",
      "SS-E        527 non-null object\n",
      "SSV-E       527 non-null object\n",
      "SED-E       527 non-null object\n",
      "COND-E      527 non-null int64\n",
      "PH-P        527 non-null float64\n",
      "DBO-P       527 non-null object\n",
      "SS-P        527 non-null int64\n",
      "SSV-P       527 non-null object\n",
      "SED-P       527 non-null object\n",
      "COND-P      527 non-null int64\n",
      "PH-D        527 non-null float64\n",
      "DBO-D       527 non-null object\n",
      "DQO-D       527 non-null object\n",
      "SS-D        527 non-null object\n",
      "SSV-D       527 non-null object\n",
      "SED-D       527 non-null object\n",
      "COND-D      527 non-null int64\n",
      "PH-S        527 non-null object\n",
      "DBO-S       527 non-null object\n",
      "DQO-S       527 non-null object\n",
      "SS-S        527 non-null object\n",
      "SSV-S       527 non-null object\n",
      "SED-S       527 non-null object\n",
      "COND-S      527 non-null object\n",
      "RD-DBO-P    527 non-null object\n",
      "RD-SS-P     527 non-null object\n",
      "RD-SED-P    527 non-null object\n",
      "RD-DBO-S    527 non-null object\n",
      "RD-DQO-S    527 non-null object\n",
      "RD-DBO-G    527 non-null object\n",
      "RD-DQO-G    527 non-null object\n",
      "RD-SS-G     527 non-null object\n",
      "RD-SED-G    527 non-null object\n",
      "dtypes: float64(3), int64(4), object(32)\n",
      "memory usage: 160.6+ KB\n"
     ]
    },
    {
     "data": {
      "text/html": [
       "<div>\n",
       "<table border=\"1\" class=\"dataframe\">\n",
       "  <thead>\n",
       "    <tr style=\"text-align: right;\">\n",
       "      <th></th>\n",
       "      <th>DATE</th>\n",
       "      <th>Q-E</th>\n",
       "      <th>ZN-E</th>\n",
       "      <th>PH-E</th>\n",
       "      <th>DBO-E</th>\n",
       "      <th>DQO-E</th>\n",
       "      <th>SS-E</th>\n",
       "      <th>SSV-E</th>\n",
       "      <th>SED-E</th>\n",
       "      <th>COND-E</th>\n",
       "      <th>...</th>\n",
       "      <th>COND-S</th>\n",
       "      <th>RD-DBO-P</th>\n",
       "      <th>RD-SS-P</th>\n",
       "      <th>RD-SED-P</th>\n",
       "      <th>RD-DBO-S</th>\n",
       "      <th>RD-DQO-S</th>\n",
       "      <th>RD-DBO-G</th>\n",
       "      <th>RD-DQO-G</th>\n",
       "      <th>RD-SS-G</th>\n",
       "      <th>RD-SED-G</th>\n",
       "    </tr>\n",
       "  </thead>\n",
       "  <tbody>\n",
       "    <tr>\n",
       "      <th>0</th>\n",
       "      <td>D-1/3/90</td>\n",
       "      <td>44101</td>\n",
       "      <td>1.50</td>\n",
       "      <td>7.8</td>\n",
       "      <td>?</td>\n",
       "      <td>407</td>\n",
       "      <td>166</td>\n",
       "      <td>66.3</td>\n",
       "      <td>4.5</td>\n",
       "      <td>2110</td>\n",
       "      <td>...</td>\n",
       "      <td>2000</td>\n",
       "      <td>?</td>\n",
       "      <td>58.8</td>\n",
       "      <td>95.5</td>\n",
       "      <td>?</td>\n",
       "      <td>70.0</td>\n",
       "      <td>?</td>\n",
       "      <td>79.4</td>\n",
       "      <td>87.3</td>\n",
       "      <td>99.6</td>\n",
       "    </tr>\n",
       "    <tr>\n",
       "      <th>1</th>\n",
       "      <td>D-2/3/90</td>\n",
       "      <td>39024</td>\n",
       "      <td>3.00</td>\n",
       "      <td>7.7</td>\n",
       "      <td>?</td>\n",
       "      <td>443</td>\n",
       "      <td>214</td>\n",
       "      <td>69.2</td>\n",
       "      <td>6.5</td>\n",
       "      <td>2660</td>\n",
       "      <td>...</td>\n",
       "      <td>2590</td>\n",
       "      <td>?</td>\n",
       "      <td>60.7</td>\n",
       "      <td>94.8</td>\n",
       "      <td>?</td>\n",
       "      <td>80.8</td>\n",
       "      <td>?</td>\n",
       "      <td>79.5</td>\n",
       "      <td>92.1</td>\n",
       "      <td>100</td>\n",
       "    </tr>\n",
       "    <tr>\n",
       "      <th>2</th>\n",
       "      <td>D-4/3/90</td>\n",
       "      <td>32229</td>\n",
       "      <td>5.00</td>\n",
       "      <td>7.6</td>\n",
       "      <td>?</td>\n",
       "      <td>528</td>\n",
       "      <td>186</td>\n",
       "      <td>69.9</td>\n",
       "      <td>3.4</td>\n",
       "      <td>1666</td>\n",
       "      <td>...</td>\n",
       "      <td>1888</td>\n",
       "      <td>?</td>\n",
       "      <td>58.2</td>\n",
       "      <td>95.6</td>\n",
       "      <td>?</td>\n",
       "      <td>52.9</td>\n",
       "      <td>?</td>\n",
       "      <td>75.8</td>\n",
       "      <td>88.7</td>\n",
       "      <td>98.5</td>\n",
       "    </tr>\n",
       "    <tr>\n",
       "      <th>3</th>\n",
       "      <td>D-5/3/90</td>\n",
       "      <td>35023</td>\n",
       "      <td>3.50</td>\n",
       "      <td>7.9</td>\n",
       "      <td>205</td>\n",
       "      <td>588</td>\n",
       "      <td>192</td>\n",
       "      <td>65.6</td>\n",
       "      <td>4.5</td>\n",
       "      <td>2430</td>\n",
       "      <td>...</td>\n",
       "      <td>1840</td>\n",
       "      <td>33.1</td>\n",
       "      <td>64.2</td>\n",
       "      <td>95.3</td>\n",
       "      <td>87.3</td>\n",
       "      <td>72.3</td>\n",
       "      <td>90.2</td>\n",
       "      <td>82.3</td>\n",
       "      <td>89.6</td>\n",
       "      <td>100</td>\n",
       "    </tr>\n",
       "    <tr>\n",
       "      <th>4</th>\n",
       "      <td>D-6/3/90</td>\n",
       "      <td>36924</td>\n",
       "      <td>1.50</td>\n",
       "      <td>8.0</td>\n",
       "      <td>242</td>\n",
       "      <td>496</td>\n",
       "      <td>176</td>\n",
       "      <td>64.8</td>\n",
       "      <td>4.0</td>\n",
       "      <td>2110</td>\n",
       "      <td>...</td>\n",
       "      <td>2120</td>\n",
       "      <td>?</td>\n",
       "      <td>62.7</td>\n",
       "      <td>95.6</td>\n",
       "      <td>?</td>\n",
       "      <td>71.0</td>\n",
       "      <td>92.1</td>\n",
       "      <td>78.2</td>\n",
       "      <td>87.5</td>\n",
       "      <td>99.5</td>\n",
       "    </tr>\n",
       "  </tbody>\n",
       "</table>\n",
       "<p>5 rows × 39 columns</p>\n",
       "</div>"
      ],
      "text/plain": [
       "       DATE    Q-E  ZN-E  PH-E DBO-E DQO-E SS-E SSV-E SED-E  COND-E   ...     \\\n",
       "0  D-1/3/90  44101  1.50   7.8     ?   407  166  66.3   4.5    2110   ...      \n",
       "1  D-2/3/90  39024  3.00   7.7     ?   443  214  69.2   6.5    2660   ...      \n",
       "2  D-4/3/90  32229  5.00   7.6     ?   528  186  69.9   3.4    1666   ...      \n",
       "3  D-5/3/90  35023  3.50   7.9   205   588  192  65.6   4.5    2430   ...      \n",
       "4  D-6/3/90  36924  1.50   8.0   242   496  176  64.8   4.0    2110   ...      \n",
       "\n",
       "   COND-S RD-DBO-P  RD-SS-P RD-SED-P RD-DBO-S  RD-DQO-S  RD-DBO-G RD-DQO-G  \\\n",
       "0    2000        ?     58.8     95.5        ?      70.0         ?     79.4   \n",
       "1    2590        ?     60.7     94.8        ?      80.8         ?     79.5   \n",
       "2    1888        ?     58.2     95.6        ?      52.9         ?     75.8   \n",
       "3    1840     33.1     64.2     95.3     87.3      72.3      90.2     82.3   \n",
       "4    2120        ?     62.7     95.6        ?      71.0      92.1     78.2   \n",
       "\n",
       "  RD-SS-G RD-SED-G  \n",
       "0    87.3     99.6  \n",
       "1    92.1      100  \n",
       "2    88.7     98.5  \n",
       "3    89.6      100  \n",
       "4    87.5     99.5  \n",
       "\n",
       "[5 rows x 39 columns]"
      ]
     },
     "execution_count": 31,
     "metadata": {},
     "output_type": "execute_result"
    }
   ],
   "source": [
    "water.info()\n",
    "water.head()"
   ]
  },
  {
   "cell_type": "code",
   "execution_count": 32,
   "metadata": {},
   "outputs": [],
   "source": [
    "for col in water.loc[:,'Q-E':].columns:\n",
    "    water[col] = pd.to_numeric(water[col], errors='coerse')"
   ]
  },
  {
   "cell_type": "code",
   "execution_count": 33,
   "metadata": {},
   "outputs": [],
   "source": [
    "valid_cols = list(water.loc[:, 'Q-E':].columns)"
   ]
  },
  {
   "cell_type": "code",
   "execution_count": 34,
   "metadata": {},
   "outputs": [],
   "source": [
    "@get_metrics\n",
    "def test_algorithm(cols, algoritmo, metrics=False, scaled=True):\n",
    "    X = water.loc[:, cols].dropna()\n",
    "    y = water.loc[X.index,'Class']\n",
    "    if scaled:\n",
    "        X = StandardScaler().fit_transform(X)\n",
    "    \n",
    "    t0 = time.time()\n",
    "    algoritmo.fit(X)\n",
    "    t1 = time.time()\n",
    "\n",
    "    tiempo_ajuste = t1 - t0\n",
    "    if metrics:\n",
    "        print(\"Tiempo de ajuste: %.3f\" % tiempo_ajuste)\n",
    "    \n",
    "    y_pred = algoritmo.labels_.astype(np.int)\n",
    "    return (X, y, y_pred)"
   ]
  },
  {
   "cell_type": "code",
   "execution_count": 35,
   "metadata": {},
   "outputs": [
    {
     "ename": "KeyError",
     "evalue": "'the label [Class] is not in the [columns]'",
     "output_type": "error",
     "traceback": [
      "\u001b[0;31m---------------------------------------------------------------------------\u001b[0m",
      "\u001b[0;31mKeyError\u001b[0m                                  Traceback (most recent call last)",
      "\u001b[0;32m/usr/local/lib/python3.6/site-packages/pandas/core/indexing.py\u001b[0m in \u001b[0;36m_has_valid_type\u001b[0;34m(self, key, axis)\u001b[0m\n\u001b[1;32m   1410\u001b[0m                 \u001b[0;32mif\u001b[0m \u001b[0mkey\u001b[0m \u001b[0;32mnot\u001b[0m \u001b[0;32min\u001b[0m \u001b[0max\u001b[0m\u001b[0;34m:\u001b[0m\u001b[0;34m\u001b[0m\u001b[0m\n\u001b[0;32m-> 1411\u001b[0;31m                     \u001b[0merror\u001b[0m\u001b[0;34m(\u001b[0m\u001b[0;34m)\u001b[0m\u001b[0;34m\u001b[0m\u001b[0m\n\u001b[0m\u001b[1;32m   1412\u001b[0m             \u001b[0;32mexcept\u001b[0m \u001b[0mTypeError\u001b[0m \u001b[0;32mas\u001b[0m \u001b[0me\u001b[0m\u001b[0;34m:\u001b[0m\u001b[0;34m\u001b[0m\u001b[0m\n",
      "\u001b[0;32m/usr/local/lib/python3.6/site-packages/pandas/core/indexing.py\u001b[0m in \u001b[0;36merror\u001b[0;34m()\u001b[0m\n\u001b[1;32m   1405\u001b[0m                 raise KeyError(\"the label [%s] is not in the [%s]\" %\n\u001b[0;32m-> 1406\u001b[0;31m                                (key, self.obj._get_axis_name(axis)))\n\u001b[0m\u001b[1;32m   1407\u001b[0m \u001b[0;34m\u001b[0m\u001b[0m\n",
      "\u001b[0;31mKeyError\u001b[0m: 'the label [Class] is not in the [columns]'",
      "\nDuring handling of the above exception, another exception occurred:\n",
      "\u001b[0;31mKeyError\u001b[0m                                  Traceback (most recent call last)",
      "\u001b[0;32m<ipython-input-35-20121ac798cb>\u001b[0m in \u001b[0;36m<module>\u001b[0;34m()\u001b[0m\n\u001b[1;32m      7\u001b[0m                             affinity=\"cityblock\", n_clusters=n)\n\u001b[1;32m      8\u001b[0m \u001b[0;34m\u001b[0m\u001b[0m\n\u001b[0;32m----> 9\u001b[0;31m     \u001b[0my_pred\u001b[0m\u001b[0;34m,\u001b[0m \u001b[0msilhouette\u001b[0m \u001b[0;34m=\u001b[0m \u001b[0mtest_algorithm\u001b[0m\u001b[0;34m(\u001b[0m\u001b[0mvalid_cols\u001b[0m\u001b[0;34m,\u001b[0m \u001b[0malgoritmo\u001b[0m\u001b[0;34m,\u001b[0m \u001b[0;32mFalse\u001b[0m\u001b[0;34m)\u001b[0m\u001b[0;34m\u001b[0m\u001b[0m\n\u001b[0m\u001b[1;32m     10\u001b[0m \u001b[0;34m\u001b[0m\u001b[0m\n\u001b[1;32m     11\u001b[0m     \u001b[0maverage_linkage_silhouette\u001b[0m\u001b[0;34m.\u001b[0m\u001b[0mappend\u001b[0m\u001b[0;34m(\u001b[0m\u001b[0msilhouette\u001b[0m\u001b[0;34m)\u001b[0m\u001b[0;34m\u001b[0m\u001b[0m\n",
      "\u001b[0;32m<ipython-input-10-ce900da90bab>\u001b[0m in \u001b[0;36mfunction_wrapper\u001b[0;34m(*args)\u001b[0m\n\u001b[1;32m      2\u001b[0m \u001b[0;32mdef\u001b[0m \u001b[0mget_metrics\u001b[0m\u001b[0;34m(\u001b[0m\u001b[0mf\u001b[0m\u001b[0;34m)\u001b[0m\u001b[0;34m:\u001b[0m\u001b[0;34m\u001b[0m\u001b[0m\n\u001b[1;32m      3\u001b[0m     \u001b[0;32mdef\u001b[0m \u001b[0mfunction_wrapper\u001b[0m\u001b[0;34m(\u001b[0m\u001b[0;34m*\u001b[0m\u001b[0margs\u001b[0m\u001b[0;34m)\u001b[0m\u001b[0;34m:\u001b[0m\u001b[0;34m\u001b[0m\u001b[0m\n\u001b[0;32m----> 4\u001b[0;31m         \u001b[0mX\u001b[0m\u001b[0;34m,\u001b[0m \u001b[0mlabels_true\u001b[0m\u001b[0;34m,\u001b[0m \u001b[0mlabels\u001b[0m \u001b[0;34m=\u001b[0m \u001b[0mf\u001b[0m\u001b[0;34m(\u001b[0m\u001b[0;34m*\u001b[0m\u001b[0margs\u001b[0m\u001b[0;34m)\u001b[0m\u001b[0;34m\u001b[0m\u001b[0m\n\u001b[0m\u001b[1;32m      5\u001b[0m         \u001b[0;31m# Number of clusters in labels, ignoring noise if present.\u001b[0m\u001b[0;34m\u001b[0m\u001b[0;34m\u001b[0m\u001b[0m\n\u001b[1;32m      6\u001b[0m         \u001b[0mn_clusters_\u001b[0m \u001b[0;34m=\u001b[0m \u001b[0mlen\u001b[0m\u001b[0;34m(\u001b[0m\u001b[0mset\u001b[0m\u001b[0;34m(\u001b[0m\u001b[0mlabels\u001b[0m\u001b[0;34m)\u001b[0m\u001b[0;34m)\u001b[0m \u001b[0;34m-\u001b[0m \u001b[0;34m(\u001b[0m\u001b[0;36m1\u001b[0m \u001b[0;32mif\u001b[0m \u001b[0;34m-\u001b[0m\u001b[0;36m1\u001b[0m \u001b[0;32min\u001b[0m \u001b[0mlabels\u001b[0m \u001b[0;32melse\u001b[0m \u001b[0;36m0\u001b[0m\u001b[0;34m)\u001b[0m\u001b[0;34m\u001b[0m\u001b[0m\n",
      "\u001b[0;32m<ipython-input-34-8e0cef3dd0e2>\u001b[0m in \u001b[0;36mtest_algorithm\u001b[0;34m(cols, algoritmo, metrics, scaled)\u001b[0m\n\u001b[1;32m      2\u001b[0m \u001b[0;32mdef\u001b[0m \u001b[0mtest_algorithm\u001b[0m\u001b[0;34m(\u001b[0m\u001b[0mcols\u001b[0m\u001b[0;34m,\u001b[0m \u001b[0malgoritmo\u001b[0m\u001b[0;34m,\u001b[0m \u001b[0mmetrics\u001b[0m\u001b[0;34m=\u001b[0m\u001b[0;32mFalse\u001b[0m\u001b[0;34m,\u001b[0m \u001b[0mscaled\u001b[0m\u001b[0;34m=\u001b[0m\u001b[0;32mTrue\u001b[0m\u001b[0;34m)\u001b[0m\u001b[0;34m:\u001b[0m\u001b[0;34m\u001b[0m\u001b[0m\n\u001b[1;32m      3\u001b[0m     \u001b[0mX\u001b[0m \u001b[0;34m=\u001b[0m \u001b[0mwater\u001b[0m\u001b[0;34m.\u001b[0m\u001b[0mloc\u001b[0m\u001b[0;34m[\u001b[0m\u001b[0;34m:\u001b[0m\u001b[0;34m,\u001b[0m \u001b[0mcols\u001b[0m\u001b[0;34m]\u001b[0m\u001b[0;34m.\u001b[0m\u001b[0mdropna\u001b[0m\u001b[0;34m(\u001b[0m\u001b[0;34m)\u001b[0m\u001b[0;34m\u001b[0m\u001b[0m\n\u001b[0;32m----> 4\u001b[0;31m     \u001b[0my\u001b[0m \u001b[0;34m=\u001b[0m \u001b[0mwater\u001b[0m\u001b[0;34m.\u001b[0m\u001b[0mloc\u001b[0m\u001b[0;34m[\u001b[0m\u001b[0mX\u001b[0m\u001b[0;34m.\u001b[0m\u001b[0mindex\u001b[0m\u001b[0;34m,\u001b[0m\u001b[0;34m'Class'\u001b[0m\u001b[0;34m]\u001b[0m\u001b[0;34m\u001b[0m\u001b[0m\n\u001b[0m\u001b[1;32m      5\u001b[0m     \u001b[0;32mif\u001b[0m \u001b[0mscaled\u001b[0m\u001b[0;34m:\u001b[0m\u001b[0;34m\u001b[0m\u001b[0m\n\u001b[1;32m      6\u001b[0m         \u001b[0mX\u001b[0m \u001b[0;34m=\u001b[0m \u001b[0mStandardScaler\u001b[0m\u001b[0;34m(\u001b[0m\u001b[0;34m)\u001b[0m\u001b[0;34m.\u001b[0m\u001b[0mfit_transform\u001b[0m\u001b[0;34m(\u001b[0m\u001b[0mX\u001b[0m\u001b[0;34m)\u001b[0m\u001b[0;34m\u001b[0m\u001b[0m\n",
      "\u001b[0;32m/usr/local/lib/python3.6/site-packages/pandas/core/indexing.py\u001b[0m in \u001b[0;36m__getitem__\u001b[0;34m(self, key)\u001b[0m\n\u001b[1;32m   1308\u001b[0m \u001b[0;34m\u001b[0m\u001b[0m\n\u001b[1;32m   1309\u001b[0m         \u001b[0;32mif\u001b[0m \u001b[0mtype\u001b[0m\u001b[0;34m(\u001b[0m\u001b[0mkey\u001b[0m\u001b[0;34m)\u001b[0m \u001b[0;32mis\u001b[0m \u001b[0mtuple\u001b[0m\u001b[0;34m:\u001b[0m\u001b[0;34m\u001b[0m\u001b[0m\n\u001b[0;32m-> 1310\u001b[0;31m             \u001b[0;32mreturn\u001b[0m \u001b[0mself\u001b[0m\u001b[0;34m.\u001b[0m\u001b[0m_getitem_tuple\u001b[0m\u001b[0;34m(\u001b[0m\u001b[0mkey\u001b[0m\u001b[0;34m)\u001b[0m\u001b[0;34m\u001b[0m\u001b[0m\n\u001b[0m\u001b[1;32m   1311\u001b[0m         \u001b[0;32melse\u001b[0m\u001b[0;34m:\u001b[0m\u001b[0;34m\u001b[0m\u001b[0m\n\u001b[1;32m   1312\u001b[0m             \u001b[0;32mreturn\u001b[0m \u001b[0mself\u001b[0m\u001b[0;34m.\u001b[0m\u001b[0m_getitem_axis\u001b[0m\u001b[0;34m(\u001b[0m\u001b[0mkey\u001b[0m\u001b[0;34m,\u001b[0m \u001b[0maxis\u001b[0m\u001b[0;34m=\u001b[0m\u001b[0;36m0\u001b[0m\u001b[0;34m)\u001b[0m\u001b[0;34m\u001b[0m\u001b[0m\n",
      "\u001b[0;32m/usr/local/lib/python3.6/site-packages/pandas/core/indexing.py\u001b[0m in \u001b[0;36m_getitem_tuple\u001b[0;34m(self, tup)\u001b[0m\n\u001b[1;32m    794\u001b[0m     \u001b[0;32mdef\u001b[0m \u001b[0m_getitem_tuple\u001b[0m\u001b[0;34m(\u001b[0m\u001b[0mself\u001b[0m\u001b[0;34m,\u001b[0m \u001b[0mtup\u001b[0m\u001b[0;34m)\u001b[0m\u001b[0;34m:\u001b[0m\u001b[0;34m\u001b[0m\u001b[0m\n\u001b[1;32m    795\u001b[0m         \u001b[0;32mtry\u001b[0m\u001b[0;34m:\u001b[0m\u001b[0;34m\u001b[0m\u001b[0m\n\u001b[0;32m--> 796\u001b[0;31m             \u001b[0;32mreturn\u001b[0m \u001b[0mself\u001b[0m\u001b[0;34m.\u001b[0m\u001b[0m_getitem_lowerdim\u001b[0m\u001b[0;34m(\u001b[0m\u001b[0mtup\u001b[0m\u001b[0;34m)\u001b[0m\u001b[0;34m\u001b[0m\u001b[0m\n\u001b[0m\u001b[1;32m    797\u001b[0m         \u001b[0;32mexcept\u001b[0m \u001b[0mIndexingError\u001b[0m\u001b[0;34m:\u001b[0m\u001b[0;34m\u001b[0m\u001b[0m\n\u001b[1;32m    798\u001b[0m             \u001b[0;32mpass\u001b[0m\u001b[0;34m\u001b[0m\u001b[0m\n",
      "\u001b[0;32m/usr/local/lib/python3.6/site-packages/pandas/core/indexing.py\u001b[0m in \u001b[0;36m_getitem_lowerdim\u001b[0;34m(self, tup)\u001b[0m\n\u001b[1;32m    920\u001b[0m         \u001b[0;32mfor\u001b[0m \u001b[0mi\u001b[0m\u001b[0;34m,\u001b[0m \u001b[0mkey\u001b[0m \u001b[0;32min\u001b[0m \u001b[0menumerate\u001b[0m\u001b[0;34m(\u001b[0m\u001b[0mtup\u001b[0m\u001b[0;34m)\u001b[0m\u001b[0;34m:\u001b[0m\u001b[0;34m\u001b[0m\u001b[0m\n\u001b[1;32m    921\u001b[0m             \u001b[0;32mif\u001b[0m \u001b[0mis_label_like\u001b[0m\u001b[0;34m(\u001b[0m\u001b[0mkey\u001b[0m\u001b[0;34m)\u001b[0m \u001b[0;32mor\u001b[0m \u001b[0misinstance\u001b[0m\u001b[0;34m(\u001b[0m\u001b[0mkey\u001b[0m\u001b[0;34m,\u001b[0m \u001b[0mtuple\u001b[0m\u001b[0;34m)\u001b[0m\u001b[0;34m:\u001b[0m\u001b[0;34m\u001b[0m\u001b[0m\n\u001b[0;32m--> 922\u001b[0;31m                 \u001b[0msection\u001b[0m \u001b[0;34m=\u001b[0m \u001b[0mself\u001b[0m\u001b[0;34m.\u001b[0m\u001b[0m_getitem_axis\u001b[0m\u001b[0;34m(\u001b[0m\u001b[0mkey\u001b[0m\u001b[0;34m,\u001b[0m \u001b[0maxis\u001b[0m\u001b[0;34m=\u001b[0m\u001b[0mi\u001b[0m\u001b[0;34m)\u001b[0m\u001b[0;34m\u001b[0m\u001b[0m\n\u001b[0m\u001b[1;32m    923\u001b[0m \u001b[0;34m\u001b[0m\u001b[0m\n\u001b[1;32m    924\u001b[0m                 \u001b[0;31m# we have yielded a scalar ?\u001b[0m\u001b[0;34m\u001b[0m\u001b[0;34m\u001b[0m\u001b[0m\n",
      "\u001b[0;32m/usr/local/lib/python3.6/site-packages/pandas/core/indexing.py\u001b[0m in \u001b[0;36m_getitem_axis\u001b[0;34m(self, key, axis)\u001b[0m\n\u001b[1;32m   1480\u001b[0m \u001b[0;34m\u001b[0m\u001b[0m\n\u001b[1;32m   1481\u001b[0m         \u001b[0;31m# fall thru to straight lookup\u001b[0m\u001b[0;34m\u001b[0m\u001b[0;34m\u001b[0m\u001b[0m\n\u001b[0;32m-> 1482\u001b[0;31m         \u001b[0mself\u001b[0m\u001b[0;34m.\u001b[0m\u001b[0m_has_valid_type\u001b[0m\u001b[0;34m(\u001b[0m\u001b[0mkey\u001b[0m\u001b[0;34m,\u001b[0m \u001b[0maxis\u001b[0m\u001b[0;34m)\u001b[0m\u001b[0;34m\u001b[0m\u001b[0m\n\u001b[0m\u001b[1;32m   1483\u001b[0m         \u001b[0;32mreturn\u001b[0m \u001b[0mself\u001b[0m\u001b[0;34m.\u001b[0m\u001b[0m_get_label\u001b[0m\u001b[0;34m(\u001b[0m\u001b[0mkey\u001b[0m\u001b[0;34m,\u001b[0m \u001b[0maxis\u001b[0m\u001b[0;34m=\u001b[0m\u001b[0maxis\u001b[0m\u001b[0;34m)\u001b[0m\u001b[0;34m\u001b[0m\u001b[0m\n\u001b[1;32m   1484\u001b[0m \u001b[0;34m\u001b[0m\u001b[0m\n",
      "\u001b[0;32m/usr/local/lib/python3.6/site-packages/pandas/core/indexing.py\u001b[0m in \u001b[0;36m_has_valid_type\u001b[0;34m(self, key, axis)\u001b[0m\n\u001b[1;32m   1417\u001b[0m                 \u001b[0;32mraise\u001b[0m\u001b[0;34m\u001b[0m\u001b[0m\n\u001b[1;32m   1418\u001b[0m             \u001b[0;32mexcept\u001b[0m\u001b[0;34m:\u001b[0m\u001b[0;34m\u001b[0m\u001b[0m\n\u001b[0;32m-> 1419\u001b[0;31m                 \u001b[0merror\u001b[0m\u001b[0;34m(\u001b[0m\u001b[0;34m)\u001b[0m\u001b[0;34m\u001b[0m\u001b[0m\n\u001b[0m\u001b[1;32m   1420\u001b[0m \u001b[0;34m\u001b[0m\u001b[0m\n\u001b[1;32m   1421\u001b[0m         \u001b[0;32mreturn\u001b[0m \u001b[0;32mTrue\u001b[0m\u001b[0;34m\u001b[0m\u001b[0m\n",
      "\u001b[0;32m/usr/local/lib/python3.6/site-packages/pandas/core/indexing.py\u001b[0m in \u001b[0;36merror\u001b[0;34m()\u001b[0m\n\u001b[1;32m   1404\u001b[0m                                     \"key\")\n\u001b[1;32m   1405\u001b[0m                 raise KeyError(\"the label [%s] is not in the [%s]\" %\n\u001b[0;32m-> 1406\u001b[0;31m                                (key, self.obj._get_axis_name(axis)))\n\u001b[0m\u001b[1;32m   1407\u001b[0m \u001b[0;34m\u001b[0m\u001b[0m\n\u001b[1;32m   1408\u001b[0m             \u001b[0;32mtry\u001b[0m\u001b[0;34m:\u001b[0m\u001b[0;34m\u001b[0m\u001b[0m\n",
      "\u001b[0;31mKeyError\u001b[0m: 'the label [Class] is not in the [columns]'"
     ]
    },
    {
     "data": {
      "image/png": "[encoded data removed]",
      "text/plain": [
       "<matplotlib.figure.Figure at 0x119327e80>"
      ]
     },
     "metadata": {},
     "output_type": "display_data"
    }
   ],
   "source": [
    "fig, ax = plt.subplots(figsize=(10,5))\n",
    "\n",
    "average_linkage_silhouette = []\n",
    "\n",
    "for n in range(2, 50):\n",
    "    algoritmo = cluster.AgglomerativeClustering(linkage=\"average\", \n",
    "                            affinity=\"cityblock\", n_clusters=n)\n",
    "    \n",
    "    y_pred, silhouette = test_algorithm(valid_cols, algoritmo, False)\n",
    "    \n",
    "    average_linkage_silhouette.append(silhouette)\n",
    "    \n",
    "best_case = average_linkage_silhouette.index(max(average_linkage_silhouette))\n",
    "ax.scatter(range(2, 50), average_linkage_silhouette)\n",
    "ax.set_ylabel(\"Índice de Silhouette\")\n",
    "ax.set_xlabel(\"Número de clusters\");"
   ]
  },
  {
   "cell_type": "code",
   "execution_count": null,
   "metadata": {},
   "outputs": [],
   "source": []
  }
 ],
 "metadata": {
  "kernelspec": {
   "display_name": "Python 3",
   "language": "python",
   "name": "python3"
  },
  "language_info": {
   "codemirror_mode": {
    "name": "ipython",
    "version": 3
   },
   "file_extension": ".py",
   "mimetype": "text/x-python",
   "name": "python",
   "nbconvert_exporter": "python",
   "pygments_lexer": "ipython3",
   "version": "3.6.2"
  }
 },
 "nbformat": 4,
 "nbformat_minor": 2
}

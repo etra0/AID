{
 "cells": [
  {
   "cell_type": "markdown",
   "metadata": {},
   "source": [
    "<style>\n",
    "    .output {\n",
    "    display: table-cell;\n",
    "    text-align: center;\n",
    "    vertical-align: middle;\n",
    "    }\n",
    "</style>\n",
    "<center>\n",
    "    <h1> INF390 - Análisis Inteligente de Datos </h1>\n",
    "    <h1> Tarea 2 - Machine Learning con Python </h1>\n",
    "    <h3>\n",
    "        <table style=\"border: 0px;\">\n",
    "            <tr style=\"border: 0px;\">\n",
    "                <td style=\"text-align: center; border: 0px;\"> Sebastián Aedo</td>\n",
    "                <td style=\"text-align: center; border: 0px; padding-right: 50px;\"> </td>\n",
    "                <td style=\"text-align: center; border: 0px;\"> Diego Córdova </td>\n",
    "            </tr>\n",
    "            <tr style=\"border: 0px;\">\n",
    "                <td style=\"text-align: center; border: 0px;\"> 201573057-1 </td>\n",
    "                <td style=\"text-align: center; border: 0px; padding-right: 50px;\"> </td>\n",
    "                <td style=\"text-align: center; border: 0px;\"> 2014xxxxx-9 </td>\n",
    "            </tr>\n",
    "            <tr style=\"border: 0px;\">\n",
    "                <td style=\"text-align: center; font-size: 14px; border: 0px;\"> <code>sebastian.aedo@sansano.usm.cl </code></td>\n",
    "                <td style=\"text-align: center; border: 0px; padding-right: 50px;\"> </td>\n",
    "                <td style=\"text-align: center; font-size: 14px; border: 0px;\"><code>diego.cordova@sansano.usm.cl</code> </td>\n",
    "            </tr>\n",
    "        </table>\n",
    "    </h3> \n",
    "    <h4> Valparaíso, Viernes 8 de Diciembre de 2017 </h4>\n",
    "</center>"
   ]
  },
  {
   "cell_type": "markdown",
   "metadata": {},
   "source": [
    "## Tabla de contenidos\n",
    "\n",
    "* [Clustering](#1.-Clustering)\n",
    "    * [Hepatitis](#Hepatitis)\n",
    "    * [Diabetes](#Diabetes)"
   ]
  },
  {
   "cell_type": "code",
   "execution_count": 1,
   "metadata": {},
   "outputs": [],
   "source": [
    "import numpy as np\n",
    "import time\n",
    "\n",
    "from sklearn import datasets\n",
    "from sklearn.preprocessing import StandardScaler\n",
    "from sklearn.discriminant_analysis import LinearDiscriminantAnalysis\n",
    "from sklearn.discriminant_analysis import QuadraticDiscriminantAnalysis\n",
    "from sklearn.svm import SVC\n",
    "from sklearn.neighbors import KNeighborsClassifier\n",
    "from sklearn.naive_bayes import GaussianNB\n",
    "from sklearn.tree import DecisionTreeClassifier\n",
    "from sklearn.metrics import accuracy_score      \n",
    "from sklearn.metrics import precision_score\n",
    "from sklearn.metrics import mean_absolute_error\n",
    "from sklearn.metrics import recall_score\n",
    "from sklearn.metrics import f1_score\n",
    "\n",
    "from sklearn import cluster # Técnica de Clustering\n",
    "from sklearn.neighbors import kneighbors_graph # Técnica de k-Vecino mas cercano\n",
    "from sklearn.preprocessing import StandardScaler # Ténica para reescalar los datos\n",
    "from sklearn import metrics\n",
    "\n",
    "from pandas import read_csv\n",
    "import pandas as pd\n",
    "import matplotlib.pyplot as plt\n",
    "from statsmodels.sandbox.tools.tools_pca import pcasvd\n",
    "\n",
    "import seaborn as sns\n",
    "%matplotlib inline"
   ]
  },
  {
   "cell_type": "code",
   "execution_count": 2,
   "metadata": {},
   "outputs": [],
   "source": [
    "# Diabetes Dataset\n",
    "\n",
    "vector=['TP','glucose','DBP','TSFT','insulin','mass','DPF','age','status']\n",
    "diabetes = read_csv('data/pima-indians-diabetes.data',sep=',',names=vector,header=None)"
   ]
  },
  {
   "cell_type": "markdown",
   "metadata": {},
   "source": [
    "# 1. Clustering"
   ]
  },
  {
   "cell_type": "markdown",
   "metadata": {},
   "source": [
    "A continuación se aplicarán tres técnicas de clustering a los tres dataset presentados. Las tres técnicas a utilizar serán\n",
    "\n",
    "1. Average Linkage\n",
    "2. K-Means\n",
    "3. Ward\n",
    "\n",
    "Luego de aplicar cada algoritmo, se hará una breve comparación entre todos los métodos."
   ]
  },
  {
   "cell_type": "markdown",
   "metadata": {},
   "source": [
    "## Hepatitis"
   ]
  },
  {
   "cell_type": "markdown",
   "metadata": {},
   "source": [
    "A continuación se analizará el dataset de la hepatitis.\n",
    "\n",
    "Dentro de este dataset se presentan principalmente valores booleanos, \n",
    "y la bilirrubina que parece ser una variable contínua, sin embargo,\n",
    "en la descripción del dataset describen que es un valor **con lazos**, por lo que se podía \n",
    "**discretizar**. El objetivo de esta clasificación será intentar predecir la clase a partir\n",
    "de los otros parámetros."
   ]
  },
  {
   "cell_type": "code",
   "execution_count": 3,
   "metadata": {},
   "outputs": [],
   "source": [
    "vector = [\"Class\", \"AGE\", \"SEX\", \"STEROID\", \"ANTIVIRALS\", \n",
    "          \"FATIGUE\", \"MALAISE\", \"ANOREXIA\", \"LIVER BIG\", \"LIVER FIRM\", \"SPLEEN PALPABLE\",\n",
    "          \"SPIDERS\", \"ASCITES\", \"VARICES\", \"BILIRUBIN\", \"ALK PHOSPHATE\", \"SGOT\", \"ALBUMIN\",\n",
    "          \"PROTIME\", \"HISTOLOGY\"]\n",
    "hepatitis = read_csv('data/hepatitis.data', sep=',', names=vector, header=None)"
   ]
  },
  {
   "cell_type": "code",
   "execution_count": 4,
   "metadata": {
    "scrolled": false
   },
   "outputs": [
    {
     "name": "stdout",
     "output_type": "stream",
     "text": [
      "<class 'pandas.core.frame.DataFrame'>\n",
      "RangeIndex: 155 entries, 0 to 154\n",
      "Data columns (total 20 columns):\n",
      "Class              155 non-null int64\n",
      "AGE                155 non-null int64\n",
      "SEX                155 non-null int64\n",
      "STEROID            155 non-null object\n",
      "ANTIVIRALS         155 non-null int64\n",
      "FATIGUE            155 non-null object\n",
      "MALAISE            155 non-null object\n",
      "ANOREXIA           155 non-null object\n",
      "LIVER BIG          155 non-null object\n",
      "LIVER FIRM         155 non-null object\n",
      "SPLEEN PALPABLE    155 non-null object\n",
      "SPIDERS            155 non-null object\n",
      "ASCITES            155 non-null object\n",
      "VARICES            155 non-null object\n",
      "BILIRUBIN          155 non-null object\n",
      "ALK PHOSPHATE      155 non-null object\n",
      "SGOT               155 non-null object\n",
      "ALBUMIN            155 non-null object\n",
      "PROTIME            155 non-null object\n",
      "HISTOLOGY          155 non-null int64\n",
      "dtypes: int64(5), object(15)\n",
      "memory usage: 24.3+ KB\n"
     ]
    },
    {
     "data": {
      "text/html": [
       "<div>\n",
       "<table border=\"1\" class=\"dataframe\">\n",
       "  <thead>\n",
       "    <tr style=\"text-align: right;\">\n",
       "      <th></th>\n",
       "      <th>Class</th>\n",
       "      <th>AGE</th>\n",
       "      <th>SEX</th>\n",
       "      <th>STEROID</th>\n",
       "      <th>ANTIVIRALS</th>\n",
       "      <th>FATIGUE</th>\n",
       "      <th>MALAISE</th>\n",
       "      <th>ANOREXIA</th>\n",
       "      <th>LIVER BIG</th>\n",
       "      <th>LIVER FIRM</th>\n",
       "      <th>SPLEEN PALPABLE</th>\n",
       "      <th>SPIDERS</th>\n",
       "      <th>ASCITES</th>\n",
       "      <th>VARICES</th>\n",
       "      <th>BILIRUBIN</th>\n",
       "      <th>ALK PHOSPHATE</th>\n",
       "      <th>SGOT</th>\n",
       "      <th>ALBUMIN</th>\n",
       "      <th>PROTIME</th>\n",
       "      <th>HISTOLOGY</th>\n",
       "    </tr>\n",
       "  </thead>\n",
       "  <tbody>\n",
       "    <tr>\n",
       "      <th>0</th>\n",
       "      <td>2</td>\n",
       "      <td>30</td>\n",
       "      <td>2</td>\n",
       "      <td>1</td>\n",
       "      <td>2</td>\n",
       "      <td>2</td>\n",
       "      <td>2</td>\n",
       "      <td>2</td>\n",
       "      <td>1</td>\n",
       "      <td>2</td>\n",
       "      <td>2</td>\n",
       "      <td>2</td>\n",
       "      <td>2</td>\n",
       "      <td>2</td>\n",
       "      <td>1.00</td>\n",
       "      <td>85</td>\n",
       "      <td>18</td>\n",
       "      <td>4.0</td>\n",
       "      <td>?</td>\n",
       "      <td>1</td>\n",
       "    </tr>\n",
       "    <tr>\n",
       "      <th>1</th>\n",
       "      <td>2</td>\n",
       "      <td>50</td>\n",
       "      <td>1</td>\n",
       "      <td>1</td>\n",
       "      <td>2</td>\n",
       "      <td>1</td>\n",
       "      <td>2</td>\n",
       "      <td>2</td>\n",
       "      <td>1</td>\n",
       "      <td>2</td>\n",
       "      <td>2</td>\n",
       "      <td>2</td>\n",
       "      <td>2</td>\n",
       "      <td>2</td>\n",
       "      <td>0.90</td>\n",
       "      <td>135</td>\n",
       "      <td>42</td>\n",
       "      <td>3.5</td>\n",
       "      <td>?</td>\n",
       "      <td>1</td>\n",
       "    </tr>\n",
       "    <tr>\n",
       "      <th>2</th>\n",
       "      <td>2</td>\n",
       "      <td>78</td>\n",
       "      <td>1</td>\n",
       "      <td>2</td>\n",
       "      <td>2</td>\n",
       "      <td>1</td>\n",
       "      <td>2</td>\n",
       "      <td>2</td>\n",
       "      <td>2</td>\n",
       "      <td>2</td>\n",
       "      <td>2</td>\n",
       "      <td>2</td>\n",
       "      <td>2</td>\n",
       "      <td>2</td>\n",
       "      <td>0.70</td>\n",
       "      <td>96</td>\n",
       "      <td>32</td>\n",
       "      <td>4.0</td>\n",
       "      <td>?</td>\n",
       "      <td>1</td>\n",
       "    </tr>\n",
       "    <tr>\n",
       "      <th>3</th>\n",
       "      <td>2</td>\n",
       "      <td>31</td>\n",
       "      <td>1</td>\n",
       "      <td>?</td>\n",
       "      <td>1</td>\n",
       "      <td>2</td>\n",
       "      <td>2</td>\n",
       "      <td>2</td>\n",
       "      <td>2</td>\n",
       "      <td>2</td>\n",
       "      <td>2</td>\n",
       "      <td>2</td>\n",
       "      <td>2</td>\n",
       "      <td>2</td>\n",
       "      <td>0.70</td>\n",
       "      <td>46</td>\n",
       "      <td>52</td>\n",
       "      <td>4.0</td>\n",
       "      <td>80</td>\n",
       "      <td>1</td>\n",
       "    </tr>\n",
       "    <tr>\n",
       "      <th>4</th>\n",
       "      <td>2</td>\n",
       "      <td>34</td>\n",
       "      <td>1</td>\n",
       "      <td>2</td>\n",
       "      <td>2</td>\n",
       "      <td>2</td>\n",
       "      <td>2</td>\n",
       "      <td>2</td>\n",
       "      <td>2</td>\n",
       "      <td>2</td>\n",
       "      <td>2</td>\n",
       "      <td>2</td>\n",
       "      <td>2</td>\n",
       "      <td>2</td>\n",
       "      <td>1.00</td>\n",
       "      <td>?</td>\n",
       "      <td>200</td>\n",
       "      <td>4.0</td>\n",
       "      <td>?</td>\n",
       "      <td>1</td>\n",
       "    </tr>\n",
       "  </tbody>\n",
       "</table>\n",
       "</div>"
      ],
      "text/plain": [
       "   Class  AGE  SEX STEROID  ANTIVIRALS FATIGUE MALAISE ANOREXIA LIVER BIG  \\\n",
       "0      2   30    2       1           2       2       2        2         1   \n",
       "1      2   50    1       1           2       1       2        2         1   \n",
       "2      2   78    1       2           2       1       2        2         2   \n",
       "3      2   31    1       ?           1       2       2        2         2   \n",
       "4      2   34    1       2           2       2       2        2         2   \n",
       "\n",
       "  LIVER FIRM SPLEEN PALPABLE SPIDERS ASCITES VARICES BILIRUBIN ALK PHOSPHATE  \\\n",
       "0          2               2       2       2       2      1.00            85   \n",
       "1          2               2       2       2       2      0.90           135   \n",
       "2          2               2       2       2       2      0.70            96   \n",
       "3          2               2       2       2       2      0.70            46   \n",
       "4          2               2       2       2       2      1.00             ?   \n",
       "\n",
       "  SGOT ALBUMIN PROTIME  HISTOLOGY  \n",
       "0   18     4.0       ?          1  \n",
       "1   42     3.5       ?          1  \n",
       "2   32     4.0       ?          1  \n",
       "3   52     4.0      80          1  \n",
       "4  200     4.0       ?          1  "
      ]
     },
     "execution_count": 4,
     "metadata": {},
     "output_type": "execute_result"
    }
   ],
   "source": [
    "hepatitis.info()\n",
    "hepatitis.head()"
   ]
  },
  {
   "cell_type": "markdown",
   "metadata": {},
   "source": [
    "### Preparando el dataset"
   ]
  },
  {
   "cell_type": "markdown",
   "metadata": {},
   "source": [
    "Se puede notar que los valores están como `1`, `2` ó `?`. Para manejarlo con mayor facilidad, se reemplazarán por `True`, `False` o `None` según corresponda."
   ]
  },
  {
   "cell_type": "code",
   "execution_count": 5,
   "metadata": {},
   "outputs": [],
   "source": [
    "boolean_columns = [\"STEROID\", \"ANTIVIRALS\", \"FATIGUE\", \"MALAISE\", \"ANOREXIA\", \"LIVER BIG\", \"LIVER FIRM\", \"SPLEEN PALPABLE\",\n",
    "     \"SPIDERS\", \"ASCITES\", \"VARICES\", 'HISTOLOGY']\n",
    "for column in boolean_columns:\n",
    "    type_data = {'1': False, '2': True, '?': None}\n",
    "    hepatitis[column] = hepatitis[column].apply(lambda x: type_data[str(x)])"
   ]
  },
  {
   "cell_type": "markdown",
   "metadata": {},
   "source": [
    "El Sexo se tratará como `M` ó `F`."
   ]
  },
  {
   "cell_type": "code",
   "execution_count": 6,
   "metadata": {},
   "outputs": [],
   "source": [
    "type_data = {'1': 'M', '2': 'F', '?': np.nan}\n",
    "hepatitis['SEX'] = hepatitis['SEX'].apply(lambda x: type_data[str(x)])"
   ]
  },
  {
   "cell_type": "code",
   "execution_count": 7,
   "metadata": {},
   "outputs": [],
   "source": [
    "type_data = {'1': 'Dead', '2': 'Alive', '?': None}\n",
    "hepatitis['Class'] = hepatitis['Class'].apply(lambda x: type_data[str(x)])"
   ]
  },
  {
   "cell_type": "markdown",
   "metadata": {},
   "source": [
    "Ahora se modificarán las otras variables reemplazando el `?` por `None`."
   ]
  },
  {
   "cell_type": "code",
   "execution_count": 8,
   "metadata": {},
   "outputs": [],
   "source": [
    "floats = ['BILIRUBIN', 'ALBUMIN']\n",
    "integers = ['ALK PHOSPHATE', 'SGOT', 'PROTIME']\n",
    "\n",
    "for column in floats:\n",
    "    hepatitis[column] = pd.to_numeric(hepatitis[column], errors='coerce')\n",
    "    \n",
    "for column in integers:\n",
    "    hepatitis[column] = pd.to_numeric(hepatitis[column], errors='coerce')"
   ]
  },
  {
   "cell_type": "markdown",
   "metadata": {},
   "source": [
    "Luego, se procede a entrenar el clustering usando las variables contínuas"
   ]
  },
  {
   "cell_type": "code",
   "execution_count": 9,
   "metadata": {},
   "outputs": [],
   "source": [
    "non_boolean = ['AGE', 'BILIRUBIN', 'ALK PHOSPHATE', 'SGOT', 'ALBUMIN']"
   ]
  },
  {
   "cell_type": "code",
   "execution_count": 10,
   "metadata": {},
   "outputs": [],
   "source": [
    "# Esta función es un wrapper para obtener las métricas (y no tener que reescribir codigo)\n",
    "def get_metrics(f):\n",
    "    def function_wrapper(*args):\n",
    "        X, labels_true, labels = f(*args)\n",
    "        # Number of clusters in labels, ignoring noise if present.\n",
    "        n_clusters_ = len(set(labels)) - (1 if -1 in labels else 0)\n",
    "        silhouette = metrics.silhouette_score(X, labels)\n",
    "        if len(args) >= 3 and args[2]:\n",
    "            print('Estimated number of clusters: %d' % n_clusters_)\n",
    "            print(\"Homogeneity: %0.6f\" % metrics.homogeneity_score(labels_true, labels))\n",
    "            print(\"Completeness: %0.6f\" % metrics.completeness_score(labels_true, labels))\n",
    "            print(\"V-measure: %0.6f\" % metrics.v_measure_score(labels_true, labels))\n",
    "            print(\"Adjusted Rand Index: %0.6f\"\n",
    "                  % metrics.adjusted_rand_score(labels_true, labels))\n",
    "            print(\"Adjusted Mutual Information: %0.6f\"\n",
    "                  % metrics.adjusted_mutual_info_score(labels_true, labels))\n",
    "        \n",
    "            print(\"Silhouette Coefficient: %0.6f\"\n",
    "                  % silhouette)\n",
    "    \n",
    "        return (labels, silhouette)\n",
    "    return function_wrapper"
   ]
  },
  {
   "cell_type": "code",
   "execution_count": 11,
   "metadata": {},
   "outputs": [],
   "source": [
    "@get_metrics\n",
    "def test_algorithm(cols, algoritmo, metrics=False, scaled=False):\n",
    "    X = hepatitis.loc[:, cols].dropna()\n",
    "    y = hepatitis.loc[X.index,'Class']\n",
    "    if scaled:\n",
    "        X = StandardScaler().fit_transform(X)\n",
    "    \n",
    "    t0 = time.time()\n",
    "    algoritmo.fit(X)\n",
    "    t1 = time.time()\n",
    "\n",
    "    tiempo_ajuste = t1 - t0\n",
    "    if metrics:\n",
    "        print(\"Tiempo de ajuste: %.3f\" % tiempo_ajuste)\n",
    "    \n",
    "    y_pred = algoritmo.labels_.astype(np.int)\n",
    "    return (X, y, y_pred)\n"
   ]
  },
  {
   "cell_type": "markdown",
   "metadata": {},
   "source": [
    "## Aplicando Clustering"
   ]
  },
  {
   "cell_type": "markdown",
   "metadata": {},
   "source": [
    "### Average Linkage"
   ]
  },
  {
   "cell_type": "markdown",
   "metadata": {},
   "source": [
    "A continuación se probará la técnica *Average Linkage* para encontrar clusters."
   ]
  },
  {
   "cell_type": "code",
   "execution_count": 12,
   "metadata": {
    "scrolled": false
   },
   "outputs": [
    {
     "data": {
      "image/png": "[encoded data removed]",
      "text/plain": [
       "<matplotlib.figure.Figure at 0x1125c4400>"
      ]
     },
     "metadata": {},
     "output_type": "display_data"
    }
   ],
   "source": [
    "fig, ax = plt.subplots(figsize=(10,5))\n",
    "\n",
    "average_linkage_silhouette = []\n",
    "\n",
    "for n in range(2, 50):\n",
    "    algoritmo = cluster.AgglomerativeClustering(linkage=\"average\", \n",
    "                            affinity=\"cityblock\", n_clusters=n)\n",
    "    \n",
    "    y_pred, silhouette = test_algorithm(non_boolean, algoritmo, False)\n",
    "    \n",
    "    average_linkage_silhouette.append(silhouette)\n",
    "    \n",
    "best_case = average_linkage_silhouette.index(max(average_linkage_silhouette))\n",
    "ax.scatter(range(2, 50), average_linkage_silhouette)\n",
    "ax.set_ylabel(\"Índice de Silhouette\")\n",
    "ax.set_xlabel(\"Número de clusters\");"
   ]
  },
  {
   "cell_type": "code",
   "execution_count": 13,
   "metadata": {},
   "outputs": [
    {
     "name": "stdout",
     "output_type": "stream",
     "text": [
      "Índice de silhouette con 2 clusters: 0.735540\n"
     ]
    }
   ],
   "source": [
    "print(\"Índice de silhouette con %d clusters: %f\" % (best_case+2, average_linkage_silhouette[best_case]))"
   ]
  },
  {
   "cell_type": "markdown",
   "metadata": {},
   "source": [
    "En el caso de Average Linkage, \n",
    "se puede apreciar que el mejor cluster es cuando $K = 2$, lo que es normal ya que existen 2 clases."
   ]
  },
  {
   "cell_type": "markdown",
   "metadata": {},
   "source": [
    "###  K–Means"
   ]
  },
  {
   "cell_type": "code",
   "execution_count": 14,
   "metadata": {
    "scrolled": true
   },
   "outputs": [
    {
     "data": {
      "image/png": "[encoded data removed]",
      "text/plain": [
       "<matplotlib.figure.Figure at 0x1125c4b38>"
      ]
     },
     "metadata": {},
     "output_type": "display_data"
    }
   ],
   "source": [
    "fig, ax = plt.subplots(figsize=(10,5))\n",
    "\n",
    "kmeans_silhouette = []\n",
    "for n in range(2, 50):\n",
    "    algoritmo = cluster.KMeans(n_clusters=n)\n",
    "    y_pred, silhouette = test_algorithm(non_boolean, algoritmo, False)\n",
    "    kmeans_silhouette.append(silhouette)\n",
    "\n",
    "best_case = kmeans_silhouette.index(max(kmeans_silhouette))\n",
    "ax.scatter(range(2, 50), kmeans_silhouette)\n",
    "ax.set_ylabel(\"Índice de Silhouette\")\n",
    "ax.set_xlabel(\"Número de clusters\");"
   ]
  },
  {
   "cell_type": "code",
   "execution_count": 15,
   "metadata": {},
   "outputs": [
    {
     "name": "stdout",
     "output_type": "stream",
     "text": [
      "Índice de silhouette con 2 clusters: 0.529638\n"
     ]
    }
   ],
   "source": [
    "print(\"Índice de silhouette con %d clusters: %f\" % (best_case+2, kmeans_silhouette[best_case]))"
   ]
  },
  {
   "cell_type": "markdown",
   "metadata": {},
   "source": [
    "### WARD"
   ]
  },
  {
   "cell_type": "code",
   "execution_count": 16,
   "metadata": {},
   "outputs": [
    {
     "data": {
      "image/png": "[encoded data removed]",
      "text/plain": [
       "<matplotlib.figure.Figure at 0x1125c4d68>"
      ]
     },
     "metadata": {},
     "output_type": "display_data"
    }
   ],
   "source": [
    "fig, ax = plt.subplots(figsize=(10,5))\n",
    "\n",
    "ward_silhouette = []\n",
    "for n in range(2, 50):\n",
    "    algoritmo = cluster.AgglomerativeClustering(n_clusters=n, linkage='ward')\n",
    "    \n",
    "    y_pred, silhouette = test_algorithm(non_boolean, algoritmo, False)\n",
    "    ward_silhouette.append(silhouette)\n",
    "    \n",
    "best_case = ward_silhouette.index(max(ward_silhouette))\n",
    "ax.scatter(range(2, 50), ward_silhouette)\n",
    "ax.set_ylabel(\"Índice de Silhouette\")\n",
    "ax.set_xlabel(\"Número de clusters\");"
   ]
  },
  {
   "cell_type": "code",
   "execution_count": 17,
   "metadata": {},
   "outputs": [
    {
     "name": "stdout",
     "output_type": "stream",
     "text": [
      "Índice de silhouette con 2 clusters: 0.505554\n"
     ]
    }
   ],
   "source": [
    "print(\"Índice de silhouette con %d clusters: %f\" % (best_case+2, ward_silhouette[best_case]))"
   ]
  },
  {
   "cell_type": "markdown",
   "metadata": {},
   "source": [
    "### Comparando"
   ]
  },
  {
   "cell_type": "code",
   "execution_count": 18,
   "metadata": {},
   "outputs": [
    {
     "data": {
      "text/markdown": [
       "| K | Average Linkage | K Means | Ward|\n",
       "|--:|----------------:|--------:|----:|\n",
       "| 2 | 0.735540 | 0.529638 | 0.505554 |\n",
       "| 3 | 0.552282 | 0.458757 | 0.489319 |\n",
       "| 4 | 0.542588 | 0.499024 | 0.405756 |\n",
       "| 5 | 0.500554 | 0.470372 | 0.379138 |\n",
       "| 6 | 0.458941 | 0.422920 | 0.395077 |\n",
       "| 7 | 0.467717 | 0.359713 | 0.310251 |\n",
       "| 8 | 0.434895 | 0.358551 | 0.311481 |\n",
       "| 9 | 0.401220 | 0.366819 | 0.330160 |\n",
       "| 10 | 0.389410 | 0.371270 | 0.345831 |\n",
       "| 11 | 0.383925 | 0.352903 | 0.342085 |\n",
       "| 12 | 0.386522 | 0.363505 | 0.336303 |\n",
       "| 13 | 0.380419 | 0.349597 | 0.340655 |\n",
       "| 14 | 0.376705 | 0.326333 | 0.338613 |\n",
       "| 15 | 0.369445 | 0.325936 | 0.293790 |\n",
       "| 16 | 0.262980 | 0.345024 | 0.292779 |\n",
       "| 17 | 0.263868 | 0.322796 | 0.291187 |\n",
       "| 18 | 0.319005 | 0.321580 | 0.290198 |\n",
       "| 19 | 0.308576 | 0.308316 | 0.299691 |\n",
       "| 20 | 0.299658 | 0.312061 | 0.299558 |\n",
       "| 21 | 0.292595 | 0.300883 | 0.309292 |\n",
       "| 22 | 0.289598 | 0.338962 | 0.301521 |\n",
       "| 23 | 0.302986 | 0.318805 | 0.295761 |\n",
       "| 24 | 0.298271 | 0.296366 | 0.305941 |\n",
       "| 25 | 0.296928 | 0.293850 | 0.312444 |\n",
       "| 26 | 0.292387 | 0.322938 | 0.309242 |\n",
       "| 27 | 0.298135 | 0.318918 | 0.307589 |\n",
       "| 28 | 0.292078 | 0.296378 | 0.311492 |\n",
       "| 29 | 0.300744 | 0.288733 | 0.307379 |\n",
       "| 30 | 0.294853 | 0.283395 | 0.303222 |\n",
       "| 31 | 0.296044 | 0.276354 | 0.296607 |\n",
       "| 32 | 0.295073 | 0.297364 | 0.299108 |\n",
       "| 33 | 0.301919 | 0.272559 | 0.302082 |\n",
       "| 34 | 0.290904 | 0.287412 | 0.306070 |\n",
       "| 35 | 0.290671 | 0.283222 | 0.305560 |\n",
       "| 36 | 0.283590 | 0.291820 | 0.300845 |\n",
       "| 37 | 0.279897 | 0.283605 | 0.301435 |\n",
       "| 38 | 0.281501 | 0.286589 | 0.304823 |\n",
       "| 39 | 0.277313 | 0.271292 | 0.305568 |\n",
       "| 40 | 0.275500 | 0.270612 | 0.305098 |\n",
       "| 41 | 0.265376 | 0.279949 | 0.304127 |\n",
       "| 42 | 0.259532 | 0.279405 | 0.298498 |\n",
       "| 43 | 0.249704 | 0.264793 | 0.304560 |\n",
       "| 44 | 0.235147 | 0.260975 | 0.299414 |\n",
       "| 45 | 0.224045 | 0.271788 | 0.297374 |\n",
       "| 46 | 0.237424 | 0.278185 | 0.287828 |\n",
       "| 47 | 0.235088 | 0.260337 | 0.286357 |\n",
       "| 48 | 0.230411 | 0.273611 | 0.282009 |\n",
       "| 49 | 0.236032 | 0.272957 | 0.290707 |\n",
       "\n"
      ],
      "text/plain": [
       "<IPython.core.display.Markdown object>"
      ]
     },
     "metadata": {},
     "output_type": "display_data"
    }
   ],
   "source": [
    "from IPython.display import display, Markdown, Latex\n",
    "\n",
    "to_print = \"| K | Average Linkage | K Means | Ward|\\n\"\n",
    "to_print += \"|--:|----------------:|--------:|----:|\\n\"\n",
    "for i in range(len(ward_silhouette)):\n",
    "    to_print += \"| %d | %f | %f | %f |\\n\" % (i+2, average_linkage_silhouette[i], \n",
    "                                             kmeans_silhouette[i], ward_silhouette[i])\n",
    "to_print += \"\\n\"\n",
    "display(Markdown(to_print))"
   ]
  },
  {
   "cell_type": "markdown",
   "metadata": {},
   "source": [
    "Como se puede apreciar en la tabla anterior, la que tuvo peor perfomance fue Ward, y la que mejor rindió en este caso fue Average Linkage."
   ]
  },
  {
   "cell_type": "markdown",
   "metadata": {},
   "source": [
    "## Diabetes"
   ]
  },
  {
   "cell_type": "code",
   "execution_count": 19,
   "metadata": {},
   "outputs": [],
   "source": [
    "# Diabetes Dataset\n",
    "vector=['TP','glucose','DBP','TSFT','insulin','mass','DPF','age','status']\n",
    "diabetes = read_csv('data/pima-indians-diabetes.data',sep=',',names=vector,header=None)"
   ]
  },
  {
   "cell_type": "code",
   "execution_count": 20,
   "metadata": {},
   "outputs": [
    {
     "name": "stdout",
     "output_type": "stream",
     "text": [
      "<class 'pandas.core.frame.DataFrame'>\n",
      "RangeIndex: 768 entries, 0 to 767\n",
      "Data columns (total 9 columns):\n",
      "TP         768 non-null int64\n",
      "glucose    768 non-null int64\n",
      "DBP        768 non-null int64\n",
      "TSFT       768 non-null int64\n",
      "insulin    768 non-null int64\n",
      "mass       768 non-null float64\n",
      "DPF        768 non-null float64\n",
      "age        768 non-null int64\n",
      "status     768 non-null int64\n",
      "dtypes: float64(2), int64(7)\n",
      "memory usage: 54.1 KB\n"
     ]
    },
    {
     "data": {
      "text/html": [
       "<div>\n",
       "<table border=\"1\" class=\"dataframe\">\n",
       "  <thead>\n",
       "    <tr style=\"text-align: right;\">\n",
       "      <th></th>\n",
       "      <th>TP</th>\n",
       "      <th>glucose</th>\n",
       "      <th>DBP</th>\n",
       "      <th>TSFT</th>\n",
       "      <th>insulin</th>\n",
       "      <th>mass</th>\n",
       "      <th>DPF</th>\n",
       "      <th>age</th>\n",
       "      <th>status</th>\n",
       "    </tr>\n",
       "  </thead>\n",
       "  <tbody>\n",
       "    <tr>\n",
       "      <th>0</th>\n",
       "      <td>6</td>\n",
       "      <td>148</td>\n",
       "      <td>72</td>\n",
       "      <td>35</td>\n",
       "      <td>0</td>\n",
       "      <td>33.6</td>\n",
       "      <td>0.627</td>\n",
       "      <td>50</td>\n",
       "      <td>1</td>\n",
       "    </tr>\n",
       "    <tr>\n",
       "      <th>1</th>\n",
       "      <td>1</td>\n",
       "      <td>85</td>\n",
       "      <td>66</td>\n",
       "      <td>29</td>\n",
       "      <td>0</td>\n",
       "      <td>26.6</td>\n",
       "      <td>0.351</td>\n",
       "      <td>31</td>\n",
       "      <td>0</td>\n",
       "    </tr>\n",
       "    <tr>\n",
       "      <th>2</th>\n",
       "      <td>8</td>\n",
       "      <td>183</td>\n",
       "      <td>64</td>\n",
       "      <td>0</td>\n",
       "      <td>0</td>\n",
       "      <td>23.3</td>\n",
       "      <td>0.672</td>\n",
       "      <td>32</td>\n",
       "      <td>1</td>\n",
       "    </tr>\n",
       "    <tr>\n",
       "      <th>3</th>\n",
       "      <td>1</td>\n",
       "      <td>89</td>\n",
       "      <td>66</td>\n",
       "      <td>23</td>\n",
       "      <td>94</td>\n",
       "      <td>28.1</td>\n",
       "      <td>0.167</td>\n",
       "      <td>21</td>\n",
       "      <td>0</td>\n",
       "    </tr>\n",
       "    <tr>\n",
       "      <th>4</th>\n",
       "      <td>0</td>\n",
       "      <td>137</td>\n",
       "      <td>40</td>\n",
       "      <td>35</td>\n",
       "      <td>168</td>\n",
       "      <td>43.1</td>\n",
       "      <td>2.288</td>\n",
       "      <td>33</td>\n",
       "      <td>1</td>\n",
       "    </tr>\n",
       "  </tbody>\n",
       "</table>\n",
       "</div>"
      ],
      "text/plain": [
       "   TP  glucose  DBP  TSFT  insulin  mass    DPF  age  status\n",
       "0   6      148   72    35        0  33.6  0.627   50       1\n",
       "1   1       85   66    29        0  26.6  0.351   31       0\n",
       "2   8      183   64     0        0  23.3  0.672   32       1\n",
       "3   1       89   66    23       94  28.1  0.167   21       0\n",
       "4   0      137   40    35      168  43.1  2.288   33       1"
      ]
     },
     "execution_count": 20,
     "metadata": {},
     "output_type": "execute_result"
    }
   ],
   "source": [
    "diabetes.info()\n",
    "diabetes.head()"
   ]
  },
  {
   "cell_type": "markdown",
   "metadata": {},
   "source": [
    "En el caso de este dataset, las variables 0 no tienen sentido, por lo que serán reemplazadas por `NaN` ya que no contribuyen con la información."
   ]
  },
  {
   "cell_type": "code",
   "execution_count": 21,
   "metadata": {},
   "outputs": [],
   "source": [
    "diabetes.replace(0, np.nan);\n",
    "valid_cols = diabetes.loc[:, :'age'].columns"
   ]
  },
  {
   "cell_type": "code",
   "execution_count": 22,
   "metadata": {},
   "outputs": [],
   "source": [
    "@get_metrics\n",
    "def test_algorithm(cols, algoritmo, metrics=False, scaled=False):\n",
    "    X = diabetes.loc[:, cols].dropna()\n",
    "    y = diabetes.loc[X.index,'status']\n",
    "    if scaled:\n",
    "        X = StandardScaler().fit_transform(X)\n",
    "    \n",
    "    t0 = time.time()\n",
    "    algoritmo.fit(X)\n",
    "    t1 = time.time()\n",
    "\n",
    "    tiempo_ajuste = t1 - t0\n",
    "    if metrics:\n",
    "        print(\"Tiempo de ajuste: %.3f\" % tiempo_ajuste)\n",
    "    \n",
    "    y_pred = algoritmo.labels_.astype(np.int)\n",
    "    return (X, y, y_pred)"
   ]
  },
  {
   "cell_type": "markdown",
   "metadata": {},
   "source": [
    "### Average Linkage"
   ]
  },
  {
   "cell_type": "code",
   "execution_count": 23,
   "metadata": {},
   "outputs": [
    {
     "data": {
      "image/png": "[encoded data removed]",
      "text/plain": [
       "<matplotlib.figure.Figure at 0x1130f5198>"
      ]
     },
     "metadata": {},
     "output_type": "display_data"
    }
   ],
   "source": [
    "fig, ax = plt.subplots(figsize=(10,5))\n",
    "\n",
    "average_linkage_silhouette = []\n",
    "\n",
    "for n in range(2, 50):\n",
    "    algoritmo = cluster.AgglomerativeClustering(linkage=\"average\", \n",
    "                            affinity=\"cityblock\", n_clusters=n)\n",
    "    \n",
    "    y_pred, silhouette = test_algorithm(valid_cols, algoritmo, False)\n",
    "    \n",
    "    average_linkage_silhouette.append(silhouette)\n",
    "    \n",
    "best_case = average_linkage_silhouette.index(max(average_linkage_silhouette))\n",
    "ax.scatter(range(2, 50), average_linkage_silhouette)\n",
    "ax.set_ylabel(\"Índice de Silhouette\")\n",
    "ax.set_xlabel(\"Número de clusters\");"
   ]
  },
  {
   "cell_type": "code",
   "execution_count": 24,
   "metadata": {},
   "outputs": [
    {
     "name": "stdout",
     "output_type": "stream",
     "text": [
      "Índice de silhouette con 2 clusters: 0.728518\n"
     ]
    }
   ],
   "source": [
    "print(\"Índice de silhouette con %d clusters: %f\" % (best_case+2, average_linkage_silhouette[best_case]))"
   ]
  },
  {
   "cell_type": "markdown",
   "metadata": {},
   "source": [
    "### K-Means"
   ]
  },
  {
   "cell_type": "code",
   "execution_count": 25,
   "metadata": {},
   "outputs": [
    {
     "data": {
      "image/png": "[encoded data removed]",
      "text/plain": [
       "<matplotlib.figure.Figure at 0x1132185c0>"
      ]
     },
     "metadata": {},
     "output_type": "display_data"
    }
   ],
   "source": [
    "fig, ax = plt.subplots(figsize=(10,5))\n",
    "\n",
    "kmeans_silhouette = []\n",
    "for n in range(2, 50):\n",
    "    algoritmo = cluster.KMeans(n_clusters=n)\n",
    "    y_pred, silhouette = test_algorithm(valid_cols, algoritmo, False)\n",
    "    kmeans_silhouette.append(silhouette)\n",
    "\n",
    "best_case = kmeans_silhouette.index(max(kmeans_silhouette))\n",
    "ax.scatter(range(2, 50), kmeans_silhouette)\n",
    "ax.set_ylabel(\"Índice de Silhouette\")\n",
    "ax.set_xlabel(\"Número de clusters\");"
   ]
  },
  {
   "cell_type": "code",
   "execution_count": 26,
   "metadata": {},
   "outputs": [
    {
     "name": "stdout",
     "output_type": "stream",
     "text": [
      "Índice de silhouette con 2 clusters: 0.568790\n"
     ]
    }
   ],
   "source": [
    "print(\"Índice de silhouette con %d clusters: %f\" % (best_case+2, kmeans_silhouette[best_case]))"
   ]
  },
  {
   "cell_type": "markdown",
   "metadata": {},
   "source": [
    "### Ward"
   ]
  },
  {
   "cell_type": "code",
   "execution_count": 27,
   "metadata": {},
   "outputs": [
    {
     "data": {
      "image/png": "[encoded data removed]",
      "text/plain": [
       "<matplotlib.figure.Figure at 0x114538438>"
      ]
     },
     "metadata": {},
     "output_type": "display_data"
    }
   ],
   "source": [
    "fig, ax = plt.subplots(figsize=(10,5))\n",
    "\n",
    "ward_silhouette = []\n",
    "for n in range(2, 50):\n",
    "    algoritmo = cluster.AgglomerativeClustering(n_clusters=n, linkage='ward')\n",
    "    \n",
    "    y_pred, silhouette = test_algorithm(valid_cols, algoritmo, False)\n",
    "    ward_silhouette.append(silhouette)\n",
    "    \n",
    "best_case = ward_silhouette.index(max(ward_silhouette))\n",
    "ax.scatter(range(2, 50), ward_silhouette)\n",
    "ax.set_ylabel(\"Índice de Silhouette\")\n",
    "ax.set_xlabel(\"Número de clusters\");"
   ]
  },
  {
   "cell_type": "code",
   "execution_count": 28,
   "metadata": {},
   "outputs": [
    {
     "name": "stdout",
     "output_type": "stream",
     "text": [
      "Índice de silhouette con 2 clusters: 0.553268\n"
     ]
    }
   ],
   "source": [
    "print(\"Índice de silhouette con %d clusters: %f\" % (best_case+2, ward_silhouette[best_case]))"
   ]
  },
  {
   "cell_type": "code",
   "execution_count": 29,
   "metadata": {},
   "outputs": [
    {
     "data": {
      "text/markdown": [
       "| K | Average Linkage | K Means | Ward|\n",
       "|--:|----------------:|--------:|----:|\n",
       "| 2 | 0.728518 | 0.568790 | 0.553268 |\n",
       "| 3 | 0.698332 | 0.510429 | 0.528168 |\n",
       "| 4 | 0.521997 | 0.425157 | 0.390355 |\n",
       "| 5 | 0.519924 | 0.395379 | 0.397419 |\n",
       "| 6 | 0.337600 | 0.328334 | 0.326127 |\n",
       "| 7 | 0.316816 | 0.328495 | 0.352505 |\n",
       "| 8 | 0.281910 | 0.353653 | 0.353754 |\n",
       "| 9 | 0.277235 | 0.340042 | 0.313881 |\n",
       "| 10 | 0.267134 | 0.328877 | 0.304674 |\n",
       "| 11 | 0.354457 | 0.279201 | 0.258141 |\n",
       "| 12 | 0.306753 | 0.270119 | 0.249478 |\n",
       "| 13 | 0.279532 | 0.274587 | 0.242061 |\n",
       "| 14 | 0.278861 | 0.270386 | 0.249817 |\n",
       "| 15 | 0.288832 | 0.268381 | 0.246032 |\n",
       "| 16 | 0.284193 | 0.256765 | 0.246212 |\n",
       "| 17 | 0.265398 | 0.256308 | 0.248238 |\n",
       "| 18 | 0.266424 | 0.258711 | 0.248722 |\n",
       "| 19 | 0.265998 | 0.252962 | 0.236124 |\n",
       "| 20 | 0.216395 | 0.249089 | 0.233639 |\n",
       "| 21 | 0.214531 | 0.247125 | 0.229606 |\n",
       "| 22 | 0.185472 | 0.236222 | 0.227112 |\n",
       "| 23 | 0.189159 | 0.235837 | 0.228286 |\n",
       "| 24 | 0.204825 | 0.236230 | 0.214471 |\n",
       "| 25 | 0.163862 | 0.235643 | 0.214833 |\n",
       "| 26 | 0.130115 | 0.228904 | 0.207351 |\n",
       "| 27 | 0.113307 | 0.222408 | 0.207888 |\n",
       "| 28 | 0.109924 | 0.226962 | 0.207482 |\n",
       "| 29 | 0.154562 | 0.214138 | 0.200195 |\n",
       "| 30 | 0.188942 | 0.226085 | 0.198529 |\n",
       "| 31 | 0.188567 | 0.224567 | 0.197095 |\n",
       "| 32 | 0.181717 | 0.215804 | 0.198740 |\n",
       "| 33 | 0.180367 | 0.214316 | 0.199380 |\n",
       "| 34 | 0.181092 | 0.222699 | 0.199573 |\n",
       "| 35 | 0.179153 | 0.219706 | 0.202576 |\n",
       "| 36 | 0.177607 | 0.209995 | 0.204413 |\n",
       "| 37 | 0.175253 | 0.219859 | 0.199484 |\n",
       "| 38 | 0.169257 | 0.220097 | 0.197642 |\n",
       "| 39 | 0.162884 | 0.216707 | 0.197404 |\n",
       "| 40 | 0.163803 | 0.216388 | 0.194550 |\n",
       "| 41 | 0.162906 | 0.213774 | 0.193809 |\n",
       "| 42 | 0.154994 | 0.212349 | 0.192664 |\n",
       "| 43 | 0.144208 | 0.210052 | 0.192657 |\n",
       "| 44 | 0.145591 | 0.214733 | 0.194652 |\n",
       "| 45 | 0.150453 | 0.208445 | 0.194988 |\n",
       "| 46 | 0.141353 | 0.214503 | 0.192130 |\n",
       "| 47 | 0.136651 | 0.207207 | 0.192863 |\n",
       "| 48 | 0.132637 | 0.213717 | 0.193537 |\n",
       "| 49 | 0.132439 | 0.219318 | 0.192420 |\n",
       "\n"
      ],
      "text/plain": [
       "<IPython.core.display.Markdown object>"
      ]
     },
     "metadata": {},
     "output_type": "display_data"
    }
   ],
   "source": [
    "from IPython.display import display, Markdown, Latex\n",
    "\n",
    "to_print = \"| K | Average Linkage | K Means | Ward|\\n\"\n",
    "to_print += \"|--:|----------------:|--------:|----:|\\n\"\n",
    "for i in range(len(ward_silhouette)):\n",
    "    to_print += \"| %d | %f | %f | %f |\\n\" % (i+2, average_linkage_silhouette[i], \n",
    "                                             kmeans_silhouette[i], ward_silhouette[i])\n",
    "to_print += \"\\n\"\n",
    "display(Markdown(to_print))"
   ]
  },
  {
   "cell_type": "markdown",
   "metadata": {},
   "source": [
    "## Water Treatment"
   ]
  },
  {
   "cell_type": "markdown",
   "metadata": {},
   "source": [
    "En [este enlace](http://archive.ics.uci.edu/ml/machine-learning-databases/water-treatment/water-treatment.names)\n",
    "se muestran cuales son las clases de este dataset. Son un total de 13 clases en un formato\n",
    "no muy amigable, es por esto que sólo se trabajará para identificar la clase 4, la cuál es descrita como\n",
    "\n",
    ">Class 4: Secondary settler problems-3\n",
    ">\n",
    "> Objects (1 day): D-15/3/90, D-17/7/91 to D-19/7/91\n",
    "\n",
    "Dónde se tienen que los días 15/3/90, 17/7/91, 18/7/91 y 19/7/91 fueron afectados por este problema.\n",
    "Se decide clasificar según esto porque es uno de los problemas con más días."
   ]
  },
  {
   "cell_type": "code",
   "execution_count": 30,
   "metadata": {},
   "outputs": [],
   "source": [
    "header = ['DATE', 'Q-E', 'ZN-E', 'PH-E', 'DBO-E', 'DQO-E', 'SS-E', 'SSV-E', 'SED-E', 'COND-E', 'PH-P', 'DBO-P', 'SS-P', 'SSV-P',\n",
    "'SED-P', 'COND-P', 'PH-D', 'DBO-D', 'DQO-D', 'SS-D', 'SSV-D', 'SED-D', 'COND-D', 'PH-S', 'DBO-S',\n",
    "'DQO-S', 'SS-S', 'SSV-S', 'SED-S', 'COND-S', 'RD-DBO-P', 'RD-SS-P', 'RD-SED-P', 'RD-DBO-S', 'RD-DQO-S', 'RD-DBO-G',\n",
    "'RD-DQO-G', 'RD-SS-G', 'RD-SED-G']\n",
    "\n",
    "water = pd.read_csv('data/water-treatment.data', header=None)\n",
    "water.columns = header"
   ]
  },
  {
   "cell_type": "code",
   "execution_count": 31,
   "metadata": {},
   "outputs": [
    {
     "name": "stdout",
     "output_type": "stream",
     "text": [
      "<class 'pandas.core.frame.DataFrame'>\n",
      "RangeIndex: 527 entries, 0 to 526\n",
      "Data columns (total 39 columns):\n",
      "DATE        527 non-null object\n",
      "Q-E         527 non-null object\n",
      "ZN-E        527 non-null object\n",
      "PH-E        527 non-null float64\n",
      "DBO-E       527 non-null object\n",
      "DQO-E       527 non-null object\n",
      "SS-E        527 non-null object\n",
      "SSV-E       527 non-null object\n",
      "SED-E       527 non-null object\n",
      "COND-E      527 non-null int64\n",
      "PH-P        527 non-null float64\n",
      "DBO-P       527 non-null object\n",
      "SS-P        527 non-null int64\n",
      "SSV-P       527 non-null object\n",
      "SED-P       527 non-null object\n",
      "COND-P      527 non-null int64\n",
      "PH-D        527 non-null float64\n",
      "DBO-D       527 non-null object\n",
      "DQO-D       527 non-null object\n",
      "SS-D        527 non-null object\n",
      "SSV-D       527 non-null object\n",
      "SED-D       527 non-null object\n",
      "COND-D      527 non-null int64\n",
      "PH-S        527 non-null object\n",
      "DBO-S       527 non-null object\n",
      "DQO-S       527 non-null object\n",
      "SS-S        527 non-null object\n",
      "SSV-S       527 non-null object\n",
      "SED-S       527 non-null object\n",
      "COND-S      527 non-null object\n",
      "RD-DBO-P    527 non-null object\n",
      "RD-SS-P     527 non-null object\n",
      "RD-SED-P    527 non-null object\n",
      "RD-DBO-S    527 non-null object\n",
      "RD-DQO-S    527 non-null object\n",
      "RD-DBO-G    527 non-null object\n",
      "RD-DQO-G    527 non-null object\n",
      "RD-SS-G     527 non-null object\n",
      "RD-SED-G    527 non-null object\n",
      "dtypes: float64(3), int64(4), object(32)\n",
      "memory usage: 160.6+ KB\n"
     ]
    },
    {
     "data": {
      "text/html": [
       "<div>\n",
       "<table border=\"1\" class=\"dataframe\">\n",
       "  <thead>\n",
       "    <tr style=\"text-align: right;\">\n",
       "      <th></th>\n",
       "      <th>DATE</th>\n",
       "      <th>Q-E</th>\n",
       "      <th>ZN-E</th>\n",
       "      <th>PH-E</th>\n",
       "      <th>DBO-E</th>\n",
       "      <th>DQO-E</th>\n",
       "      <th>SS-E</th>\n",
       "      <th>SSV-E</th>\n",
       "      <th>SED-E</th>\n",
       "      <th>COND-E</th>\n",
       "      <th>...</th>\n",
       "      <th>COND-S</th>\n",
       "      <th>RD-DBO-P</th>\n",
       "      <th>RD-SS-P</th>\n",
       "      <th>RD-SED-P</th>\n",
       "      <th>RD-DBO-S</th>\n",
       "      <th>RD-DQO-S</th>\n",
       "      <th>RD-DBO-G</th>\n",
       "      <th>RD-DQO-G</th>\n",
       "      <th>RD-SS-G</th>\n",
       "      <th>RD-SED-G</th>\n",
       "    </tr>\n",
       "  </thead>\n",
       "  <tbody>\n",
       "    <tr>\n",
       "      <th>0</th>\n",
       "      <td>D-1/3/90</td>\n",
       "      <td>44101</td>\n",
       "      <td>1.50</td>\n",
       "      <td>7.8</td>\n",
       "      <td>?</td>\n",
       "      <td>407</td>\n",
       "      <td>166</td>\n",
       "      <td>66.3</td>\n",
       "      <td>4.5</td>\n",
       "      <td>2110</td>\n",
       "      <td>...</td>\n",
       "      <td>2000</td>\n",
       "      <td>?</td>\n",
       "      <td>58.8</td>\n",
       "      <td>95.5</td>\n",
       "      <td>?</td>\n",
       "      <td>70.0</td>\n",
       "      <td>?</td>\n",
       "      <td>79.4</td>\n",
       "      <td>87.3</td>\n",
       "      <td>99.6</td>\n",
       "    </tr>\n",
       "    <tr>\n",
       "      <th>1</th>\n",
       "      <td>D-2/3/90</td>\n",
       "      <td>39024</td>\n",
       "      <td>3.00</td>\n",
       "      <td>7.7</td>\n",
       "      <td>?</td>\n",
       "      <td>443</td>\n",
       "      <td>214</td>\n",
       "      <td>69.2</td>\n",
       "      <td>6.5</td>\n",
       "      <td>2660</td>\n",
       "      <td>...</td>\n",
       "      <td>2590</td>\n",
       "      <td>?</td>\n",
       "      <td>60.7</td>\n",
       "      <td>94.8</td>\n",
       "      <td>?</td>\n",
       "      <td>80.8</td>\n",
       "      <td>?</td>\n",
       "      <td>79.5</td>\n",
       "      <td>92.1</td>\n",
       "      <td>100</td>\n",
       "    </tr>\n",
       "    <tr>\n",
       "      <th>2</th>\n",
       "      <td>D-4/3/90</td>\n",
       "      <td>32229</td>\n",
       "      <td>5.00</td>\n",
       "      <td>7.6</td>\n",
       "      <td>?</td>\n",
       "      <td>528</td>\n",
       "      <td>186</td>\n",
       "      <td>69.9</td>\n",
       "      <td>3.4</td>\n",
       "      <td>1666</td>\n",
       "      <td>...</td>\n",
       "      <td>1888</td>\n",
       "      <td>?</td>\n",
       "      <td>58.2</td>\n",
       "      <td>95.6</td>\n",
       "      <td>?</td>\n",
       "      <td>52.9</td>\n",
       "      <td>?</td>\n",
       "      <td>75.8</td>\n",
       "      <td>88.7</td>\n",
       "      <td>98.5</td>\n",
       "    </tr>\n",
       "    <tr>\n",
       "      <th>3</th>\n",
       "      <td>D-5/3/90</td>\n",
       "      <td>35023</td>\n",
       "      <td>3.50</td>\n",
       "      <td>7.9</td>\n",
       "      <td>205</td>\n",
       "      <td>588</td>\n",
       "      <td>192</td>\n",
       "      <td>65.6</td>\n",
       "      <td>4.5</td>\n",
       "      <td>2430</td>\n",
       "      <td>...</td>\n",
       "      <td>1840</td>\n",
       "      <td>33.1</td>\n",
       "      <td>64.2</td>\n",
       "      <td>95.3</td>\n",
       "      <td>87.3</td>\n",
       "      <td>72.3</td>\n",
       "      <td>90.2</td>\n",
       "      <td>82.3</td>\n",
       "      <td>89.6</td>\n",
       "      <td>100</td>\n",
       "    </tr>\n",
       "    <tr>\n",
       "      <th>4</th>\n",
       "      <td>D-6/3/90</td>\n",
       "      <td>36924</td>\n",
       "      <td>1.50</td>\n",
       "      <td>8.0</td>\n",
       "      <td>242</td>\n",
       "      <td>496</td>\n",
       "      <td>176</td>\n",
       "      <td>64.8</td>\n",
       "      <td>4.0</td>\n",
       "      <td>2110</td>\n",
       "      <td>...</td>\n",
       "      <td>2120</td>\n",
       "      <td>?</td>\n",
       "      <td>62.7</td>\n",
       "      <td>95.6</td>\n",
       "      <td>?</td>\n",
       "      <td>71.0</td>\n",
       "      <td>92.1</td>\n",
       "      <td>78.2</td>\n",
       "      <td>87.5</td>\n",
       "      <td>99.5</td>\n",
       "    </tr>\n",
       "  </tbody>\n",
       "</table>\n",
       "<p>5 rows × 39 columns</p>\n",
       "</div>"
      ],
      "text/plain": [
       "       DATE    Q-E  ZN-E  PH-E DBO-E DQO-E SS-E SSV-E SED-E  COND-E   ...     \\\n",
       "0  D-1/3/90  44101  1.50   7.8     ?   407  166  66.3   4.5    2110   ...      \n",
       "1  D-2/3/90  39024  3.00   7.7     ?   443  214  69.2   6.5    2660   ...      \n",
       "2  D-4/3/90  32229  5.00   7.6     ?   528  186  69.9   3.4    1666   ...      \n",
       "3  D-5/3/90  35023  3.50   7.9   205   588  192  65.6   4.5    2430   ...      \n",
       "4  D-6/3/90  36924  1.50   8.0   242   496  176  64.8   4.0    2110   ...      \n",
       "\n",
       "   COND-S RD-DBO-P  RD-SS-P RD-SED-P RD-DBO-S  RD-DQO-S  RD-DBO-G RD-DQO-G  \\\n",
       "0    2000        ?     58.8     95.5        ?      70.0         ?     79.4   \n",
       "1    2590        ?     60.7     94.8        ?      80.8         ?     79.5   \n",
       "2    1888        ?     58.2     95.6        ?      52.9         ?     75.8   \n",
       "3    1840     33.1     64.2     95.3     87.3      72.3      90.2     82.3   \n",
       "4    2120        ?     62.7     95.6        ?      71.0      92.1     78.2   \n",
       "\n",
       "  RD-SS-G RD-SED-G  \n",
       "0    87.3     99.6  \n",
       "1    92.1      100  \n",
       "2    88.7     98.5  \n",
       "3    89.6      100  \n",
       "4    87.5     99.5  \n",
       "\n",
       "[5 rows x 39 columns]"
      ]
     },
     "execution_count": 31,
     "metadata": {},
     "output_type": "execute_result"
    }
   ],
   "source": [
    "water.info()\n",
    "water.head()"
   ]
  },
  {
   "cell_type": "markdown",
   "metadata": {},
   "source": [
    "Aquí se agregará la clase de la columna a los días previamente mencionados"
   ]
  },
  {
   "cell_type": "code",
   "execution_count": 32,
   "metadata": {},
   "outputs": [],
   "source": [
    "days_affected = [\"D-15/3/90\", \"D-17/7/91\", \"D-18/7/91\", \"D-19/7/91\"]\n",
    "\n",
    "water['problem'] = 0\n",
    "for day in days_affected:\n",
    "    water.loc[water['DATE'] == day,'problem'] = 1"
   ]
  },
  {
   "cell_type": "code",
   "execution_count": 33,
   "metadata": {},
   "outputs": [],
   "source": [
    "for col in water.loc[:,'Q-E':].columns:\n",
    "    water[col] = pd.to_numeric(water[col], errors='coerse')"
   ]
  },
  {
   "cell_type": "code",
   "execution_count": 34,
   "metadata": {},
   "outputs": [
    {
     "data": {
      "text/plain": [
       "Index(['DATE', 'Q-E', 'ZN-E', 'PH-E', 'DBO-E', 'DQO-E', 'SS-E', 'SSV-E',\n",
       "       'SED-E', 'COND-E', 'PH-P', 'DBO-P', 'SS-P', 'SSV-P', 'SED-P', 'COND-P',\n",
       "       'PH-D', 'DBO-D', 'DQO-D', 'SS-D', 'SSV-D', 'SED-D', 'COND-D', 'PH-S',\n",
       "       'DBO-S', 'DQO-S', 'SS-S', 'SSV-S', 'SED-S', 'COND-S', 'RD-DBO-P',\n",
       "       'RD-SS-P', 'RD-SED-P', 'RD-DBO-S', 'RD-DQO-S', 'RD-DBO-G', 'RD-DQO-G',\n",
       "       'RD-SS-G', 'RD-SED-G', 'problem'],\n",
       "      dtype='object')"
      ]
     },
     "execution_count": 34,
     "metadata": {},
     "output_type": "execute_result"
    }
   ],
   "source": [
    "water.columns"
   ]
  },
  {
   "cell_type": "code",
   "execution_count": 35,
   "metadata": {},
   "outputs": [],
   "source": [
    "valid_cols = list(water.loc[:, 'Q-E':'RD-SED-G'].columns)"
   ]
  },
  {
   "cell_type": "code",
   "execution_count": 36,
   "metadata": {},
   "outputs": [],
   "source": [
    "@get_metrics\n",
    "def test_algorithm(cols, algoritmo, metrics=False, scaled=False):\n",
    "    X = water.loc[:, cols].dropna()\n",
    "    y = water.loc[X.index,'problem']\n",
    "    if scaled:\n",
    "        X = StandardScaler().fit_transform(X)\n",
    "    \n",
    "    t0 = time.time()\n",
    "    algoritmo.fit(X)\n",
    "    t1 = time.time()\n",
    "\n",
    "    tiempo_ajuste = t1 - t0\n",
    "    if metrics:\n",
    "        print(\"Tiempo de ajuste: %.3f\" % tiempo_ajuste)\n",
    "    \n",
    "    y_pred = algoritmo.labels_.astype(np.int)\n",
    "    return (X, y, y_pred)"
   ]
  },
  {
   "cell_type": "markdown",
   "metadata": {},
   "source": [
    "### Average Linkage"
   ]
  },
  {
   "cell_type": "code",
   "execution_count": 37,
   "metadata": {},
   "outputs": [
    {
     "data": {
      "image/png": "[encoded data removed]",
      "text/plain": [
       "<matplotlib.figure.Figure at 0x1145387f0>"
      ]
     },
     "metadata": {},
     "output_type": "display_data"
    }
   ],
   "source": [
    "fig, ax = plt.subplots(figsize=(10,5))\n",
    "\n",
    "average_linkage_silhouette = []\n",
    "\n",
    "for n in range(2, 50):\n",
    "    algoritmo = cluster.AgglomerativeClustering(linkage=\"average\", \n",
    "                            affinity=\"cityblock\", n_clusters=n)\n",
    "    \n",
    "    y_pred, silhouette = test_algorithm(valid_cols, algoritmo, False)\n",
    "    \n",
    "    average_linkage_silhouette.append(silhouette)\n",
    "    \n",
    "best_case = average_linkage_silhouette.index(max(average_linkage_silhouette))\n",
    "ax.scatter(range(2, 50), average_linkage_silhouette)\n",
    "ax.set_ylabel(\"Índice de Silhouette\")\n",
    "ax.set_xlabel(\"Número de clusters\");"
   ]
  },
  {
   "cell_type": "code",
   "execution_count": 38,
   "metadata": {},
   "outputs": [
    {
     "name": "stdout",
     "output_type": "stream",
     "text": [
      "Índice de silhouette con 2 clusters: 0.664851\n"
     ]
    }
   ],
   "source": [
    "print(\"Índice de silhouette con %d clusters: %f\" % (best_case+2, average_linkage_silhouette[best_case]))"
   ]
  },
  {
   "cell_type": "markdown",
   "metadata": {},
   "source": [
    "### K-Means"
   ]
  },
  {
   "cell_type": "code",
   "execution_count": 39,
   "metadata": {},
   "outputs": [
    {
     "data": {
      "image/png": "[encoded data removed]",
      "text/plain": [
       "<matplotlib.figure.Figure at 0x1127ebe80>"
      ]
     },
     "metadata": {},
     "output_type": "display_data"
    }
   ],
   "source": [
    "fig, ax = plt.subplots(figsize=(10,5))\n",
    "\n",
    "kmeans_silhouette = []\n",
    "for n in range(2, 50):\n",
    "    algoritmo = cluster.KMeans(n_clusters=n)\n",
    "    y_pred, silhouette = test_algorithm(valid_cols, algoritmo, False)\n",
    "    kmeans_silhouette.append(silhouette)\n",
    "\n",
    "best_case = kmeans_silhouette.index(max(kmeans_silhouette))\n",
    "ax.scatter(range(2, 50), kmeans_silhouette)\n",
    "ax.set_ylabel(\"Índice de Silhouette\")\n",
    "ax.set_xlabel(\"Número de clusters\");"
   ]
  },
  {
   "cell_type": "code",
   "execution_count": 40,
   "metadata": {},
   "outputs": [
    {
     "name": "stdout",
     "output_type": "stream",
     "text": [
      "Índice de silhouette con 2 clusters: 0.583614\n"
     ]
    }
   ],
   "source": [
    "print(\"Índice de silhouette con %d clusters: %f\" % (best_case+2, kmeans_silhouette[best_case]))"
   ]
  },
  {
   "cell_type": "markdown",
   "metadata": {},
   "source": [
    "### Ward"
   ]
  },
  {
   "cell_type": "code",
   "execution_count": 41,
   "metadata": {},
   "outputs": [
    {
     "data": {
      "image/png": "[encoded data removed]",
      "text/plain": [
       "<matplotlib.figure.Figure at 0x1130f5400>"
      ]
     },
     "metadata": {},
     "output_type": "display_data"
    }
   ],
   "source": [
    "fig, ax = plt.subplots(figsize=(10,5))\n",
    "\n",
    "ward_silhouette = []\n",
    "for n in range(2, 50):\n",
    "    algoritmo = cluster.AgglomerativeClustering(n_clusters=n, linkage='ward')\n",
    "    \n",
    "    y_pred, silhouette = test_algorithm(valid_cols, algoritmo, False)\n",
    "    ward_silhouette.append(silhouette)\n",
    "    \n",
    "best_case = ward_silhouette.index(max(ward_silhouette))\n",
    "ax.scatter(range(2, 50), ward_silhouette)\n",
    "ax.set_ylabel(\"Índice de Silhouette\")\n",
    "ax.set_xlabel(\"Número de clusters\");"
   ]
  },
  {
   "cell_type": "code",
   "execution_count": 42,
   "metadata": {},
   "outputs": [
    {
     "name": "stdout",
     "output_type": "stream",
     "text": [
      "Índice de silhouette con 2 clusters: 0.576421\n"
     ]
    }
   ],
   "source": [
    "print(\"Índice de silhouette con %d clusters: %f\" % (best_case+2, ward_silhouette[best_case]))"
   ]
  },
  {
   "cell_type": "code",
   "execution_count": 43,
   "metadata": {},
   "outputs": [
    {
     "data": {
      "text/markdown": [
       "| K | Average Linkage | K Means | Ward|\n",
       "|--:|----------------:|--------:|----:|\n",
       "| 2 | 0.664851 | 0.583614 | 0.576421 |\n",
       "| 3 | 0.051654 | 0.462625 | 0.485379 |\n",
       "| 4 | 0.370008 | 0.502949 | 0.491370 |\n",
       "| 5 | 0.413427 | 0.490148 | 0.493763 |\n",
       "| 6 | 0.403917 | 0.492239 | 0.495139 |\n",
       "| 7 | 0.357238 | 0.468507 | 0.432903 |\n",
       "| 8 | 0.342937 | 0.444275 | 0.440951 |\n",
       "| 9 | 0.351005 | 0.426098 | 0.421052 |\n",
       "| 10 | 0.347043 | 0.429690 | 0.422407 |\n",
       "| 11 | 0.423488 | 0.415886 | 0.391021 |\n",
       "| 12 | 0.345565 | 0.397752 | 0.371676 |\n",
       "| 13 | 0.342311 | 0.401503 | 0.350397 |\n",
       "| 14 | 0.303433 | 0.376197 | 0.349051 |\n",
       "| 15 | 0.333347 | 0.368179 | 0.335231 |\n",
       "| 16 | 0.304765 | 0.358926 | 0.338717 |\n",
       "| 17 | 0.212357 | 0.372076 | 0.333809 |\n",
       "| 18 | 0.178226 | 0.361864 | 0.330431 |\n",
       "| 19 | 0.174870 | 0.361911 | 0.324951 |\n",
       "| 20 | 0.163849 | 0.347022 | 0.329375 |\n",
       "| 21 | 0.255241 | 0.324110 | 0.329313 |\n",
       "| 22 | 0.250781 | 0.336147 | 0.332239 |\n",
       "| 23 | 0.204458 | 0.331086 | 0.339331 |\n",
       "| 24 | 0.194520 | 0.344899 | 0.336091 |\n",
       "| 25 | 0.188779 | 0.330821 | 0.332025 |\n",
       "| 26 | 0.188729 | 0.323846 | 0.327714 |\n",
       "| 27 | 0.167839 | 0.328801 | 0.328386 |\n",
       "| 28 | 0.155291 | 0.329929 | 0.311215 |\n",
       "| 29 | 0.141318 | 0.314289 | 0.310587 |\n",
       "| 30 | 0.167901 | 0.322715 | 0.315191 |\n",
       "| 31 | 0.166022 | 0.319770 | 0.318539 |\n",
       "| 32 | 0.161895 | 0.320488 | 0.314899 |\n",
       "| 33 | 0.241562 | 0.322352 | 0.307318 |\n",
       "| 34 | 0.254277 | 0.319260 | 0.298257 |\n",
       "| 35 | 0.225403 | 0.315858 | 0.296381 |\n",
       "| 36 | 0.221752 | 0.314658 | 0.299739 |\n",
       "| 37 | 0.237242 | 0.311144 | 0.300669 |\n",
       "| 38 | 0.197045 | 0.326533 | 0.301269 |\n",
       "| 39 | 0.209165 | 0.318940 | 0.301427 |\n",
       "| 40 | 0.213079 | 0.316246 | 0.302575 |\n",
       "| 41 | 0.218773 | 0.312064 | 0.303164 |\n",
       "| 42 | 0.220791 | 0.323104 | 0.302803 |\n",
       "| 43 | 0.211228 | 0.316295 | 0.304627 |\n",
       "| 44 | 0.210389 | 0.311328 | 0.307381 |\n",
       "| 45 | 0.208079 | 0.304009 | 0.305502 |\n",
       "| 46 | 0.230043 | 0.307585 | 0.306206 |\n",
       "| 47 | 0.230563 | 0.308950 | 0.301991 |\n",
       "| 48 | 0.203867 | 0.306308 | 0.297925 |\n",
       "| 49 | 0.200267 | 0.308468 | 0.294671 |\n",
       "\n"
      ],
      "text/plain": [
       "<IPython.core.display.Markdown object>"
      ]
     },
     "metadata": {},
     "output_type": "display_data"
    }
   ],
   "source": [
    "from IPython.display import display, Markdown, Latex\n",
    "\n",
    "to_print = \"| K | Average Linkage | K Means | Ward|\\n\"\n",
    "to_print += \"|--:|----------------:|--------:|----:|\\n\"\n",
    "for i in range(len(ward_silhouette)):\n",
    "    to_print += \"| %d | %f | %f | %f |\\n\" % (i+2, average_linkage_silhouette[i], \n",
    "                                             kmeans_silhouette[i], ward_silhouette[i])\n",
    "to_print += \"\\n\"\n",
    "display(Markdown(to_print))"
   ]
  },
  {
   "cell_type": "code",
   "execution_count": null,
   "metadata": {},
   "outputs": [],
   "source": []
  }
 ],
 "metadata": {
  "kernelspec": {
   "display_name": "Python 3",
   "language": "python",
   "name": "python3"
  },
  "language_info": {
   "codemirror_mode": {
    "name": "ipython",
    "version": 3
   },
   "file_extension": ".py",
   "mimetype": "text/x-python",
   "name": "python",
   "nbconvert_exporter": "python",
   "pygments_lexer": "ipython3",
   "version": "3.6.2"
  }
 },
 "nbformat": 4,
 "nbformat_minor": 2
}
